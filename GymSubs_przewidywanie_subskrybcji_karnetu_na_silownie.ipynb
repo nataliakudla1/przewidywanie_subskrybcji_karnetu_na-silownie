{
 "cells": [
  {
   "cell_type": "code",
   "execution_count": 1,
   "metadata": {},
   "outputs": [],
   "source": [
    "import numpy as np\n",
    "import pandas as pd\n",
    "import matplotlib.pyplot as plt\n",
    "import seaborn as sns"
   ]
  },
  {
   "cell_type": "code",
   "execution_count": 2,
   "metadata": {},
   "outputs": [],
   "source": [
    "import warnings\n",
    "warnings.filterwarnings(\"ignore\")"
   ]
  },
  {
   "cell_type": "code",
   "execution_count": 3,
   "metadata": {},
   "outputs": [],
   "source": [
    "df=pd.read_excel(\"GymSubs.xlsx\", parse_dates=['dob'])"
   ]
  },
  {
   "cell_type": "code",
   "execution_count": 4,
   "metadata": {},
   "outputs": [
    {
     "data": {
      "text/html": [
       "<div>\n",
       "<style scoped>\n",
       "    .dataframe tbody tr th:only-of-type {\n",
       "        vertical-align: middle;\n",
       "    }\n",
       "\n",
       "    .dataframe tbody tr th {\n",
       "        vertical-align: top;\n",
       "    }\n",
       "\n",
       "    .dataframe thead th {\n",
       "        text-align: right;\n",
       "    }\n",
       "</style>\n",
       "<table border=\"1\" class=\"dataframe\">\n",
       "  <thead>\n",
       "    <tr style=\"text-align: right;\">\n",
       "      <th></th>\n",
       "      <th>user_id</th>\n",
       "      <th>target</th>\n",
       "      <th>name</th>\n",
       "      <th>sex</th>\n",
       "      <th>dob</th>\n",
       "      <th>location</th>\n",
       "      <th>location_population</th>\n",
       "      <th>occupation</th>\n",
       "      <th>hobbies</th>\n",
       "      <th>daily_commute</th>\n",
       "      <th>friends_number</th>\n",
       "      <th>relationship_status</th>\n",
       "      <th>education</th>\n",
       "      <th>credit_card_type</th>\n",
       "    </tr>\n",
       "  </thead>\n",
       "  <tbody>\n",
       "    <tr>\n",
       "      <td>0</td>\n",
       "      <td>0</td>\n",
       "      <td>1</td>\n",
       "      <td>Halina</td>\n",
       "      <td>NaN</td>\n",
       "      <td>1982-08-07</td>\n",
       "      <td>Piastów</td>\n",
       "      <td>22732</td>\n",
       "      <td>Teaching professionals</td>\n",
       "      <td>Fitness</td>\n",
       "      <td>46.0</td>\n",
       "      <td>196</td>\n",
       "      <td>Single</td>\n",
       "      <td>NaN</td>\n",
       "      <td>Visa</td>\n",
       "    </tr>\n",
       "    <tr>\n",
       "      <td>1</td>\n",
       "      <td>1</td>\n",
       "      <td>0</td>\n",
       "      <td>Eustachy</td>\n",
       "      <td>male</td>\n",
       "      <td>1971-10-28</td>\n",
       "      <td>Sokółka</td>\n",
       "      <td>18331</td>\n",
       "      <td>General and keyboard clerks</td>\n",
       "      <td>LARPing,Foreign language learning,Netball</td>\n",
       "      <td>55.0</td>\n",
       "      <td>243</td>\n",
       "      <td>Single</td>\n",
       "      <td>NaN</td>\n",
       "      <td>NaN</td>\n",
       "    </tr>\n",
       "    <tr>\n",
       "      <td>2</td>\n",
       "      <td>2</td>\n",
       "      <td>1</td>\n",
       "      <td>Egon</td>\n",
       "      <td>NaN</td>\n",
       "      <td>2000-07-05</td>\n",
       "      <td>Łaskarzew</td>\n",
       "      <td>4879</td>\n",
       "      <td>Protective services workers</td>\n",
       "      <td>Bodybuilding,Kabaddi</td>\n",
       "      <td>90.0</td>\n",
       "      <td>191</td>\n",
       "      <td>In relationship</td>\n",
       "      <td>3.0</td>\n",
       "      <td>NaN</td>\n",
       "    </tr>\n",
       "    <tr>\n",
       "      <td>3</td>\n",
       "      <td>3</td>\n",
       "      <td>0</td>\n",
       "      <td>Eulalia</td>\n",
       "      <td>female</td>\n",
       "      <td>1992-06-10</td>\n",
       "      <td>Bydgoszcz</td>\n",
       "      <td>352313</td>\n",
       "      <td>Customer services clerks</td>\n",
       "      <td>Badminton</td>\n",
       "      <td>88.0</td>\n",
       "      <td>164</td>\n",
       "      <td>In relationship</td>\n",
       "      <td>3.0</td>\n",
       "      <td>Visa</td>\n",
       "    </tr>\n",
       "    <tr>\n",
       "      <td>4</td>\n",
       "      <td>4</td>\n",
       "      <td>0</td>\n",
       "      <td>Hilary</td>\n",
       "      <td>NaN</td>\n",
       "      <td>1975-01-09</td>\n",
       "      <td>Osieczna</td>\n",
       "      <td>2322</td>\n",
       "      <td>Refuse workers and other elementary workers</td>\n",
       "      <td>Fitness,Embroidery,Lacemaking</td>\n",
       "      <td>40.0</td>\n",
       "      <td>119</td>\n",
       "      <td>Married with kids</td>\n",
       "      <td>5.0</td>\n",
       "      <td>NaN</td>\n",
       "    </tr>\n",
       "  </tbody>\n",
       "</table>\n",
       "</div>"
      ],
      "text/plain": [
       "   user_id  target      name     sex        dob    location  \\\n",
       "0        0       1    Halina     NaN 1982-08-07     Piastów   \n",
       "1        1       0  Eustachy    male 1971-10-28     Sokółka   \n",
       "2        2       1      Egon     NaN 2000-07-05  Łaskarzew   \n",
       "3        3       0   Eulalia  female 1992-06-10   Bydgoszcz   \n",
       "4        4       0    Hilary     NaN 1975-01-09    Osieczna   \n",
       "\n",
       "   location_population                                   occupation  \\\n",
       "0                22732                       Teaching professionals   \n",
       "1                18331                  General and keyboard clerks   \n",
       "2                 4879                  Protective services workers   \n",
       "3               352313                     Customer services clerks   \n",
       "4                 2322  Refuse workers and other elementary workers   \n",
       "\n",
       "                                     hobbies  daily_commute  friends_number  \\\n",
       "0                                    Fitness           46.0             196   \n",
       "1  LARPing,Foreign language learning,Netball           55.0             243   \n",
       "2                       Bodybuilding,Kabaddi           90.0             191   \n",
       "3                                  Badminton           88.0             164   \n",
       "4              Fitness,Embroidery,Lacemaking           40.0             119   \n",
       "\n",
       "  relationship_status  education credit_card_type  \n",
       "0              Single        NaN             Visa  \n",
       "1              Single        NaN              NaN  \n",
       "2     In relationship        3.0              NaN  \n",
       "3     In relationship        3.0             Visa  \n",
       "4   Married with kids        5.0              NaN  "
      ]
     },
     "execution_count": 4,
     "metadata": {},
     "output_type": "execute_result"
    }
   ],
   "source": [
    "df.head(5)"
   ]
  },
  {
   "cell_type": "code",
   "execution_count": 5,
   "metadata": {},
   "outputs": [
    {
     "name": "stdout",
     "output_type": "stream",
     "text": [
      "<class 'pandas.core.frame.DataFrame'>\n",
      "RangeIndex: 4000 entries, 0 to 3999\n",
      "Data columns (total 14 columns):\n",
      "user_id                4000 non-null int64\n",
      "target                 4000 non-null int64\n",
      "name                   3982 non-null object\n",
      "sex                    3616 non-null object\n",
      "dob                    3606 non-null datetime64[ns]\n",
      "location               4000 non-null object\n",
      "location_population    4000 non-null int64\n",
      "occupation             4000 non-null object\n",
      "hobbies                3320 non-null object\n",
      "daily_commute          3595 non-null float64\n",
      "friends_number         4000 non-null int64\n",
      "relationship_status    3607 non-null object\n",
      "education              3592 non-null float64\n",
      "credit_card_type       3572 non-null object\n",
      "dtypes: datetime64[ns](1), float64(2), int64(4), object(7)\n",
      "memory usage: 437.6+ KB\n"
     ]
    }
   ],
   "source": [
    "df.info()"
   ]
  },
  {
   "cell_type": "code",
   "execution_count": 6,
   "metadata": {},
   "outputs": [
    {
     "data": {
      "text/html": [
       "<div>\n",
       "<style scoped>\n",
       "    .dataframe tbody tr th:only-of-type {\n",
       "        vertical-align: middle;\n",
       "    }\n",
       "\n",
       "    .dataframe tbody tr th {\n",
       "        vertical-align: top;\n",
       "    }\n",
       "\n",
       "    .dataframe thead th {\n",
       "        text-align: right;\n",
       "    }\n",
       "</style>\n",
       "<table border=\"1\" class=\"dataframe\">\n",
       "  <thead>\n",
       "    <tr style=\"text-align: right;\">\n",
       "      <th></th>\n",
       "      <th>user_id</th>\n",
       "      <th>target</th>\n",
       "      <th>location_population</th>\n",
       "      <th>daily_commute</th>\n",
       "      <th>friends_number</th>\n",
       "      <th>education</th>\n",
       "    </tr>\n",
       "  </thead>\n",
       "  <tbody>\n",
       "    <tr>\n",
       "      <td>count</td>\n",
       "      <td>4000.000000</td>\n",
       "      <td>4000.000000</td>\n",
       "      <td>4.000000e+03</td>\n",
       "      <td>3595.000000</td>\n",
       "      <td>4000.000000</td>\n",
       "      <td>3592.000000</td>\n",
       "    </tr>\n",
       "    <tr>\n",
       "      <td>mean</td>\n",
       "      <td>1999.500000</td>\n",
       "      <td>0.201500</td>\n",
       "      <td>3.105877e+05</td>\n",
       "      <td>50.098748</td>\n",
       "      <td>199.877750</td>\n",
       "      <td>3.670935</td>\n",
       "    </tr>\n",
       "    <tr>\n",
       "      <td>std</td>\n",
       "      <td>1154.844867</td>\n",
       "      <td>0.401171</td>\n",
       "      <td>4.878360e+05</td>\n",
       "      <td>28.806060</td>\n",
       "      <td>90.494937</td>\n",
       "      <td>1.327582</td>\n",
       "    </tr>\n",
       "    <tr>\n",
       "      <td>min</td>\n",
       "      <td>0.000000</td>\n",
       "      <td>0.000000</td>\n",
       "      <td>7.860000e+02</td>\n",
       "      <td>0.000000</td>\n",
       "      <td>0.000000</td>\n",
       "      <td>1.000000</td>\n",
       "    </tr>\n",
       "    <tr>\n",
       "      <td>25%</td>\n",
       "      <td>999.750000</td>\n",
       "      <td>0.000000</td>\n",
       "      <td>2.435725e+04</td>\n",
       "      <td>25.000000</td>\n",
       "      <td>143.000000</td>\n",
       "      <td>3.000000</td>\n",
       "    </tr>\n",
       "    <tr>\n",
       "      <td>50%</td>\n",
       "      <td>1999.500000</td>\n",
       "      <td>0.000000</td>\n",
       "      <td>8.007200e+04</td>\n",
       "      <td>50.000000</td>\n",
       "      <td>199.000000</td>\n",
       "      <td>4.000000</td>\n",
       "    </tr>\n",
       "    <tr>\n",
       "      <td>75%</td>\n",
       "      <td>2999.250000</td>\n",
       "      <td>0.000000</td>\n",
       "      <td>3.523130e+05</td>\n",
       "      <td>75.000000</td>\n",
       "      <td>256.000000</td>\n",
       "      <td>5.000000</td>\n",
       "    </tr>\n",
       "    <tr>\n",
       "      <td>max</td>\n",
       "      <td>3999.000000</td>\n",
       "      <td>1.000000</td>\n",
       "      <td>1.764615e+06</td>\n",
       "      <td>99.000000</td>\n",
       "      <td>619.000000</td>\n",
       "      <td>6.000000</td>\n",
       "    </tr>\n",
       "  </tbody>\n",
       "</table>\n",
       "</div>"
      ],
      "text/plain": [
       "           user_id       target  location_population  daily_commute  \\\n",
       "count  4000.000000  4000.000000         4.000000e+03    3595.000000   \n",
       "mean   1999.500000     0.201500         3.105877e+05      50.098748   \n",
       "std    1154.844867     0.401171         4.878360e+05      28.806060   \n",
       "min       0.000000     0.000000         7.860000e+02       0.000000   \n",
       "25%     999.750000     0.000000         2.435725e+04      25.000000   \n",
       "50%    1999.500000     0.000000         8.007200e+04      50.000000   \n",
       "75%    2999.250000     0.000000         3.523130e+05      75.000000   \n",
       "max    3999.000000     1.000000         1.764615e+06      99.000000   \n",
       "\n",
       "       friends_number    education  \n",
       "count     4000.000000  3592.000000  \n",
       "mean       199.877750     3.670935  \n",
       "std         90.494937     1.327582  \n",
       "min          0.000000     1.000000  \n",
       "25%        143.000000     3.000000  \n",
       "50%        199.000000     4.000000  \n",
       "75%        256.000000     5.000000  \n",
       "max        619.000000     6.000000  "
      ]
     },
     "execution_count": 6,
     "metadata": {},
     "output_type": "execute_result"
    }
   ],
   "source": [
    "df.describe()"
   ]
  },
  {
   "cell_type": "code",
   "execution_count": 7,
   "metadata": {},
   "outputs": [
    {
     "data": {
      "text/html": [
       "<div>\n",
       "<style scoped>\n",
       "    .dataframe tbody tr th:only-of-type {\n",
       "        vertical-align: middle;\n",
       "    }\n",
       "\n",
       "    .dataframe tbody tr th {\n",
       "        vertical-align: top;\n",
       "    }\n",
       "\n",
       "    .dataframe thead th {\n",
       "        text-align: right;\n",
       "    }\n",
       "</style>\n",
       "<table border=\"1\" class=\"dataframe\">\n",
       "  <thead>\n",
       "    <tr style=\"text-align: right;\">\n",
       "      <th></th>\n",
       "      <th>name</th>\n",
       "      <th>sex</th>\n",
       "      <th>location</th>\n",
       "      <th>occupation</th>\n",
       "      <th>hobbies</th>\n",
       "      <th>relationship_status</th>\n",
       "      <th>credit_card_type</th>\n",
       "    </tr>\n",
       "  </thead>\n",
       "  <tbody>\n",
       "    <tr>\n",
       "      <td>count</td>\n",
       "      <td>3982</td>\n",
       "      <td>3616</td>\n",
       "      <td>4000</td>\n",
       "      <td>4000</td>\n",
       "      <td>3320</td>\n",
       "      <td>3607</td>\n",
       "      <td>3572</td>\n",
       "    </tr>\n",
       "    <tr>\n",
       "      <td>unique</td>\n",
       "      <td>208</td>\n",
       "      <td>2</td>\n",
       "      <td>645</td>\n",
       "      <td>43</td>\n",
       "      <td>2745</td>\n",
       "      <td>5</td>\n",
       "      <td>4</td>\n",
       "    </tr>\n",
       "    <tr>\n",
       "      <td>top</td>\n",
       "      <td>Franciszek</td>\n",
       "      <td>female</td>\n",
       "      <td>Warszawa</td>\n",
       "      <td>Science and engineering associate professionals</td>\n",
       "      <td>Gym</td>\n",
       "      <td>In relationship</td>\n",
       "      <td>Visa</td>\n",
       "    </tr>\n",
       "    <tr>\n",
       "      <td>freq</td>\n",
       "      <td>38</td>\n",
       "      <td>2040</td>\n",
       "      <td>332</td>\n",
       "      <td>106</td>\n",
       "      <td>20</td>\n",
       "      <td>1247</td>\n",
       "      <td>1777</td>\n",
       "    </tr>\n",
       "  </tbody>\n",
       "</table>\n",
       "</div>"
      ],
      "text/plain": [
       "              name     sex  location  \\\n",
       "count         3982    3616      4000   \n",
       "unique         208       2       645   \n",
       "top     Franciszek  female  Warszawa   \n",
       "freq            38    2040       332   \n",
       "\n",
       "                                             occupation hobbies  \\\n",
       "count                                              4000    3320   \n",
       "unique                                               43    2745   \n",
       "top     Science and engineering associate professionals     Gym   \n",
       "freq                                                106      20   \n",
       "\n",
       "       relationship_status credit_card_type  \n",
       "count                 3607             3572  \n",
       "unique                   5                4  \n",
       "top        In relationship             Visa  \n",
       "freq                  1247             1777  "
      ]
     },
     "execution_count": 7,
     "metadata": {},
     "output_type": "execute_result"
    }
   ],
   "source": [
    "df.describe(include=['O'])"
   ]
  },
  {
   "cell_type": "markdown",
   "metadata": {},
   "source": [
    "## zmienna celu "
   ]
  },
  {
   "cell_type": "code",
   "execution_count": 8,
   "metadata": {},
   "outputs": [
    {
     "data": {
      "text/plain": [
       "0    3194\n",
       "1     806\n",
       "Name: target, dtype: int64"
      ]
     },
     "execution_count": 8,
     "metadata": {},
     "output_type": "execute_result"
    }
   ],
   "source": [
    "df[\"target\"].value_counts()"
   ]
  },
  {
   "cell_type": "code",
   "execution_count": 9,
   "metadata": {},
   "outputs": [
    {
     "data": {
      "text/plain": [
       "0    0.7985\n",
       "1    0.2015\n",
       "Name: target, dtype: float64"
      ]
     },
     "execution_count": 9,
     "metadata": {},
     "output_type": "execute_result"
    }
   ],
   "source": [
    "df[\"target\"].value_counts(normalize=True)"
   ]
  },
  {
   "cell_type": "code",
   "execution_count": 10,
   "metadata": {},
   "outputs": [
    {
     "data": {
      "text/plain": [
       "<matplotlib.axes._subplots.AxesSubplot at 0x2b4efe6e588>"
      ]
     },
     "execution_count": 10,
     "metadata": {},
     "output_type": "execute_result"
    },
    {
     "data": {
      "image/png": "[encoded data removed]",
      "text/plain": [
       "<Figure size 432x288 with 1 Axes>"
      ]
     },
     "metadata": {
      "needs_background": "light"
     },
     "output_type": "display_data"
    }
   ],
   "source": [
    "sns.countplot(data=df, x='target')"
   ]
  },
  {
   "cell_type": "markdown",
   "metadata": {},
   "source": [
    "## zmienne kategoryczne"
   ]
  },
  {
   "cell_type": "code",
   "execution_count": 11,
   "metadata": {},
   "outputs": [],
   "source": [
    "zmienne_kategoryczne=[\"sex\",\"relationship_status\",\"credit_card_type\",\"education\"]"
   ]
  },
  {
   "cell_type": "code",
   "execution_count": 12,
   "metadata": {},
   "outputs": [
    {
     "data": {
      "image/png": "[encoded data removed]",
      "text/plain": [
       "<Figure size 1080x720 with 4 Axes>"
      ]
     },
     "metadata": {
      "needs_background": "light"
     },
     "output_type": "display_data"
    }
   ],
   "source": [
    "plt.figure(figsize=(15, 10))\n",
    "sns.set(font_scale= 1.2)\n",
    "sns.set_style('ticks')\n",
    "\n",
    "for i, feature in enumerate(zmienne_kategoryczne):\n",
    "    plt.subplot(2, 2, i+1)\n",
    "    sns.countplot(data=df, x=feature, hue='target')  \n",
    "    \n",
    "sns.despine()"
   ]
  },
  {
   "cell_type": "code",
   "execution_count": 13,
   "metadata": {},
   "outputs": [
    {
     "data": {
      "text/html": [
       "<div>\n",
       "<style scoped>\n",
       "    .dataframe tbody tr th:only-of-type {\n",
       "        vertical-align: middle;\n",
       "    }\n",
       "\n",
       "    .dataframe tbody tr th {\n",
       "        vertical-align: top;\n",
       "    }\n",
       "\n",
       "    .dataframe thead th {\n",
       "        text-align: right;\n",
       "    }\n",
       "</style>\n",
       "<table border=\"1\" class=\"dataframe\">\n",
       "  <thead>\n",
       "    <tr style=\"text-align: right;\">\n",
       "      <th></th>\n",
       "      <th>sex</th>\n",
       "      <th>target</th>\n",
       "    </tr>\n",
       "  </thead>\n",
       "  <tbody>\n",
       "    <tr>\n",
       "      <td>1</td>\n",
       "      <td>male</td>\n",
       "      <td>0.282995</td>\n",
       "    </tr>\n",
       "    <tr>\n",
       "      <td>0</td>\n",
       "      <td>female</td>\n",
       "      <td>0.139706</td>\n",
       "    </tr>\n",
       "  </tbody>\n",
       "</table>\n",
       "</div>"
      ],
      "text/plain": [
       "      sex    target\n",
       "1    male  0.282995\n",
       "0  female  0.139706"
      ]
     },
     "execution_count": 13,
     "metadata": {},
     "output_type": "execute_result"
    }
   ],
   "source": [
    "df[[\"sex\",\"target\"]].groupby([\"sex\"], as_index=False).mean().sort_values(by=\"target\", ascending=False)"
   ]
  },
  {
   "cell_type": "code",
   "execution_count": 14,
   "metadata": {},
   "outputs": [
    {
     "data": {
      "text/html": [
       "<div>\n",
       "<style scoped>\n",
       "    .dataframe tbody tr th:only-of-type {\n",
       "        vertical-align: middle;\n",
       "    }\n",
       "\n",
       "    .dataframe tbody tr th {\n",
       "        vertical-align: top;\n",
       "    }\n",
       "\n",
       "    .dataframe thead th {\n",
       "        text-align: right;\n",
       "    }\n",
       "</style>\n",
       "<table border=\"1\" class=\"dataframe\">\n",
       "  <thead>\n",
       "    <tr style=\"text-align: right;\">\n",
       "      <th></th>\n",
       "      <th>relationship_status</th>\n",
       "      <th>target</th>\n",
       "    </tr>\n",
       "  </thead>\n",
       "  <tbody>\n",
       "    <tr>\n",
       "      <td>4</td>\n",
       "      <td>Single</td>\n",
       "      <td>0.512821</td>\n",
       "    </tr>\n",
       "    <tr>\n",
       "      <td>1</td>\n",
       "      <td>In relationship</td>\n",
       "      <td>0.185245</td>\n",
       "    </tr>\n",
       "    <tr>\n",
       "      <td>0</td>\n",
       "      <td>Divorced</td>\n",
       "      <td>0.178571</td>\n",
       "    </tr>\n",
       "    <tr>\n",
       "      <td>2</td>\n",
       "      <td>Married</td>\n",
       "      <td>0.149398</td>\n",
       "    </tr>\n",
       "    <tr>\n",
       "      <td>3</td>\n",
       "      <td>Married with kids</td>\n",
       "      <td>0.042724</td>\n",
       "    </tr>\n",
       "  </tbody>\n",
       "</table>\n",
       "</div>"
      ],
      "text/plain": [
       "  relationship_status    target\n",
       "4              Single  0.512821\n",
       "1     In relationship  0.185245\n",
       "0            Divorced  0.178571\n",
       "2             Married  0.149398\n",
       "3   Married with kids  0.042724"
      ]
     },
     "execution_count": 14,
     "metadata": {},
     "output_type": "execute_result"
    }
   ],
   "source": [
    "df[[\"relationship_status\",\"target\"]].groupby([\"relationship_status\"], as_index=False).mean().sort_values(by=\"target\",ascending=False)"
   ]
  },
  {
   "cell_type": "code",
   "execution_count": 15,
   "metadata": {},
   "outputs": [
    {
     "data": {
      "text/html": [
       "<div>\n",
       "<style scoped>\n",
       "    .dataframe tbody tr th:only-of-type {\n",
       "        vertical-align: middle;\n",
       "    }\n",
       "\n",
       "    .dataframe tbody tr th {\n",
       "        vertical-align: top;\n",
       "    }\n",
       "\n",
       "    .dataframe thead th {\n",
       "        text-align: right;\n",
       "    }\n",
       "</style>\n",
       "<table border=\"1\" class=\"dataframe\">\n",
       "  <thead>\n",
       "    <tr style=\"text-align: right;\">\n",
       "      <th></th>\n",
       "      <th>credit_card_type</th>\n",
       "      <th>target</th>\n",
       "    </tr>\n",
       "  </thead>\n",
       "  <tbody>\n",
       "    <tr>\n",
       "      <td>2</td>\n",
       "      <td>Revolut</td>\n",
       "      <td>0.229299</td>\n",
       "    </tr>\n",
       "    <tr>\n",
       "      <td>3</td>\n",
       "      <td>Visa</td>\n",
       "      <td>0.211030</td>\n",
       "    </tr>\n",
       "    <tr>\n",
       "      <td>0</td>\n",
       "      <td>American Express</td>\n",
       "      <td>0.200000</td>\n",
       "    </tr>\n",
       "    <tr>\n",
       "      <td>1</td>\n",
       "      <td>Mastercard</td>\n",
       "      <td>0.194011</td>\n",
       "    </tr>\n",
       "  </tbody>\n",
       "</table>\n",
       "</div>"
      ],
      "text/plain": [
       "   credit_card_type    target\n",
       "2           Revolut  0.229299\n",
       "3              Visa  0.211030\n",
       "0  American Express  0.200000\n",
       "1        Mastercard  0.194011"
      ]
     },
     "execution_count": 15,
     "metadata": {},
     "output_type": "execute_result"
    }
   ],
   "source": [
    "df[[\"credit_card_type\",\"target\"]].groupby([\"credit_card_type\"], as_index=False).mean().sort_values(by=\"target\", ascending=False)"
   ]
  },
  {
   "cell_type": "code",
   "execution_count": 16,
   "metadata": {},
   "outputs": [
    {
     "data": {
      "text/html": [
       "<div>\n",
       "<style scoped>\n",
       "    .dataframe tbody tr th:only-of-type {\n",
       "        vertical-align: middle;\n",
       "    }\n",
       "\n",
       "    .dataframe tbody tr th {\n",
       "        vertical-align: top;\n",
       "    }\n",
       "\n",
       "    .dataframe thead th {\n",
       "        text-align: right;\n",
       "    }\n",
       "</style>\n",
       "<table border=\"1\" class=\"dataframe\">\n",
       "  <thead>\n",
       "    <tr style=\"text-align: right;\">\n",
       "      <th></th>\n",
       "      <th>education</th>\n",
       "      <th>target</th>\n",
       "    </tr>\n",
       "  </thead>\n",
       "  <tbody>\n",
       "    <tr>\n",
       "      <td>4</td>\n",
       "      <td>5.0</td>\n",
       "      <td>0.206623</td>\n",
       "    </tr>\n",
       "    <tr>\n",
       "      <td>1</td>\n",
       "      <td>2.0</td>\n",
       "      <td>0.200397</td>\n",
       "    </tr>\n",
       "    <tr>\n",
       "      <td>3</td>\n",
       "      <td>4.0</td>\n",
       "      <td>0.200000</td>\n",
       "    </tr>\n",
       "    <tr>\n",
       "      <td>2</td>\n",
       "      <td>3.0</td>\n",
       "      <td>0.197386</td>\n",
       "    </tr>\n",
       "    <tr>\n",
       "      <td>5</td>\n",
       "      <td>6.0</td>\n",
       "      <td>0.197026</td>\n",
       "    </tr>\n",
       "    <tr>\n",
       "      <td>0</td>\n",
       "      <td>1.0</td>\n",
       "      <td>0.183761</td>\n",
       "    </tr>\n",
       "  </tbody>\n",
       "</table>\n",
       "</div>"
      ],
      "text/plain": [
       "   education    target\n",
       "4        5.0  0.206623\n",
       "1        2.0  0.200397\n",
       "3        4.0  0.200000\n",
       "2        3.0  0.197386\n",
       "5        6.0  0.197026\n",
       "0        1.0  0.183761"
      ]
     },
     "execution_count": 16,
     "metadata": {},
     "output_type": "execute_result"
    }
   ],
   "source": [
    "df[[\"education\",\"target\"]].groupby([\"education\"], as_index=False).mean().sort_values(by=\"target\", ascending=False)"
   ]
  },
  {
   "cell_type": "markdown",
   "metadata": {},
   "source": [
    "## zmienne ilościowe "
   ]
  },
  {
   "cell_type": "markdown",
   "metadata": {},
   "source": [
    "#### zamiana zmiennej dob - data urodzenia na wiek"
   ]
  },
  {
   "cell_type": "code",
   "execution_count": 17,
   "metadata": {},
   "outputs": [],
   "source": [
    "df[\"Age\"]=df[\"dob\"].apply(lambda x: 2021-x.year)"
   ]
  },
  {
   "cell_type": "code",
   "execution_count": 18,
   "metadata": {},
   "outputs": [
    {
     "data": {
      "text/plain": [
       "count    3606.000000\n",
       "mean       42.437327\n",
       "std        13.548734\n",
       "min        20.000000\n",
       "25%        32.000000\n",
       "50%        42.000000\n",
       "75%        52.000000\n",
       "max        99.000000\n",
       "Name: Age, dtype: float64"
      ]
     },
     "execution_count": 18,
     "metadata": {},
     "output_type": "execute_result"
    }
   ],
   "source": [
    "df[\"Age\"].describe()"
   ]
  },
  {
   "cell_type": "code",
   "execution_count": 19,
   "metadata": {},
   "outputs": [],
   "source": [
    "df.drop(\"dob\" ,axis=1, inplace=True)"
   ]
  },
  {
   "cell_type": "code",
   "execution_count": 20,
   "metadata": {},
   "outputs": [
    {
     "data": {
      "text/plain": [
       "21.0    187\n",
       "22.0    117\n",
       "43.0    108\n",
       "45.0    107\n",
       "39.0    106\n",
       "       ... \n",
       "88.0      1\n",
       "81.0      1\n",
       "94.0      1\n",
       "86.0      1\n",
       "85.0      1\n",
       "Name: Age, Length: 70, dtype: int64"
      ]
     },
     "execution_count": 20,
     "metadata": {},
     "output_type": "execute_result"
    }
   ],
   "source": [
    "df[\"Age\"].value_counts()"
   ]
  },
  {
   "cell_type": "code",
   "execution_count": 21,
   "metadata": {},
   "outputs": [
    {
     "data": {
      "text/html": [
       "<div>\n",
       "<style scoped>\n",
       "    .dataframe tbody tr th:only-of-type {\n",
       "        vertical-align: middle;\n",
       "    }\n",
       "\n",
       "    .dataframe tbody tr th {\n",
       "        vertical-align: top;\n",
       "    }\n",
       "\n",
       "    .dataframe thead th {\n",
       "        text-align: right;\n",
       "    }\n",
       "</style>\n",
       "<table border=\"1\" class=\"dataframe\">\n",
       "  <thead>\n",
       "    <tr style=\"text-align: right;\">\n",
       "      <th></th>\n",
       "      <th>user_id</th>\n",
       "      <th>target</th>\n",
       "      <th>name</th>\n",
       "      <th>sex</th>\n",
       "      <th>location</th>\n",
       "      <th>location_population</th>\n",
       "      <th>occupation</th>\n",
       "      <th>hobbies</th>\n",
       "      <th>daily_commute</th>\n",
       "      <th>friends_number</th>\n",
       "      <th>relationship_status</th>\n",
       "      <th>education</th>\n",
       "      <th>credit_card_type</th>\n",
       "      <th>Age</th>\n",
       "    </tr>\n",
       "  </thead>\n",
       "  <tbody>\n",
       "    <tr>\n",
       "      <td>0</td>\n",
       "      <td>0</td>\n",
       "      <td>1</td>\n",
       "      <td>Halina</td>\n",
       "      <td>NaN</td>\n",
       "      <td>Piastów</td>\n",
       "      <td>22732</td>\n",
       "      <td>Teaching professionals</td>\n",
       "      <td>Fitness</td>\n",
       "      <td>46.0</td>\n",
       "      <td>196</td>\n",
       "      <td>Single</td>\n",
       "      <td>NaN</td>\n",
       "      <td>Visa</td>\n",
       "      <td>39.0</td>\n",
       "    </tr>\n",
       "    <tr>\n",
       "      <td>1</td>\n",
       "      <td>1</td>\n",
       "      <td>0</td>\n",
       "      <td>Eustachy</td>\n",
       "      <td>male</td>\n",
       "      <td>Sokółka</td>\n",
       "      <td>18331</td>\n",
       "      <td>General and keyboard clerks</td>\n",
       "      <td>LARPing,Foreign language learning,Netball</td>\n",
       "      <td>55.0</td>\n",
       "      <td>243</td>\n",
       "      <td>Single</td>\n",
       "      <td>NaN</td>\n",
       "      <td>NaN</td>\n",
       "      <td>50.0</td>\n",
       "    </tr>\n",
       "    <tr>\n",
       "      <td>2</td>\n",
       "      <td>2</td>\n",
       "      <td>1</td>\n",
       "      <td>Egon</td>\n",
       "      <td>NaN</td>\n",
       "      <td>Łaskarzew</td>\n",
       "      <td>4879</td>\n",
       "      <td>Protective services workers</td>\n",
       "      <td>Bodybuilding,Kabaddi</td>\n",
       "      <td>90.0</td>\n",
       "      <td>191</td>\n",
       "      <td>In relationship</td>\n",
       "      <td>3.0</td>\n",
       "      <td>NaN</td>\n",
       "      <td>21.0</td>\n",
       "    </tr>\n",
       "    <tr>\n",
       "      <td>3</td>\n",
       "      <td>3</td>\n",
       "      <td>0</td>\n",
       "      <td>Eulalia</td>\n",
       "      <td>female</td>\n",
       "      <td>Bydgoszcz</td>\n",
       "      <td>352313</td>\n",
       "      <td>Customer services clerks</td>\n",
       "      <td>Badminton</td>\n",
       "      <td>88.0</td>\n",
       "      <td>164</td>\n",
       "      <td>In relationship</td>\n",
       "      <td>3.0</td>\n",
       "      <td>Visa</td>\n",
       "      <td>29.0</td>\n",
       "    </tr>\n",
       "    <tr>\n",
       "      <td>4</td>\n",
       "      <td>4</td>\n",
       "      <td>0</td>\n",
       "      <td>Hilary</td>\n",
       "      <td>NaN</td>\n",
       "      <td>Osieczna</td>\n",
       "      <td>2322</td>\n",
       "      <td>Refuse workers and other elementary workers</td>\n",
       "      <td>Fitness,Embroidery,Lacemaking</td>\n",
       "      <td>40.0</td>\n",
       "      <td>119</td>\n",
       "      <td>Married with kids</td>\n",
       "      <td>5.0</td>\n",
       "      <td>NaN</td>\n",
       "      <td>46.0</td>\n",
       "    </tr>\n",
       "  </tbody>\n",
       "</table>\n",
       "</div>"
      ],
      "text/plain": [
       "   user_id  target      name     sex    location  location_population  \\\n",
       "0        0       1    Halina     NaN     Piastów                22732   \n",
       "1        1       0  Eustachy    male     Sokółka                18331   \n",
       "2        2       1      Egon     NaN  Łaskarzew                 4879   \n",
       "3        3       0   Eulalia  female   Bydgoszcz               352313   \n",
       "4        4       0    Hilary     NaN    Osieczna                 2322   \n",
       "\n",
       "                                    occupation  \\\n",
       "0                       Teaching professionals   \n",
       "1                  General and keyboard clerks   \n",
       "2                  Protective services workers   \n",
       "3                     Customer services clerks   \n",
       "4  Refuse workers and other elementary workers   \n",
       "\n",
       "                                     hobbies  daily_commute  friends_number  \\\n",
       "0                                    Fitness           46.0             196   \n",
       "1  LARPing,Foreign language learning,Netball           55.0             243   \n",
       "2                       Bodybuilding,Kabaddi           90.0             191   \n",
       "3                                  Badminton           88.0             164   \n",
       "4              Fitness,Embroidery,Lacemaking           40.0             119   \n",
       "\n",
       "  relationship_status  education credit_card_type   Age  \n",
       "0              Single        NaN             Visa  39.0  \n",
       "1              Single        NaN              NaN  50.0  \n",
       "2     In relationship        3.0              NaN  21.0  \n",
       "3     In relationship        3.0             Visa  29.0  \n",
       "4   Married with kids        5.0              NaN  46.0  "
      ]
     },
     "execution_count": 21,
     "metadata": {},
     "output_type": "execute_result"
    }
   ],
   "source": [
    "df.head()"
   ]
  },
  {
   "cell_type": "code",
   "execution_count": 22,
   "metadata": {},
   "outputs": [],
   "source": [
    "zmienne_ilosciowe=[\"Age\",\"daily_commute\"]"
   ]
  },
  {
   "cell_type": "code",
   "execution_count": 23,
   "metadata": {},
   "outputs": [
    {
     "data": {
      "image/png": "[encoded data removed]",
      "text/plain": [
       "<Figure size 1080x288 with 2 Axes>"
      ]
     },
     "metadata": {},
     "output_type": "display_data"
    }
   ],
   "source": [
    "plt.figure(figsize=(15, 4))\n",
    "sns.set(font_scale= 1.2)\n",
    "sns.set_style('ticks')\n",
    "\n",
    "for i, feature in enumerate(zmienne_ilosciowe):\n",
    "    plt.subplot(2, 2, i+1)\n",
    "    ax = sns.kdeplot(df[feature][df['target'] == 1], color=\"blue\", shade=True)\n",
    "    sns.kdeplot(df[feature][df['target'] == 0], color=\"red\", shade=True)\n",
    "    plt.legend(['Interesed', 'Not interesed'])\n",
    "    ax.set(xlabel=feature)\n",
    "    plt.xlim(-5,150) "
   ]
  },
  {
   "cell_type": "code",
   "execution_count": 24,
   "metadata": {},
   "outputs": [
    {
     "data": {
      "text/plain": [
       "(-5, 400)"
      ]
     },
     "execution_count": 24,
     "metadata": {},
     "output_type": "execute_result"
    },
    {
     "data": {
      "image/png": "[encoded data removed]",
      "text/plain": [
       "<Figure size 1080x288 with 1 Axes>"
      ]
     },
     "metadata": {},
     "output_type": "display_data"
    }
   ],
   "source": [
    "plt.figure(figsize=(15, 4))\n",
    "sns.set(font_scale= 1.2)\n",
    "sns.set_style('ticks')\n",
    "ax = sns.kdeplot(df[\"friends_number\"][df['target'] == 1], color=\"blue\", shade=True)\n",
    "sns.kdeplot(df[\"friends_number\"][df['target'] == 0], color=\"red\", shade=True)\n",
    "plt.legend(['Interesed', 'Not interesed'])\n",
    "ax.set(xlabel=\"friends_number\")\n",
    "plt.xlim(-5,400) "
   ]
  },
  {
   "cell_type": "code",
   "execution_count": 25,
   "metadata": {},
   "outputs": [
    {
     "data": {
      "text/plain": [
       "(-5, 1000000)"
      ]
     },
     "execution_count": 25,
     "metadata": {},
     "output_type": "execute_result"
    },
    {
     "data": {
      "image/png": "[encoded data removed]",
      "text/plain": [
       "<Figure size 1080x288 with 1 Axes>"
      ]
     },
     "metadata": {},
     "output_type": "display_data"
    }
   ],
   "source": [
    "plt.figure(figsize=(15, 4))\n",
    "sns.set(font_scale= 1.2)\n",
    "sns.set_style('ticks')\n",
    "\n",
    "ax = sns.kdeplot(df[\"location_population\"][df['target'] == 1], color=\"blue\", shade=True)\n",
    "sns.kdeplot(df[\"location_population\"][df['target'] == 0], color=\"red\", shade=True)\n",
    "plt.legend(['Interesed', 'Not interesed'])\n",
    "ax.set(xlabel=\"location_population\")\n",
    "plt.xlim(-5,1000000) \n"
   ]
  },
  {
   "cell_type": "code",
   "execution_count": 26,
   "metadata": {},
   "outputs": [
    {
     "data": {
      "text/html": [
       "<div>\n",
       "<style scoped>\n",
       "    .dataframe tbody tr th:only-of-type {\n",
       "        vertical-align: middle;\n",
       "    }\n",
       "\n",
       "    .dataframe tbody tr th {\n",
       "        vertical-align: top;\n",
       "    }\n",
       "\n",
       "    .dataframe thead tr th {\n",
       "        text-align: left;\n",
       "    }\n",
       "\n",
       "    .dataframe thead tr:last-of-type th {\n",
       "        text-align: right;\n",
       "    }\n",
       "</style>\n",
       "<table border=\"1\" class=\"dataframe\">\n",
       "  <thead>\n",
       "    <tr>\n",
       "      <th></th>\n",
       "      <th colspan=\"2\" halign=\"left\">Age</th>\n",
       "      <th colspan=\"2\" halign=\"left\">daily_commute</th>\n",
       "      <th colspan=\"2\" halign=\"left\">friends_number</th>\n",
       "      <th colspan=\"2\" halign=\"left\">location_population</th>\n",
       "    </tr>\n",
       "    <tr>\n",
       "      <th></th>\n",
       "      <th>mean</th>\n",
       "      <th>median</th>\n",
       "      <th>mean</th>\n",
       "      <th>median</th>\n",
       "      <th>mean</th>\n",
       "      <th>median</th>\n",
       "      <th>mean</th>\n",
       "      <th>median</th>\n",
       "    </tr>\n",
       "    <tr>\n",
       "      <th>target</th>\n",
       "      <th></th>\n",
       "      <th></th>\n",
       "      <th></th>\n",
       "      <th></th>\n",
       "      <th></th>\n",
       "      <th></th>\n",
       "      <th></th>\n",
       "      <th></th>\n",
       "    </tr>\n",
       "  </thead>\n",
       "  <tbody>\n",
       "    <tr>\n",
       "      <td>0</td>\n",
       "      <td>44.189302</td>\n",
       "      <td>44.0</td>\n",
       "      <td>50.027206</td>\n",
       "      <td>50.0</td>\n",
       "      <td>200.512210</td>\n",
       "      <td>200</td>\n",
       "      <td>287938.329368</td>\n",
       "      <td>74312</td>\n",
       "    </tr>\n",
       "    <tr>\n",
       "      <td>1</td>\n",
       "      <td>35.499312</td>\n",
       "      <td>34.0</td>\n",
       "      <td>50.380495</td>\n",
       "      <td>50.5</td>\n",
       "      <td>197.363524</td>\n",
       "      <td>196</td>\n",
       "      <td>400341.964020</td>\n",
       "      <td>113621</td>\n",
       "    </tr>\n",
       "  </tbody>\n",
       "</table>\n",
       "</div>"
      ],
      "text/plain": [
       "              Age        daily_commute        friends_number         \\\n",
       "             mean median          mean median           mean median   \n",
       "target                                                                \n",
       "0       44.189302   44.0     50.027206   50.0     200.512210    200   \n",
       "1       35.499312   34.0     50.380495   50.5     197.363524    196   \n",
       "\n",
       "       location_population          \n",
       "                      mean  median  \n",
       "target                              \n",
       "0            287938.329368   74312  \n",
       "1            400341.964020  113621  "
      ]
     },
     "execution_count": 26,
     "metadata": {},
     "output_type": "execute_result"
    }
   ],
   "source": [
    "df.groupby(\"target\").agg({\"Age\":[\"mean\", \"median\"],\n",
    "                        \"daily_commute\":[\"mean\", \"median\"],\n",
    "                        \"friends_number\":[\"mean\", \"median\"],\n",
    "                        \"location_population\": [\"mean\", \"median\"]})"
   ]
  },
  {
   "cell_type": "markdown",
   "metadata": {},
   "source": [
    "## Czyszczenie danych "
   ]
  },
  {
   "cell_type": "code",
   "execution_count": 27,
   "metadata": {},
   "outputs": [],
   "source": [
    "zmienne_kategoryczne=[\"sex\",\"relationship_status\",\"credit_card_type\",\"education\"]"
   ]
  },
  {
   "cell_type": "code",
   "execution_count": 28,
   "metadata": {},
   "outputs": [
    {
     "name": "stdout",
     "output_type": "stream",
     "text": [
      "female    2040\n",
      "male      1576\n",
      "Name: sex, dtype: int64 \n",
      "\n",
      "In relationship      1247\n",
      "Married               830\n",
      "Married with kids     749\n",
      "Single                585\n",
      "Divorced              196\n",
      "Name: relationship_status, dtype: int64 \n",
      "\n",
      "Visa                1777\n",
      "Mastercard          1603\n",
      "Revolut              157\n",
      "American Express      35\n",
      "Name: credit_card_type, dtype: int64 \n",
      "\n",
      "4.0    1065\n",
      "3.0     765\n",
      "5.0     755\n",
      "2.0     504\n",
      "6.0     269\n",
      "1.0     234\n",
      "Name: education, dtype: int64 \n",
      "\n"
     ]
    }
   ],
   "source": [
    "for x in zmienne_kategoryczne:\n",
    "    print(df[x].value_counts(), '\\n')"
   ]
  },
  {
   "cell_type": "code",
   "execution_count": 29,
   "metadata": {},
   "outputs": [],
   "source": [
    "df.drop(\"user_id\", axis=1, inplace=True)"
   ]
  },
  {
   "cell_type": "code",
   "execution_count": 30,
   "metadata": {},
   "outputs": [
    {
     "data": {
      "text/html": [
       "<div>\n",
       "<style scoped>\n",
       "    .dataframe tbody tr th:only-of-type {\n",
       "        vertical-align: middle;\n",
       "    }\n",
       "\n",
       "    .dataframe tbody tr th {\n",
       "        vertical-align: top;\n",
       "    }\n",
       "\n",
       "    .dataframe thead th {\n",
       "        text-align: right;\n",
       "    }\n",
       "</style>\n",
       "<table border=\"1\" class=\"dataframe\">\n",
       "  <thead>\n",
       "    <tr style=\"text-align: right;\">\n",
       "      <th></th>\n",
       "      <th>target</th>\n",
       "      <th>name</th>\n",
       "      <th>sex</th>\n",
       "      <th>location</th>\n",
       "      <th>location_population</th>\n",
       "      <th>occupation</th>\n",
       "      <th>hobbies</th>\n",
       "      <th>daily_commute</th>\n",
       "      <th>friends_number</th>\n",
       "      <th>relationship_status</th>\n",
       "      <th>education</th>\n",
       "      <th>credit_card_type</th>\n",
       "      <th>Age</th>\n",
       "    </tr>\n",
       "  </thead>\n",
       "  <tbody>\n",
       "    <tr>\n",
       "      <td>0</td>\n",
       "      <td>1</td>\n",
       "      <td>Halina</td>\n",
       "      <td>NaN</td>\n",
       "      <td>Piastów</td>\n",
       "      <td>22732</td>\n",
       "      <td>Teaching professionals</td>\n",
       "      <td>Fitness</td>\n",
       "      <td>46.0</td>\n",
       "      <td>196</td>\n",
       "      <td>Single</td>\n",
       "      <td>NaN</td>\n",
       "      <td>Visa</td>\n",
       "      <td>39.0</td>\n",
       "    </tr>\n",
       "    <tr>\n",
       "      <td>1</td>\n",
       "      <td>0</td>\n",
       "      <td>Eustachy</td>\n",
       "      <td>male</td>\n",
       "      <td>Sokółka</td>\n",
       "      <td>18331</td>\n",
       "      <td>General and keyboard clerks</td>\n",
       "      <td>LARPing,Foreign language learning,Netball</td>\n",
       "      <td>55.0</td>\n",
       "      <td>243</td>\n",
       "      <td>Single</td>\n",
       "      <td>NaN</td>\n",
       "      <td>NaN</td>\n",
       "      <td>50.0</td>\n",
       "    </tr>\n",
       "    <tr>\n",
       "      <td>2</td>\n",
       "      <td>1</td>\n",
       "      <td>Egon</td>\n",
       "      <td>NaN</td>\n",
       "      <td>Łaskarzew</td>\n",
       "      <td>4879</td>\n",
       "      <td>Protective services workers</td>\n",
       "      <td>Bodybuilding,Kabaddi</td>\n",
       "      <td>90.0</td>\n",
       "      <td>191</td>\n",
       "      <td>In relationship</td>\n",
       "      <td>3.0</td>\n",
       "      <td>NaN</td>\n",
       "      <td>21.0</td>\n",
       "    </tr>\n",
       "    <tr>\n",
       "      <td>3</td>\n",
       "      <td>0</td>\n",
       "      <td>Eulalia</td>\n",
       "      <td>female</td>\n",
       "      <td>Bydgoszcz</td>\n",
       "      <td>352313</td>\n",
       "      <td>Customer services clerks</td>\n",
       "      <td>Badminton</td>\n",
       "      <td>88.0</td>\n",
       "      <td>164</td>\n",
       "      <td>In relationship</td>\n",
       "      <td>3.0</td>\n",
       "      <td>Visa</td>\n",
       "      <td>29.0</td>\n",
       "    </tr>\n",
       "    <tr>\n",
       "      <td>4</td>\n",
       "      <td>0</td>\n",
       "      <td>Hilary</td>\n",
       "      <td>NaN</td>\n",
       "      <td>Osieczna</td>\n",
       "      <td>2322</td>\n",
       "      <td>Refuse workers and other elementary workers</td>\n",
       "      <td>Fitness,Embroidery,Lacemaking</td>\n",
       "      <td>40.0</td>\n",
       "      <td>119</td>\n",
       "      <td>Married with kids</td>\n",
       "      <td>5.0</td>\n",
       "      <td>NaN</td>\n",
       "      <td>46.0</td>\n",
       "    </tr>\n",
       "  </tbody>\n",
       "</table>\n",
       "</div>"
      ],
      "text/plain": [
       "   target      name     sex    location  location_population  \\\n",
       "0       1    Halina     NaN     Piastów                22732   \n",
       "1       0  Eustachy    male     Sokółka                18331   \n",
       "2       1      Egon     NaN  Łaskarzew                 4879   \n",
       "3       0   Eulalia  female   Bydgoszcz               352313   \n",
       "4       0    Hilary     NaN    Osieczna                 2322   \n",
       "\n",
       "                                    occupation  \\\n",
       "0                       Teaching professionals   \n",
       "1                  General and keyboard clerks   \n",
       "2                  Protective services workers   \n",
       "3                     Customer services clerks   \n",
       "4  Refuse workers and other elementary workers   \n",
       "\n",
       "                                     hobbies  daily_commute  friends_number  \\\n",
       "0                                    Fitness           46.0             196   \n",
       "1  LARPing,Foreign language learning,Netball           55.0             243   \n",
       "2                       Bodybuilding,Kabaddi           90.0             191   \n",
       "3                                  Badminton           88.0             164   \n",
       "4              Fitness,Embroidery,Lacemaking           40.0             119   \n",
       "\n",
       "  relationship_status  education credit_card_type   Age  \n",
       "0              Single        NaN             Visa  39.0  \n",
       "1              Single        NaN              NaN  50.0  \n",
       "2     In relationship        3.0              NaN  21.0  \n",
       "3     In relationship        3.0             Visa  29.0  \n",
       "4   Married with kids        5.0              NaN  46.0  "
      ]
     },
     "execution_count": 30,
     "metadata": {},
     "output_type": "execute_result"
    }
   ],
   "source": [
    "df.head()"
   ]
  },
  {
   "cell_type": "markdown",
   "metadata": {},
   "source": [
    "### przekształcanie zmiennej occupation"
   ]
  },
  {
   "cell_type": "code",
   "execution_count": 31,
   "metadata": {},
   "outputs": [
    {
     "data": {
      "text/plain": [
       "Science and engineering associate professionals                                      106\n",
       "Health associate professionals                                                       105\n",
       "Information and communications technology professionals                              104\n",
       "Information and communications technicians                                           103\n",
       "Food processing, wood working, garment and other craft and related trades workers    103\n",
       "General and keyboard clerks                                                          103\n",
       "Legal, social, cultural and related associate professionals                          102\n",
       "Refuse workers and other elementary workers                                          101\n",
       "Handicraft and printing workers                                                      101\n",
       "Armed forces occupations, other ranks                                                100\n",
       "Non-commissioned armed forces officers                                               100\n",
       "Protective services workers                                                          100\n",
       "Business and administration associate professionals                                   99\n",
       "Electrical and electronic trades workers                                              99\n",
       "Market-oriented skilled agricultural workers                                          98\n",
       "Science and engineering professionals                                                 98\n",
       "Legal, social and cultural professionals                                              97\n",
       "Numerical and material recording clerks                                               97\n",
       "Personal care workers                                                                 97\n",
       "Health professionals                                                                  97\n",
       "Production and specialised services managers                                          95\n",
       "Sales workers                                                                         95\n",
       "Teaching professionals                                                                95\n",
       "Chief executives, senior officials and legislators                                    95\n",
       "Business and administration professionals                                             94\n",
       "Building and related trades workers, excluding electricians                           92\n",
       "Agricultural, forestry and fishery labourers                                          91\n",
       "Hospitality, retail and other services managers                                       91\n",
       "Assemblers                                                                            89\n",
       "Food preparation assistants                                                           89\n",
       "Administrative and commercial managers                                                88\n",
       "Personal service workers                                                              87\n",
       "Metal, machinery and related trades workers                                           87\n",
       "Drivers and mobile plant operators                                                    84\n",
       "Cleaners and helpers                                                                  83\n",
       "Labourers in mining, construction, manufacturing and transport                        83\n",
       "Market-oriented skilled forestry, fishery and hunting workers                         83\n",
       "Other clerical support workers                                                        83\n",
       "Customer services clerks                                                              82\n",
       "Street and related sales and service workers                                          79\n",
       "Commissioned armed forces officers                                                    77\n",
       "Stationary plant and machine operators                                                74\n",
       "Subsistence farmers, fishers, hunters and gatherers                                   74\n",
       "Name: occupation, dtype: int64"
      ]
     },
     "execution_count": 31,
     "metadata": {},
     "output_type": "execute_result"
    }
   ],
   "source": [
    "df[\"occupation\"].value_counts()"
   ]
  },
  {
   "cell_type": "code",
   "execution_count": 32,
   "metadata": {},
   "outputs": [
    {
     "data": {
      "text/plain": [
       "0       professionals\n",
       "1              clerks\n",
       "2             workers\n",
       "3              clerks\n",
       "4             workers\n",
       "            ...      \n",
       "3995          workers\n",
       "3996     electricians\n",
       "3997          workers\n",
       "3998          workers\n",
       "3999    professionals\n",
       "Name: occupation, Length: 4000, dtype: object"
      ]
     },
     "execution_count": 32,
     "metadata": {},
     "output_type": "execute_result"
    }
   ],
   "source": [
    "df.occupation.apply(lambda x: x.split(' ')[-1].strip())"
   ]
  },
  {
   "cell_type": "code",
   "execution_count": 33,
   "metadata": {},
   "outputs": [],
   "source": [
    "df['occupation'] = df.occupation.apply(lambda x: x.split(' ')[-1].strip())"
   ]
  },
  {
   "cell_type": "code",
   "execution_count": 34,
   "metadata": {},
   "outputs": [
    {
     "data": {
      "text/plain": [
       "workers          1213\n",
       "professionals     997\n",
       "clerks            282\n",
       "managers          274\n",
       "officers          177\n",
       "operators         158\n",
       "technicians       103\n",
       "ranks             100\n",
       "legislators        95\n",
       "electricians       92\n",
       "labourers          91\n",
       "Assemblers         89\n",
       "assistants         89\n",
       "helpers            83\n",
       "transport          83\n",
       "gatherers          74\n",
       "Name: occupation, dtype: int64"
      ]
     },
     "execution_count": 34,
     "metadata": {},
     "output_type": "execute_result"
    }
   ],
   "source": [
    "df[\"occupation\"].value_counts()"
   ]
  },
  {
   "cell_type": "code",
   "execution_count": 35,
   "metadata": {},
   "outputs": [],
   "source": [
    "df[\"occupation\"]=df[\"occupation\"].apply(lambda x: \"workers\" if x in[\"transport\", \"helpers\",\"gatherers\", \"Assemblers\", \"labourers\", \"assistants\",\"electricians\", \"operators\"] else x)"
   ]
  },
  {
   "cell_type": "code",
   "execution_count": 36,
   "metadata": {},
   "outputs": [],
   "source": [
    "df[\"occupation\"]=df[\"occupation\"].apply(lambda x: \"professionals\" if x in[\"technicians\"] else x)"
   ]
  },
  {
   "cell_type": "code",
   "execution_count": 37,
   "metadata": {},
   "outputs": [],
   "source": [
    "df[\"occupation\"]=df[\"occupation\"].apply(lambda x: \"officers\" if x in[\"ranks\"] else x)"
   ]
  },
  {
   "cell_type": "code",
   "execution_count": 38,
   "metadata": {},
   "outputs": [],
   "source": [
    "df[\"occupation\"]=df[\"occupation\"].apply(lambda x: \"managers\" if x in[\"legislators\"] else x)"
   ]
  },
  {
   "cell_type": "code",
   "execution_count": 39,
   "metadata": {},
   "outputs": [
    {
     "data": {
      "text/plain": [
       "workers          1972\n",
       "professionals    1100\n",
       "managers          369\n",
       "clerks            282\n",
       "officers          277\n",
       "Name: occupation, dtype: int64"
      ]
     },
     "execution_count": 39,
     "metadata": {},
     "output_type": "execute_result"
    }
   ],
   "source": [
    "df[\"occupation\"].value_counts()"
   ]
  },
  {
   "cell_type": "code",
   "execution_count": 40,
   "metadata": {},
   "outputs": [
    {
     "data": {
      "text/plain": [
       "target                   0\n",
       "name                    18\n",
       "sex                    384\n",
       "location                 0\n",
       "location_population      0\n",
       "occupation               0\n",
       "hobbies                680\n",
       "daily_commute          405\n",
       "friends_number           0\n",
       "relationship_status    393\n",
       "education              408\n",
       "credit_card_type       428\n",
       "Age                    394\n",
       "dtype: int64"
      ]
     },
     "execution_count": 40,
     "metadata": {},
     "output_type": "execute_result"
    }
   ],
   "source": [
    "df.isna().sum()"
   ]
  },
  {
   "cell_type": "code",
   "execution_count": 41,
   "metadata": {},
   "outputs": [
    {
     "data": {
      "text/plain": [
       "target                   0\n",
       "name                    18\n",
       "sex                    384\n",
       "location                 0\n",
       "location_population      0\n",
       "occupation               0\n",
       "hobbies                680\n",
       "daily_commute          405\n",
       "friends_number           0\n",
       "relationship_status    393\n",
       "education              408\n",
       "credit_card_type       428\n",
       "Age                    394\n",
       "dtype: int64"
      ]
     },
     "execution_count": 41,
     "metadata": {},
     "output_type": "execute_result"
    }
   ],
   "source": [
    "df.isna().sum()"
   ]
  },
  {
   "cell_type": "markdown",
   "metadata": {},
   "source": [
    "### przekształcenia zmiennej hobbies "
   ]
  },
  {
   "cell_type": "code",
   "execution_count": 42,
   "metadata": {},
   "outputs": [],
   "source": [
    "a=lambda x: str(x)\n",
    "df[\"hobbies\"]=df['hobbies'].apply(a)"
   ]
  },
  {
   "cell_type": "code",
   "execution_count": 43,
   "metadata": {},
   "outputs": [],
   "source": [
    "df[\"hobbies\"]=df.hobbies.apply(lambda x: x.split(','))"
   ]
  },
  {
   "cell_type": "code",
   "execution_count": 44,
   "metadata": {},
   "outputs": [
    {
     "data": {
      "text/plain": [
       "0                                           [Fitness]\n",
       "1       [LARPing, Foreign language learning, Netball]\n",
       "2                             [Bodybuilding, Kabaddi]\n",
       "3                                         [Badminton]\n",
       "4                   [Fitness, Embroidery, Lacemaking]\n",
       "                            ...                      \n",
       "3995                                            [nan]\n",
       "3996                                            [nan]\n",
       "3997                          [Photography, Graffiti]\n",
       "3998                                     [Stretching]\n",
       "3999           [Crossfit, Digital arts, Cryptography]\n",
       "Name: hobbies, Length: 4000, dtype: object"
      ]
     },
     "execution_count": 44,
     "metadata": {},
     "output_type": "execute_result"
    }
   ],
   "source": [
    "df[\"hobbies\"]"
   ]
  },
  {
   "cell_type": "code",
   "execution_count": 45,
   "metadata": {},
   "outputs": [],
   "source": [
    "lista=[]"
   ]
  },
  {
   "cell_type": "code",
   "execution_count": 46,
   "metadata": {},
   "outputs": [],
   "source": [
    "for x in df[\"hobbies\"]:\n",
    "    lista=lista+x\n",
    "        "
   ]
  },
  {
   "cell_type": "code",
   "execution_count": 47,
   "metadata": {},
   "outputs": [],
   "source": [
    "zbior=set(lista)"
   ]
  },
  {
   "cell_type": "code",
   "execution_count": 48,
   "metadata": {},
   "outputs": [
    {
     "data": {
      "text/plain": [
       "{'3D printing',\n",
       " 'Acting',\n",
       " 'Air sports',\n",
       " 'Amateur radio',\n",
       " 'Archery',\n",
       " 'Astronomy',\n",
       " 'BASE jumping',\n",
       " 'Backpacking',\n",
       " 'Badminton',\n",
       " 'Baseball',\n",
       " 'Basketball',\n",
       " 'Beekeeping',\n",
       " 'Bird watching',\n",
       " 'Blacksmithing',\n",
       " 'Board games',\n",
       " 'Board sports',\n",
       " 'Bodybuilding',\n",
       " 'Book restoration',\n",
       " 'Brazilian jiu-jitsu',\n",
       " 'Cabaret',\n",
       " 'Calligraphy',\n",
       " 'Candle making',\n",
       " 'Cardio',\n",
       " 'Coffee roasting',\n",
       " 'Coloring',\n",
       " 'Community',\n",
       " 'Computer programming',\n",
       " 'Cooking',\n",
       " 'Cosplaying',\n",
       " 'Creative writing',\n",
       " 'Crocheting',\n",
       " 'Crossfit',\n",
       " 'Cryptography',\n",
       " 'Cycling',\n",
       " 'Dance',\n",
       " 'Digital arts',\n",
       " 'Do it yourself',\n",
       " 'Dowsing',\n",
       " 'Drama',\n",
       " 'Drawing',\n",
       " 'Driving',\n",
       " 'Electronics',\n",
       " 'Embroidery',\n",
       " 'Fashion',\n",
       " 'Fishing',\n",
       " 'Fitness',\n",
       " 'Flag Football',\n",
       " 'Flower arranging',\n",
       " 'Flying',\n",
       " 'Flying disc',\n",
       " 'Foraging',\n",
       " 'Foreign language learning',\n",
       " 'Gambling',\n",
       " 'Gaming',\n",
       " 'Gardening',\n",
       " 'Genealogy',\n",
       " 'Geocaching',\n",
       " 'Ghost hunting',\n",
       " 'Glassblowing',\n",
       " 'Graffiti',\n",
       " 'Gunsmithing',\n",
       " 'Gym',\n",
       " 'Handball',\n",
       " 'Hiking',\n",
       " 'Homebrewing',\n",
       " 'Hooping',\n",
       " 'Horseback riding',\n",
       " 'Hunting',\n",
       " 'Ice skating',\n",
       " 'Inline skating',\n",
       " 'Jewelry making',\n",
       " 'Jigsaw puzzles',\n",
       " 'Jogging',\n",
       " 'Juggling',\n",
       " 'Kabaddi',\n",
       " 'Kayaking',\n",
       " 'Kettleballs',\n",
       " 'Kite flying',\n",
       " 'Kitesurfing',\n",
       " 'Knapping',\n",
       " 'Knife making',\n",
       " 'Knitting',\n",
       " 'LARPing',\n",
       " 'Lacemaking',\n",
       " 'Lapidary',\n",
       " 'Leather crafting',\n",
       " 'Lego building',\n",
       " 'Letterboxing',\n",
       " 'Listening to music',\n",
       " 'Lockpicking',\n",
       " 'Machining',\n",
       " 'Magic',\n",
       " 'Metal detecting',\n",
       " 'Metalworking',\n",
       " 'Model building',\n",
       " 'Motor sports',\n",
       " 'Mountain biking',\n",
       " 'Mountaineering',\n",
       " 'Mushroom hunting',\n",
       " 'Mycology',\n",
       " 'Netball',\n",
       " 'Nordic skating',\n",
       " 'Orienteering',\n",
       " 'Origami',\n",
       " 'Paintball',\n",
       " 'Painting',\n",
       " 'Parkour',\n",
       " 'Pet',\n",
       " 'Photography',\n",
       " 'Playing musical instruments',\n",
       " 'Poi',\n",
       " 'Polo',\n",
       " 'Pottery',\n",
       " 'Power bike',\n",
       " 'Puzzles',\n",
       " 'Quilting',\n",
       " 'Rafting',\n",
       " 'Rappelling',\n",
       " 'Reading',\n",
       " 'Rock climbing',\n",
       " 'Roller skating',\n",
       " 'Rowing',\n",
       " 'Rugby',\n",
       " 'Running',\n",
       " 'Sailing',\n",
       " 'Sand art',\n",
       " 'Scouting',\n",
       " 'Scrapbooking',\n",
       " 'Scuba diving',\n",
       " 'Sculling',\n",
       " 'Sculpting',\n",
       " 'Sewing',\n",
       " 'Shooting',\n",
       " 'Shopping',\n",
       " 'Singing',\n",
       " 'Skateboarding',\n",
       " 'Sketching',\n",
       " 'Skiing',\n",
       " 'Skimboarding',\n",
       " 'Skydiving',\n",
       " 'Slacklining',\n",
       " 'Snowboarding',\n",
       " 'Soapmaking',\n",
       " 'Sports',\n",
       " 'Squash',\n",
       " 'Stand-up comedy',\n",
       " 'Stone skipping',\n",
       " 'Stretching',\n",
       " 'Sudoku',\n",
       " 'Surfing',\n",
       " 'Swimming',\n",
       " 'Table tennis',\n",
       " 'Taekwondo',\n",
       " 'Tai chi',\n",
       " 'Taxidermy',\n",
       " 'Urban exploration',\n",
       " 'Vacation',\n",
       " 'Vehicle restoration',\n",
       " 'Video gaming',\n",
       " 'Watching movies',\n",
       " 'Water sports',\n",
       " 'Web surfing',\n",
       " 'Weightlifting',\n",
       " 'Whittling',\n",
       " 'Wood carving',\n",
       " 'Woodworking',\n",
       " 'Worldbuilding',\n",
       " 'Writing',\n",
       " 'Yo-yoing',\n",
       " 'Yoga',\n",
       " 'amateur radio',\n",
       " 'nan',\n",
       " 'role-playing games',\n",
       " 'scrapbook',\n",
       " 'tabletop games'}"
      ]
     },
     "execution_count": 48,
     "metadata": {},
     "output_type": "execute_result"
    }
   ],
   "source": [
    "zbior"
   ]
  },
  {
   "cell_type": "code",
   "execution_count": 49,
   "metadata": {},
   "outputs": [],
   "source": [
    "lista_sportow=[\n",
    " 'Air sports',\n",
    " 'Archery',\n",
    " 'BASE jumping',\n",
    " 'Backpacking',\n",
    " 'Badminton',\n",
    " 'Baseball',\n",
    " 'Basketball',\n",
    " 'Board sports',\n",
    " 'Bodybuilding',\n",
    " 'Brazilian jiu-jitsu',\n",
    " 'Cardio',\n",
    " 'Crossfit',\n",
    " 'Cycling',\n",
    " 'Dance',\n",
    " 'Fitness',\n",
    " 'Flag Football',\n",
    " 'Flying disc',\n",
    " 'Gym',\n",
    " 'Handball',\n",
    " 'Hiking',\n",
    " 'Hooping',\n",
    " 'Horseback riding',\n",
    " 'Ice skating',\n",
    " 'Inline skating',\n",
    " 'Jogging',\n",
    " 'Juggling',\n",
    " 'Kabaddi',\n",
    " 'Kayaking',\n",
    " 'Kettleballs',\n",
    " 'Kite flying',\n",
    " 'Kitesurfing',\n",
    " 'Motor sports',\n",
    " 'Mountain biking',\n",
    " 'Mountaineering',\n",
    " 'Netball',\n",
    " 'Nordic skating',\n",
    " 'Orienteering',\n",
    " 'Paintball',\n",
    " 'Parkour',\n",
    " 'Poi',\n",
    " 'Polo',\n",
    " 'Power bike',\n",
    " 'Rafting',\n",
    " 'Rappelling',\n",
    " 'Rock climbing',\n",
    " 'Roller skating',\n",
    " 'Rowing',\n",
    " 'Rugby',\n",
    " 'Running',\n",
    " 'Sailing',\n",
    " 'Scuba diving',\n",
    " 'Skateboarding',\n",
    " 'Skiing',\n",
    " 'Skimboarding',\n",
    " 'Skydiving',\n",
    " 'Slacklining',\n",
    " 'Snowboarding',\n",
    " 'Sports',\n",
    " 'Squash',\n",
    " 'Stretching',\n",
    " 'Surfing',\n",
    " 'Swimming',\n",
    " 'Table tennis',\n",
    " 'Taekwondo',\n",
    " 'Tai chi',\n",
    " 'Urban exploration',\n",
    " 'Water sports',\n",
    " 'Weightlifting',\n",
    " 'Yoga']"
   ]
  },
  {
   "cell_type": "code",
   "execution_count": 50,
   "metadata": {},
   "outputs": [],
   "source": [
    "df[\"sports_interests\"]=df[\"hobbies\"].apply(lambda x: 1 if any(item in x for item in lista_sportow) else 0 )"
   ]
  },
  {
   "cell_type": "code",
   "execution_count": 51,
   "metadata": {},
   "outputs": [
    {
     "data": {
      "text/plain": [
       "0       1\n",
       "1       1\n",
       "2       1\n",
       "3       1\n",
       "4       1\n",
       "       ..\n",
       "3995    0\n",
       "3996    0\n",
       "3997    0\n",
       "3998    1\n",
       "3999    1\n",
       "Name: sports_interests, Length: 4000, dtype: int64"
      ]
     },
     "execution_count": 51,
     "metadata": {},
     "output_type": "execute_result"
    }
   ],
   "source": [
    "df[\"sports_interests\"]"
   ]
  },
  {
   "cell_type": "code",
   "execution_count": 52,
   "metadata": {},
   "outputs": [
    {
     "data": {
      "text/html": [
       "<div>\n",
       "<style scoped>\n",
       "    .dataframe tbody tr th:only-of-type {\n",
       "        vertical-align: middle;\n",
       "    }\n",
       "\n",
       "    .dataframe tbody tr th {\n",
       "        vertical-align: top;\n",
       "    }\n",
       "\n",
       "    .dataframe thead th {\n",
       "        text-align: right;\n",
       "    }\n",
       "</style>\n",
       "<table border=\"1\" class=\"dataframe\">\n",
       "  <thead>\n",
       "    <tr style=\"text-align: right;\">\n",
       "      <th></th>\n",
       "      <th>sports_interests</th>\n",
       "      <th>target</th>\n",
       "    </tr>\n",
       "  </thead>\n",
       "  <tbody>\n",
       "    <tr>\n",
       "      <td>1</td>\n",
       "      <td>1</td>\n",
       "      <td>0.248024</td>\n",
       "    </tr>\n",
       "    <tr>\n",
       "      <td>0</td>\n",
       "      <td>0</td>\n",
       "      <td>0.109456</td>\n",
       "    </tr>\n",
       "  </tbody>\n",
       "</table>\n",
       "</div>"
      ],
      "text/plain": [
       "   sports_interests    target\n",
       "1                 1  0.248024\n",
       "0                 0  0.109456"
      ]
     },
     "execution_count": 52,
     "metadata": {},
     "output_type": "execute_result"
    }
   ],
   "source": [
    "df[[\"sports_interests\",\"target\"]].groupby([\"sports_interests\"], as_index=False).mean().sort_values(by=\"target\", ascending=False)"
   ]
  },
  {
   "cell_type": "code",
   "execution_count": 53,
   "metadata": {},
   "outputs": [
    {
     "data": {
      "text/html": [
       "<div>\n",
       "<style scoped>\n",
       "    .dataframe tbody tr th:only-of-type {\n",
       "        vertical-align: middle;\n",
       "    }\n",
       "\n",
       "    .dataframe tbody tr th {\n",
       "        vertical-align: top;\n",
       "    }\n",
       "\n",
       "    .dataframe thead th {\n",
       "        text-align: right;\n",
       "    }\n",
       "</style>\n",
       "<table border=\"1\" class=\"dataframe\">\n",
       "  <thead>\n",
       "    <tr style=\"text-align: right;\">\n",
       "      <th></th>\n",
       "      <th>occupation</th>\n",
       "      <th>target</th>\n",
       "    </tr>\n",
       "  </thead>\n",
       "  <tbody>\n",
       "    <tr>\n",
       "      <td>2</td>\n",
       "      <td>officers</td>\n",
       "      <td>0.227437</td>\n",
       "    </tr>\n",
       "    <tr>\n",
       "      <td>4</td>\n",
       "      <td>workers</td>\n",
       "      <td>0.209432</td>\n",
       "    </tr>\n",
       "    <tr>\n",
       "      <td>3</td>\n",
       "      <td>professionals</td>\n",
       "      <td>0.196364</td>\n",
       "    </tr>\n",
       "    <tr>\n",
       "      <td>1</td>\n",
       "      <td>managers</td>\n",
       "      <td>0.176152</td>\n",
       "    </tr>\n",
       "    <tr>\n",
       "      <td>0</td>\n",
       "      <td>clerks</td>\n",
       "      <td>0.173759</td>\n",
       "    </tr>\n",
       "  </tbody>\n",
       "</table>\n",
       "</div>"
      ],
      "text/plain": [
       "      occupation    target\n",
       "2       officers  0.227437\n",
       "4        workers  0.209432\n",
       "3  professionals  0.196364\n",
       "1       managers  0.176152\n",
       "0         clerks  0.173759"
      ]
     },
     "execution_count": 53,
     "metadata": {},
     "output_type": "execute_result"
    }
   ],
   "source": [
    "df[[\"occupation\",\"target\"]].groupby([\"occupation\"], as_index=False).mean().sort_values(by=\"target\", ascending=False)"
   ]
  },
  {
   "cell_type": "markdown",
   "metadata": {},
   "source": [
    "## Podział zbioru na testowy i treningowy "
   ]
  },
  {
   "cell_type": "code",
   "execution_count": 54,
   "metadata": {},
   "outputs": [],
   "source": [
    "X=df.drop([\"target\"], axis=1)"
   ]
  },
  {
   "cell_type": "code",
   "execution_count": 55,
   "metadata": {},
   "outputs": [],
   "source": [
    "y=df[\"target\"]"
   ]
  },
  {
   "cell_type": "code",
   "execution_count": 56,
   "metadata": {},
   "outputs": [],
   "source": [
    "from sklearn.model_selection import train_test_split"
   ]
  },
  {
   "cell_type": "code",
   "execution_count": 57,
   "metadata": {},
   "outputs": [],
   "source": [
    "X_train, X_test, y_train, y_test=train_test_split(X,y,test_size=0.3, random_state=99)"
   ]
  },
  {
   "cell_type": "markdown",
   "metadata": {},
   "source": [
    "## Analiza wartości odstających "
   ]
  },
  {
   "cell_type": "code",
   "execution_count": 58,
   "metadata": {},
   "outputs": [
    {
     "data": {
      "text/plain": [
       "<matplotlib.axes._subplots.AxesSubplot at 0x2b4f0860308>"
      ]
     },
     "execution_count": 58,
     "metadata": {},
     "output_type": "execute_result"
    },
    {
     "data": {
      "image/png": "[encoded data removed]",
      "text/plain": [
       "<Figure size 432x288 with 1 Axes>"
      ]
     },
     "metadata": {},
     "output_type": "display_data"
    }
   ],
   "source": [
    "sns.boxplot(X_train[\"Age\"])"
   ]
  },
  {
   "cell_type": "code",
   "execution_count": 59,
   "metadata": {},
   "outputs": [
    {
     "data": {
      "text/plain": [
       "<matplotlib.axes._subplots.AxesSubplot at 0x2b4f1d0b9c8>"
      ]
     },
     "execution_count": 59,
     "metadata": {},
     "output_type": "execute_result"
    },
    {
     "data": {
      "image/png": "[encoded data removed]",
      "text/plain": [
       "<Figure size 432x288 with 1 Axes>"
      ]
     },
     "metadata": {},
     "output_type": "display_data"
    }
   ],
   "source": [
    "sns.boxplot(X_test[\"Age\"])"
   ]
  },
  {
   "cell_type": "code",
   "execution_count": 60,
   "metadata": {},
   "outputs": [
    {
     "data": {
      "text/plain": [
       "<matplotlib.axes._subplots.AxesSubplot at 0x2b4f04cf5c8>"
      ]
     },
     "execution_count": 60,
     "metadata": {},
     "output_type": "execute_result"
    },
    {
     "data": {
      "image/png": "[encoded data removed]",
      "text/plain": [
       "<Figure size 432x288 with 1 Axes>"
      ]
     },
     "metadata": {},
     "output_type": "display_data"
    }
   ],
   "source": [
    "sns.boxplot(X_train[\"location_population\"])"
   ]
  },
  {
   "cell_type": "code",
   "execution_count": 61,
   "metadata": {},
   "outputs": [
    {
     "data": {
      "text/plain": [
       "189"
      ]
     },
     "execution_count": 61,
     "metadata": {},
     "output_type": "execute_result"
    }
   ],
   "source": [
    "X_train[\"location_population\"].idxmax()"
   ]
  },
  {
   "cell_type": "code",
   "execution_count": 62,
   "metadata": {},
   "outputs": [
    {
     "data": {
      "text/plain": [
       "name                                             Erwin\n",
       "sex                                                NaN\n",
       "location                                      Warszawa\n",
       "location_population                            1764615\n",
       "occupation                               professionals\n",
       "hobbies                [Crossfit, Rowing, 3D printing]\n",
       "daily_commute                                       29\n",
       "friends_number                                     255\n",
       "relationship_status                    In relationship\n",
       "education                                            4\n",
       "credit_card_type                                  Visa\n",
       "Age                                                 38\n",
       "sports_interests                                     1\n",
       "Name: 189, dtype: object"
      ]
     },
     "execution_count": 62,
     "metadata": {},
     "output_type": "execute_result"
    }
   ],
   "source": [
    "X_train.loc[189] "
   ]
  },
  {
   "cell_type": "code",
   "execution_count": 63,
   "metadata": {},
   "outputs": [
    {
     "data": {
      "text/plain": [
       "<matplotlib.axes._subplots.AxesSubplot at 0x2b4f07d76c8>"
      ]
     },
     "execution_count": 63,
     "metadata": {},
     "output_type": "execute_result"
    },
    {
     "data": {
      "image/png": "[encoded data removed]",
      "text/plain": [
       "<Figure size 432x288 with 1 Axes>"
      ]
     },
     "metadata": {},
     "output_type": "display_data"
    }
   ],
   "source": [
    "sns.boxplot(X_test[\"location_population\"])"
   ]
  },
  {
   "cell_type": "code",
   "execution_count": 64,
   "metadata": {},
   "outputs": [
    {
     "data": {
      "text/plain": [
       "3685"
      ]
     },
     "execution_count": 64,
     "metadata": {},
     "output_type": "execute_result"
    }
   ],
   "source": [
    "X_test[\"location_population\"].idxmax()"
   ]
  },
  {
   "cell_type": "code",
   "execution_count": 65,
   "metadata": {},
   "outputs": [
    {
     "data": {
      "text/plain": [
       "name                                 Arkadiusz\n",
       "sex                                       male\n",
       "location                              Warszawa\n",
       "location_population                    1764615\n",
       "occupation                       professionals\n",
       "hobbies                [Community, Air sports]\n",
       "daily_commute                               66\n",
       "friends_number                               0\n",
       "relationship_status            In relationship\n",
       "education                                    3\n",
       "credit_card_type                          Visa\n",
       "Age                                        NaN\n",
       "sports_interests                             1\n",
       "Name: 3685, dtype: object"
      ]
     },
     "execution_count": 65,
     "metadata": {},
     "output_type": "execute_result"
    }
   ],
   "source": [
    "X_test.loc[3685]"
   ]
  },
  {
   "cell_type": "code",
   "execution_count": 66,
   "metadata": {},
   "outputs": [
    {
     "data": {
      "text/plain": [
       "<matplotlib.axes._subplots.AxesSubplot at 0x2b4f04c38c8>"
      ]
     },
     "execution_count": 66,
     "metadata": {},
     "output_type": "execute_result"
    },
    {
     "data": {
      "image/png": "[encoded data removed]",
      "text/plain": [
       "<Figure size 432x288 with 1 Axes>"
      ]
     },
     "metadata": {},
     "output_type": "display_data"
    }
   ],
   "source": [
    "sns.boxplot(X_train[\"daily_commute\"])"
   ]
  },
  {
   "cell_type": "code",
   "execution_count": 67,
   "metadata": {},
   "outputs": [
    {
     "data": {
      "text/plain": [
       "<matplotlib.axes._subplots.AxesSubplot at 0x2b4f04f2648>"
      ]
     },
     "execution_count": 67,
     "metadata": {},
     "output_type": "execute_result"
    },
    {
     "data": {
      "image/png": "[encoded data removed]",
      "text/plain": [
       "<Figure size 432x288 with 1 Axes>"
      ]
     },
     "metadata": {},
     "output_type": "display_data"
    }
   ],
   "source": [
    "sns.boxplot(X_test[\"daily_commute\"])"
   ]
  },
  {
   "cell_type": "code",
   "execution_count": 68,
   "metadata": {},
   "outputs": [
    {
     "data": {
      "text/plain": [
       "<matplotlib.axes._subplots.AxesSubplot at 0x2b4f01b9308>"
      ]
     },
     "execution_count": 68,
     "metadata": {},
     "output_type": "execute_result"
    },
    {
     "data": {
      "image/png": "[encoded data removed]",
      "text/plain": [
       "<Figure size 432x288 with 1 Axes>"
      ]
     },
     "metadata": {},
     "output_type": "display_data"
    }
   ],
   "source": [
    "sns.boxplot(X_train[\"friends_number\"])"
   ]
  },
  {
   "cell_type": "code",
   "execution_count": 69,
   "metadata": {},
   "outputs": [
    {
     "data": {
      "text/plain": [
       "<matplotlib.axes._subplots.AxesSubplot at 0x2b4efd62c08>"
      ]
     },
     "execution_count": 69,
     "metadata": {},
     "output_type": "execute_result"
    },
    {
     "data": {
      "image/png": "[encoded data removed]",
      "text/plain": [
       "<Figure size 432x288 with 1 Axes>"
      ]
     },
     "metadata": {},
     "output_type": "display_data"
    }
   ],
   "source": [
    "sns.boxplot(X_test[\"friends_number\"])"
   ]
  },
  {
   "cell_type": "code",
   "execution_count": 70,
   "metadata": {},
   "outputs": [],
   "source": [
    "zmienne_do_winsoryzacji=[\"Age\",\"friends_number\"]"
   ]
  },
  {
   "cell_type": "code",
   "execution_count": 71,
   "metadata": {},
   "outputs": [],
   "source": [
    "for i in zmienne_do_winsoryzacji:\n",
    "    max_threshold= X_train[i].quantile(0.999)\n",
    "    index_max_train=X_train[X_train[i]>max_threshold].index\n",
    "    index_max_test=X_test[X_test[i]>max_threshold].index\n",
    "    X_train.loc[index_max_train, i]=max_threshold\n",
    "    X_test.loc[index_max_test, i]=max_threshold\n"
   ]
  },
  {
   "cell_type": "code",
   "execution_count": 72,
   "metadata": {},
   "outputs": [
    {
     "data": {
      "text/plain": [
       "<matplotlib.axes._subplots.AxesSubplot at 0x2b4efe11ec8>"
      ]
     },
     "execution_count": 72,
     "metadata": {},
     "output_type": "execute_result"
    },
    {
     "data": {
      "image/png": "[encoded data removed]",
      "text/plain": [
       "<Figure size 432x288 with 1 Axes>"
      ]
     },
     "metadata": {},
     "output_type": "display_data"
    }
   ],
   "source": [
    "sns.boxplot(X_train[\"Age\"])"
   ]
  },
  {
   "cell_type": "code",
   "execution_count": 73,
   "metadata": {},
   "outputs": [
    {
     "data": {
      "text/plain": [
       "<matplotlib.axes._subplots.AxesSubplot at 0x2b4efef5948>"
      ]
     },
     "execution_count": 73,
     "metadata": {},
     "output_type": "execute_result"
    },
    {
     "data": {
      "image/png": "[encoded data removed]",
      "text/plain": [
       "<Figure size 432x288 with 1 Axes>"
      ]
     },
     "metadata": {},
     "output_type": "display_data"
    }
   ],
   "source": [
    "sns.boxplot(X_test[\"Age\"])"
   ]
  },
  {
   "cell_type": "code",
   "execution_count": 74,
   "metadata": {},
   "outputs": [
    {
     "data": {
      "text/plain": [
       "<matplotlib.axes._subplots.AxesSubplot at 0x2b4eff05dc8>"
      ]
     },
     "execution_count": 74,
     "metadata": {},
     "output_type": "execute_result"
    },
    {
     "data": {
      "image/png": "[encoded data removed]",
      "text/plain": [
       "<Figure size 432x288 with 1 Axes>"
      ]
     },
     "metadata": {},
     "output_type": "display_data"
    }
   ],
   "source": [
    "sns.boxplot(X_train[\"friends_number\"])"
   ]
  },
  {
   "cell_type": "code",
   "execution_count": 75,
   "metadata": {},
   "outputs": [
    {
     "data": {
      "text/plain": [
       "<matplotlib.axes._subplots.AxesSubplot at 0x2b4efeb6788>"
      ]
     },
     "execution_count": 75,
     "metadata": {},
     "output_type": "execute_result"
    },
    {
     "data": {
      "image/png": "[encoded data removed]",
      "text/plain": [
       "<Figure size 432x288 with 1 Axes>"
      ]
     },
     "metadata": {},
     "output_type": "display_data"
    }
   ],
   "source": [
    "sns.boxplot(X_test[\"friends_number\"])"
   ]
  },
  {
   "cell_type": "markdown",
   "metadata": {},
   "source": [
    "## Braki danych "
   ]
  },
  {
   "cell_type": "code",
   "execution_count": 76,
   "metadata": {},
   "outputs": [
    {
     "data": {
      "text/plain": [
       "name                    13\n",
       "sex                    260\n",
       "location                 0\n",
       "location_population      0\n",
       "occupation               0\n",
       "hobbies                  0\n",
       "daily_commute          275\n",
       "friends_number           0\n",
       "relationship_status    280\n",
       "education              292\n",
       "credit_card_type       293\n",
       "Age                    278\n",
       "sports_interests         0\n",
       "dtype: int64"
      ]
     },
     "execution_count": 76,
     "metadata": {},
     "output_type": "execute_result"
    }
   ],
   "source": [
    "X_train.isnull().sum()"
   ]
  },
  {
   "cell_type": "code",
   "execution_count": 77,
   "metadata": {},
   "outputs": [
    {
     "data": {
      "text/plain": [
       "name                     5\n",
       "sex                    124\n",
       "location                 0\n",
       "location_population      0\n",
       "occupation               0\n",
       "hobbies                  0\n",
       "daily_commute          130\n",
       "friends_number           0\n",
       "relationship_status    113\n",
       "education              116\n",
       "credit_card_type       135\n",
       "Age                    116\n",
       "sports_interests         0\n",
       "dtype: int64"
      ]
     },
     "execution_count": 77,
     "metadata": {},
     "output_type": "execute_result"
    }
   ],
   "source": [
    "X_test.isnull().sum()"
   ]
  },
  {
   "cell_type": "markdown",
   "metadata": {},
   "source": [
    "### uzupełnianie zmiennej sex"
   ]
  },
  {
   "cell_type": "code",
   "execution_count": 78,
   "metadata": {},
   "outputs": [
    {
     "data": {
      "text/html": [
       "<div>\n",
       "<style scoped>\n",
       "    .dataframe tbody tr th:only-of-type {\n",
       "        vertical-align: middle;\n",
       "    }\n",
       "\n",
       "    .dataframe tbody tr th {\n",
       "        vertical-align: top;\n",
       "    }\n",
       "\n",
       "    .dataframe thead th {\n",
       "        text-align: right;\n",
       "    }\n",
       "</style>\n",
       "<table border=\"1\" class=\"dataframe\">\n",
       "  <thead>\n",
       "    <tr style=\"text-align: right;\">\n",
       "      <th></th>\n",
       "      <th>target</th>\n",
       "      <th>name</th>\n",
       "      <th>sex</th>\n",
       "      <th>location</th>\n",
       "      <th>location_population</th>\n",
       "      <th>occupation</th>\n",
       "      <th>hobbies</th>\n",
       "      <th>daily_commute</th>\n",
       "      <th>friends_number</th>\n",
       "      <th>relationship_status</th>\n",
       "      <th>education</th>\n",
       "      <th>credit_card_type</th>\n",
       "      <th>Age</th>\n",
       "      <th>sports_interests</th>\n",
       "    </tr>\n",
       "  </thead>\n",
       "  <tbody>\n",
       "    <tr>\n",
       "      <td>222</td>\n",
       "      <td>0</td>\n",
       "      <td>NaN</td>\n",
       "      <td>male</td>\n",
       "      <td>Żagań</td>\n",
       "      <td>26148</td>\n",
       "      <td>workers</td>\n",
       "      <td>[Kettleballs, Stretching, Juggling]</td>\n",
       "      <td>55.0</td>\n",
       "      <td>98</td>\n",
       "      <td>Married with kids</td>\n",
       "      <td>2.0</td>\n",
       "      <td>Visa</td>\n",
       "      <td>21.0</td>\n",
       "      <td>1</td>\n",
       "    </tr>\n",
       "    <tr>\n",
       "      <td>725</td>\n",
       "      <td>1</td>\n",
       "      <td>NaN</td>\n",
       "      <td>male</td>\n",
       "      <td>Sulęcin</td>\n",
       "      <td>10168</td>\n",
       "      <td>workers</td>\n",
       "      <td>[nan]</td>\n",
       "      <td>23.0</td>\n",
       "      <td>266</td>\n",
       "      <td>In relationship</td>\n",
       "      <td>4.0</td>\n",
       "      <td>NaN</td>\n",
       "      <td>NaN</td>\n",
       "      <td>0</td>\n",
       "    </tr>\n",
       "    <tr>\n",
       "      <td>760</td>\n",
       "      <td>0</td>\n",
       "      <td>NaN</td>\n",
       "      <td>male</td>\n",
       "      <td>Września</td>\n",
       "      <td>30279</td>\n",
       "      <td>professionals</td>\n",
       "      <td>[Polo]</td>\n",
       "      <td>14.0</td>\n",
       "      <td>261</td>\n",
       "      <td>In relationship</td>\n",
       "      <td>3.0</td>\n",
       "      <td>Visa</td>\n",
       "      <td>54.0</td>\n",
       "      <td>1</td>\n",
       "    </tr>\n",
       "    <tr>\n",
       "      <td>1065</td>\n",
       "      <td>1</td>\n",
       "      <td>NaN</td>\n",
       "      <td>male</td>\n",
       "      <td>Pruszcz Gdański</td>\n",
       "      <td>30468</td>\n",
       "      <td>professionals</td>\n",
       "      <td>[Fitness, Crossfit, Squash, Astronomy, Writing]</td>\n",
       "      <td>NaN</td>\n",
       "      <td>182</td>\n",
       "      <td>Single</td>\n",
       "      <td>4.0</td>\n",
       "      <td>Visa</td>\n",
       "      <td>50.0</td>\n",
       "      <td>1</td>\n",
       "    </tr>\n",
       "    <tr>\n",
       "      <td>1319</td>\n",
       "      <td>0</td>\n",
       "      <td>NaN</td>\n",
       "      <td>male</td>\n",
       "      <td>Gliwice</td>\n",
       "      <td>181309</td>\n",
       "      <td>managers</td>\n",
       "      <td>[Dance]</td>\n",
       "      <td>87.0</td>\n",
       "      <td>139</td>\n",
       "      <td>Married</td>\n",
       "      <td>3.0</td>\n",
       "      <td>Mastercard</td>\n",
       "      <td>NaN</td>\n",
       "      <td>1</td>\n",
       "    </tr>\n",
       "    <tr>\n",
       "      <td>1350</td>\n",
       "      <td>0</td>\n",
       "      <td>NaN</td>\n",
       "      <td>male</td>\n",
       "      <td>Poznań</td>\n",
       "      <td>538633</td>\n",
       "      <td>workers</td>\n",
       "      <td>[Stretching, Tai chi, Shooting, Kitesurfing]</td>\n",
       "      <td>18.0</td>\n",
       "      <td>217</td>\n",
       "      <td>Married with kids</td>\n",
       "      <td>3.0</td>\n",
       "      <td>Visa</td>\n",
       "      <td>58.0</td>\n",
       "      <td>1</td>\n",
       "    </tr>\n",
       "    <tr>\n",
       "      <td>1628</td>\n",
       "      <td>1</td>\n",
       "      <td>NaN</td>\n",
       "      <td>male</td>\n",
       "      <td>Warszawa</td>\n",
       "      <td>1764615</td>\n",
       "      <td>workers</td>\n",
       "      <td>[Power bike, Glassblowing, Scouting]</td>\n",
       "      <td>40.0</td>\n",
       "      <td>198</td>\n",
       "      <td>Married with kids</td>\n",
       "      <td>2.0</td>\n",
       "      <td>Visa</td>\n",
       "      <td>37.0</td>\n",
       "      <td>1</td>\n",
       "    </tr>\n",
       "    <tr>\n",
       "      <td>2046</td>\n",
       "      <td>1</td>\n",
       "      <td>NaN</td>\n",
       "      <td>male</td>\n",
       "      <td>Warszawa</td>\n",
       "      <td>1764615</td>\n",
       "      <td>professionals</td>\n",
       "      <td>[Badminton, Gym, Amateur radio, Parkour]</td>\n",
       "      <td>90.0</td>\n",
       "      <td>249</td>\n",
       "      <td>Married</td>\n",
       "      <td>NaN</td>\n",
       "      <td>Visa</td>\n",
       "      <td>33.0</td>\n",
       "      <td>1</td>\n",
       "    </tr>\n",
       "    <tr>\n",
       "      <td>2155</td>\n",
       "      <td>0</td>\n",
       "      <td>NaN</td>\n",
       "      <td>male</td>\n",
       "      <td>Gdańsk</td>\n",
       "      <td>464254</td>\n",
       "      <td>workers</td>\n",
       "      <td>[nan]</td>\n",
       "      <td>32.0</td>\n",
       "      <td>319</td>\n",
       "      <td>Married with kids</td>\n",
       "      <td>1.0</td>\n",
       "      <td>Mastercard</td>\n",
       "      <td>45.0</td>\n",
       "      <td>0</td>\n",
       "    </tr>\n",
       "    <tr>\n",
       "      <td>2290</td>\n",
       "      <td>0</td>\n",
       "      <td>NaN</td>\n",
       "      <td>male</td>\n",
       "      <td>Reszel</td>\n",
       "      <td>4615</td>\n",
       "      <td>workers</td>\n",
       "      <td>[Gaming]</td>\n",
       "      <td>NaN</td>\n",
       "      <td>235</td>\n",
       "      <td>Single</td>\n",
       "      <td>4.0</td>\n",
       "      <td>Revolut</td>\n",
       "      <td>NaN</td>\n",
       "      <td>0</td>\n",
       "    </tr>\n",
       "    <tr>\n",
       "      <td>2305</td>\n",
       "      <td>0</td>\n",
       "      <td>NaN</td>\n",
       "      <td>male</td>\n",
       "      <td>Racibórz</td>\n",
       "      <td>55189</td>\n",
       "      <td>workers</td>\n",
       "      <td>[Kitesurfing, Board games]</td>\n",
       "      <td>51.0</td>\n",
       "      <td>44</td>\n",
       "      <td>In relationship</td>\n",
       "      <td>4.0</td>\n",
       "      <td>Mastercard</td>\n",
       "      <td>57.0</td>\n",
       "      <td>1</td>\n",
       "    </tr>\n",
       "    <tr>\n",
       "      <td>2699</td>\n",
       "      <td>1</td>\n",
       "      <td>NaN</td>\n",
       "      <td>male</td>\n",
       "      <td>Katowice</td>\n",
       "      <td>296262</td>\n",
       "      <td>professionals</td>\n",
       "      <td>[Weightlifting, Netball, Nordic skating, Playi...</td>\n",
       "      <td>9.0</td>\n",
       "      <td>167</td>\n",
       "      <td>Single</td>\n",
       "      <td>1.0</td>\n",
       "      <td>Visa</td>\n",
       "      <td>34.0</td>\n",
       "      <td>1</td>\n",
       "    </tr>\n",
       "    <tr>\n",
       "      <td>2875</td>\n",
       "      <td>0</td>\n",
       "      <td>NaN</td>\n",
       "      <td>male</td>\n",
       "      <td>Warszawa</td>\n",
       "      <td>1764615</td>\n",
       "      <td>workers</td>\n",
       "      <td>[Electronics, Fashion]</td>\n",
       "      <td>27.0</td>\n",
       "      <td>212</td>\n",
       "      <td>In relationship</td>\n",
       "      <td>NaN</td>\n",
       "      <td>NaN</td>\n",
       "      <td>43.0</td>\n",
       "      <td>0</td>\n",
       "    </tr>\n",
       "    <tr>\n",
       "      <td>2925</td>\n",
       "      <td>0</td>\n",
       "      <td>NaN</td>\n",
       "      <td>NaN</td>\n",
       "      <td>Warszawa</td>\n",
       "      <td>1764615</td>\n",
       "      <td>managers</td>\n",
       "      <td>[Skiing, Shopping]</td>\n",
       "      <td>81.0</td>\n",
       "      <td>166</td>\n",
       "      <td>In relationship</td>\n",
       "      <td>NaN</td>\n",
       "      <td>Visa</td>\n",
       "      <td>61.0</td>\n",
       "      <td>1</td>\n",
       "    </tr>\n",
       "    <tr>\n",
       "      <td>3229</td>\n",
       "      <td>0</td>\n",
       "      <td>NaN</td>\n",
       "      <td>male</td>\n",
       "      <td>Tomaszów Mazowiecki</td>\n",
       "      <td>63238</td>\n",
       "      <td>officers</td>\n",
       "      <td>[Stretching]</td>\n",
       "      <td>24.0</td>\n",
       "      <td>127</td>\n",
       "      <td>NaN</td>\n",
       "      <td>3.0</td>\n",
       "      <td>Visa</td>\n",
       "      <td>50.0</td>\n",
       "      <td>1</td>\n",
       "    </tr>\n",
       "    <tr>\n",
       "      <td>3368</td>\n",
       "      <td>0</td>\n",
       "      <td>NaN</td>\n",
       "      <td>male</td>\n",
       "      <td>Bydgoszcz</td>\n",
       "      <td>352313</td>\n",
       "      <td>officers</td>\n",
       "      <td>[Vehicle restoration]</td>\n",
       "      <td>53.0</td>\n",
       "      <td>194</td>\n",
       "      <td>Married with kids</td>\n",
       "      <td>1.0</td>\n",
       "      <td>Mastercard</td>\n",
       "      <td>35.0</td>\n",
       "      <td>0</td>\n",
       "    </tr>\n",
       "    <tr>\n",
       "      <td>3588</td>\n",
       "      <td>0</td>\n",
       "      <td>NaN</td>\n",
       "      <td>male</td>\n",
       "      <td>Poznań</td>\n",
       "      <td>538633</td>\n",
       "      <td>professionals</td>\n",
       "      <td>[Skydiving]</td>\n",
       "      <td>22.0</td>\n",
       "      <td>363</td>\n",
       "      <td>NaN</td>\n",
       "      <td>4.0</td>\n",
       "      <td>Visa</td>\n",
       "      <td>36.0</td>\n",
       "      <td>1</td>\n",
       "    </tr>\n",
       "    <tr>\n",
       "      <td>3981</td>\n",
       "      <td>1</td>\n",
       "      <td>NaN</td>\n",
       "      <td>male</td>\n",
       "      <td>Kraków</td>\n",
       "      <td>767348</td>\n",
       "      <td>professionals</td>\n",
       "      <td>[Fitness]</td>\n",
       "      <td>9.0</td>\n",
       "      <td>239</td>\n",
       "      <td>Single</td>\n",
       "      <td>4.0</td>\n",
       "      <td>Mastercard</td>\n",
       "      <td>58.0</td>\n",
       "      <td>1</td>\n",
       "    </tr>\n",
       "    <tr>\n",
       "      <td>2748</td>\n",
       "      <td>0</td>\n",
       "      <td>Ada</td>\n",
       "      <td>female</td>\n",
       "      <td>Bielsko-Biała</td>\n",
       "      <td>171505</td>\n",
       "      <td>professionals</td>\n",
       "      <td>[LARPing, Water sports]</td>\n",
       "      <td>64.0</td>\n",
       "      <td>245</td>\n",
       "      <td>Married</td>\n",
       "      <td>6.0</td>\n",
       "      <td>NaN</td>\n",
       "      <td>53.0</td>\n",
       "      <td>1</td>\n",
       "    </tr>\n",
       "    <tr>\n",
       "      <td>3077</td>\n",
       "      <td>0</td>\n",
       "      <td>Ada</td>\n",
       "      <td>female</td>\n",
       "      <td>Bochnia</td>\n",
       "      <td>29992</td>\n",
       "      <td>professionals</td>\n",
       "      <td>[nan]</td>\n",
       "      <td>82.0</td>\n",
       "      <td>323</td>\n",
       "      <td>Married</td>\n",
       "      <td>3.0</td>\n",
       "      <td>Mastercard</td>\n",
       "      <td>58.0</td>\n",
       "      <td>0</td>\n",
       "    </tr>\n",
       "  </tbody>\n",
       "</table>\n",
       "</div>"
      ],
      "text/plain": [
       "      target name     sex             location  location_population  \\\n",
       "222        0  NaN    male                Żagań                26148   \n",
       "725        1  NaN    male              Sulęcin                10168   \n",
       "760        0  NaN    male             Września                30279   \n",
       "1065       1  NaN    male      Pruszcz Gdański                30468   \n",
       "1319       0  NaN    male              Gliwice               181309   \n",
       "1350       0  NaN    male               Poznań               538633   \n",
       "1628       1  NaN    male             Warszawa              1764615   \n",
       "2046       1  NaN    male             Warszawa              1764615   \n",
       "2155       0  NaN    male               Gdańsk               464254   \n",
       "2290       0  NaN    male               Reszel                 4615   \n",
       "2305       0  NaN    male             Racibórz                55189   \n",
       "2699       1  NaN    male             Katowice               296262   \n",
       "2875       0  NaN    male             Warszawa              1764615   \n",
       "2925       0  NaN     NaN             Warszawa              1764615   \n",
       "3229       0  NaN    male  Tomaszów Mazowiecki                63238   \n",
       "3368       0  NaN    male            Bydgoszcz               352313   \n",
       "3588       0  NaN    male               Poznań               538633   \n",
       "3981       1  NaN    male               Kraków               767348   \n",
       "2748       0  Ada  female        Bielsko-Biała               171505   \n",
       "3077       0  Ada  female              Bochnia                29992   \n",
       "\n",
       "         occupation                                            hobbies  \\\n",
       "222         workers                [Kettleballs, Stretching, Juggling]   \n",
       "725         workers                                              [nan]   \n",
       "760   professionals                                             [Polo]   \n",
       "1065  professionals    [Fitness, Crossfit, Squash, Astronomy, Writing]   \n",
       "1319       managers                                            [Dance]   \n",
       "1350        workers       [Stretching, Tai chi, Shooting, Kitesurfing]   \n",
       "1628        workers               [Power bike, Glassblowing, Scouting]   \n",
       "2046  professionals           [Badminton, Gym, Amateur radio, Parkour]   \n",
       "2155        workers                                              [nan]   \n",
       "2290        workers                                           [Gaming]   \n",
       "2305        workers                         [Kitesurfing, Board games]   \n",
       "2699  professionals  [Weightlifting, Netball, Nordic skating, Playi...   \n",
       "2875        workers                             [Electronics, Fashion]   \n",
       "2925       managers                                 [Skiing, Shopping]   \n",
       "3229       officers                                       [Stretching]   \n",
       "3368       officers                              [Vehicle restoration]   \n",
       "3588  professionals                                        [Skydiving]   \n",
       "3981  professionals                                          [Fitness]   \n",
       "2748  professionals                            [LARPing, Water sports]   \n",
       "3077  professionals                                              [nan]   \n",
       "\n",
       "      daily_commute  friends_number relationship_status  education  \\\n",
       "222            55.0              98   Married with kids        2.0   \n",
       "725            23.0             266     In relationship        4.0   \n",
       "760            14.0             261     In relationship        3.0   \n",
       "1065            NaN             182              Single        4.0   \n",
       "1319           87.0             139             Married        3.0   \n",
       "1350           18.0             217   Married with kids        3.0   \n",
       "1628           40.0             198   Married with kids        2.0   \n",
       "2046           90.0             249             Married        NaN   \n",
       "2155           32.0             319   Married with kids        1.0   \n",
       "2290            NaN             235              Single        4.0   \n",
       "2305           51.0              44     In relationship        4.0   \n",
       "2699            9.0             167              Single        1.0   \n",
       "2875           27.0             212     In relationship        NaN   \n",
       "2925           81.0             166     In relationship        NaN   \n",
       "3229           24.0             127                 NaN        3.0   \n",
       "3368           53.0             194   Married with kids        1.0   \n",
       "3588           22.0             363                 NaN        4.0   \n",
       "3981            9.0             239              Single        4.0   \n",
       "2748           64.0             245             Married        6.0   \n",
       "3077           82.0             323             Married        3.0   \n",
       "\n",
       "     credit_card_type   Age  sports_interests  \n",
       "222              Visa  21.0                 1  \n",
       "725               NaN   NaN                 0  \n",
       "760              Visa  54.0                 1  \n",
       "1065             Visa  50.0                 1  \n",
       "1319       Mastercard   NaN                 1  \n",
       "1350             Visa  58.0                 1  \n",
       "1628             Visa  37.0                 1  \n",
       "2046             Visa  33.0                 1  \n",
       "2155       Mastercard  45.0                 0  \n",
       "2290          Revolut   NaN                 0  \n",
       "2305       Mastercard  57.0                 1  \n",
       "2699             Visa  34.0                 1  \n",
       "2875              NaN  43.0                 0  \n",
       "2925             Visa  61.0                 1  \n",
       "3229             Visa  50.0                 1  \n",
       "3368       Mastercard  35.0                 0  \n",
       "3588             Visa  36.0                 1  \n",
       "3981       Mastercard  58.0                 1  \n",
       "2748              NaN  53.0                 1  \n",
       "3077       Mastercard  58.0                 0  "
      ]
     },
     "execution_count": 78,
     "metadata": {},
     "output_type": "execute_result"
    }
   ],
   "source": [
    "df.sort_values(by=\"name\", na_position=\"first\").head(20)"
   ]
  },
  {
   "cell_type": "code",
   "execution_count": 79,
   "metadata": {},
   "outputs": [],
   "source": [
    "a=lambda x: str(x)[-1]\n",
    "X_train[\"name\"]=X_train['name'].apply(a)\n",
    "X_test[\"name\"]=X_test[\"name\"].apply(a)"
   ]
  },
  {
   "cell_type": "code",
   "execution_count": 80,
   "metadata": {},
   "outputs": [],
   "source": [
    "def kobieta_czy_mezczyzna(x):\n",
    "    if x[\"name\"]==\"a\":\n",
    "        return \"female\"\n",
    "    else:\n",
    "        return \"male\"   "
   ]
  },
  {
   "cell_type": "code",
   "execution_count": 81,
   "metadata": {},
   "outputs": [],
   "source": [
    "X_train.loc[:,\"sex\"]=np.where(X_train[\"sex\"].isna(), X_train.apply(kobieta_czy_mezczyzna, axis=1),X_train[\"sex\"])"
   ]
  },
  {
   "cell_type": "code",
   "execution_count": 82,
   "metadata": {},
   "outputs": [],
   "source": [
    "X_test.loc[:,\"sex\"]=np.where(X_test[\"sex\"].isna(), X_test.apply(kobieta_czy_mezczyzna, axis=1),X_test[\"sex\"])"
   ]
  },
  {
   "cell_type": "code",
   "execution_count": 83,
   "metadata": {},
   "outputs": [
    {
     "data": {
      "text/plain": [
       "name                     0\n",
       "sex                      0\n",
       "location                 0\n",
       "location_population      0\n",
       "occupation               0\n",
       "hobbies                  0\n",
       "daily_commute          275\n",
       "friends_number           0\n",
       "relationship_status    280\n",
       "education              292\n",
       "credit_card_type       293\n",
       "Age                    278\n",
       "sports_interests         0\n",
       "dtype: int64"
      ]
     },
     "execution_count": 83,
     "metadata": {},
     "output_type": "execute_result"
    }
   ],
   "source": [
    "X_train.isnull().sum()"
   ]
  },
  {
   "cell_type": "code",
   "execution_count": 84,
   "metadata": {},
   "outputs": [
    {
     "data": {
      "text/plain": [
       "name                     0\n",
       "sex                      0\n",
       "location                 0\n",
       "location_population      0\n",
       "occupation               0\n",
       "hobbies                  0\n",
       "daily_commute          130\n",
       "friends_number           0\n",
       "relationship_status    113\n",
       "education              116\n",
       "credit_card_type       135\n",
       "Age                    116\n",
       "sports_interests         0\n",
       "dtype: int64"
      ]
     },
     "execution_count": 84,
     "metadata": {},
     "output_type": "execute_result"
    }
   ],
   "source": [
    "X_test.isnull().sum()"
   ]
  },
  {
   "cell_type": "markdown",
   "metadata": {},
   "source": [
    "### uzupełnianie zmiennej age"
   ]
  },
  {
   "cell_type": "code",
   "execution_count": 85,
   "metadata": {},
   "outputs": [
    {
     "data": {
      "text/plain": [
       "0.2905774124551979"
      ]
     },
     "execution_count": 85,
     "metadata": {},
     "output_type": "execute_result"
    }
   ],
   "source": [
    "X_train[\"Age\"].skew()"
   ]
  },
  {
   "cell_type": "code",
   "execution_count": 86,
   "metadata": {},
   "outputs": [
    {
     "data": {
      "text/plain": [
       "0.2946743324407233"
      ]
     },
     "execution_count": 86,
     "metadata": {},
     "output_type": "execute_result"
    }
   ],
   "source": [
    "X_test[\"Age\"].skew()"
   ]
  },
  {
   "cell_type": "code",
   "execution_count": 87,
   "metadata": {},
   "outputs": [
    {
     "data": {
      "text/plain": [
       "<matplotlib.axes._subplots.AxesSubplot at 0x2b4f0176d88>"
      ]
     },
     "execution_count": 87,
     "metadata": {},
     "output_type": "execute_result"
    },
    {
     "data": {
      "image/png": "[encoded data removed]",
      "text/plain": [
       "<Figure size 432x288 with 1 Axes>"
      ]
     },
     "metadata": {},
     "output_type": "display_data"
    }
   ],
   "source": [
    "X_train['Age'].hist()"
   ]
  },
  {
   "cell_type": "code",
   "execution_count": 88,
   "metadata": {},
   "outputs": [
    {
     "data": {
      "text/plain": [
       "target                -0.257361\n",
       "sports_interests      -0.034806\n",
       "location_population   -0.026143\n",
       "education              0.006325\n",
       "daily_commute          0.014922\n",
       "friends_number         0.026671\n",
       "Age                    1.000000\n",
       "Name: Age, dtype: float64"
      ]
     },
     "execution_count": 88,
     "metadata": {},
     "output_type": "execute_result"
    }
   ],
   "source": [
    "df.corr()['Age'].sort_values()"
   ]
  },
  {
   "cell_type": "code",
   "execution_count": 89,
   "metadata": {},
   "outputs": [],
   "source": [
    "age_agg = X_train.groupby([\"relationship_status\",\"sex\",\"education\"]).agg({'Age': 'mean'})"
   ]
  },
  {
   "cell_type": "code",
   "execution_count": 90,
   "metadata": {},
   "outputs": [
    {
     "data": {
      "text/html": [
       "<div>\n",
       "<style scoped>\n",
       "    .dataframe tbody tr th:only-of-type {\n",
       "        vertical-align: middle;\n",
       "    }\n",
       "\n",
       "    .dataframe tbody tr th {\n",
       "        vertical-align: top;\n",
       "    }\n",
       "\n",
       "    .dataframe thead th {\n",
       "        text-align: right;\n",
       "    }\n",
       "</style>\n",
       "<table border=\"1\" class=\"dataframe\">\n",
       "  <thead>\n",
       "    <tr style=\"text-align: right;\">\n",
       "      <th></th>\n",
       "      <th></th>\n",
       "      <th></th>\n",
       "      <th>Age</th>\n",
       "    </tr>\n",
       "    <tr>\n",
       "      <th>relationship_status</th>\n",
       "      <th>sex</th>\n",
       "      <th>education</th>\n",
       "      <th></th>\n",
       "    </tr>\n",
       "  </thead>\n",
       "  <tbody>\n",
       "    <tr>\n",
       "      <td rowspan=\"12\" valign=\"top\">Divorced</td>\n",
       "      <td rowspan=\"6\" valign=\"top\">female</td>\n",
       "      <td>1.0</td>\n",
       "      <td>43.000000</td>\n",
       "    </tr>\n",
       "    <tr>\n",
       "      <td>2.0</td>\n",
       "      <td>46.857143</td>\n",
       "    </tr>\n",
       "    <tr>\n",
       "      <td>3.0</td>\n",
       "      <td>40.363636</td>\n",
       "    </tr>\n",
       "    <tr>\n",
       "      <td>4.0</td>\n",
       "      <td>44.285714</td>\n",
       "    </tr>\n",
       "    <tr>\n",
       "      <td>5.0</td>\n",
       "      <td>48.916667</td>\n",
       "    </tr>\n",
       "    <tr>\n",
       "      <td>6.0</td>\n",
       "      <td>54.000000</td>\n",
       "    </tr>\n",
       "    <tr>\n",
       "      <td rowspan=\"6\" valign=\"top\">male</td>\n",
       "      <td>1.0</td>\n",
       "      <td>61.000000</td>\n",
       "    </tr>\n",
       "    <tr>\n",
       "      <td>2.0</td>\n",
       "      <td>40.000000</td>\n",
       "    </tr>\n",
       "    <tr>\n",
       "      <td>3.0</td>\n",
       "      <td>42.714286</td>\n",
       "    </tr>\n",
       "    <tr>\n",
       "      <td>4.0</td>\n",
       "      <td>44.950000</td>\n",
       "    </tr>\n",
       "    <tr>\n",
       "      <td>5.0</td>\n",
       "      <td>42.300000</td>\n",
       "    </tr>\n",
       "    <tr>\n",
       "      <td>6.0</td>\n",
       "      <td>32.000000</td>\n",
       "    </tr>\n",
       "    <tr>\n",
       "      <td rowspan=\"12\" valign=\"top\">In relationship</td>\n",
       "      <td rowspan=\"6\" valign=\"top\">female</td>\n",
       "      <td>1.0</td>\n",
       "      <td>43.800000</td>\n",
       "    </tr>\n",
       "    <tr>\n",
       "      <td>2.0</td>\n",
       "      <td>44.545455</td>\n",
       "    </tr>\n",
       "    <tr>\n",
       "      <td>3.0</td>\n",
       "      <td>44.773333</td>\n",
       "    </tr>\n",
       "    <tr>\n",
       "      <td>4.0</td>\n",
       "      <td>43.024194</td>\n",
       "    </tr>\n",
       "    <tr>\n",
       "      <td>5.0</td>\n",
       "      <td>42.061356</td>\n",
       "    </tr>\n",
       "    <tr>\n",
       "      <td>6.0</td>\n",
       "      <td>42.461538</td>\n",
       "    </tr>\n",
       "    <tr>\n",
       "      <td rowspan=\"6\" valign=\"top\">male</td>\n",
       "      <td>1.0</td>\n",
       "      <td>40.045455</td>\n",
       "    </tr>\n",
       "    <tr>\n",
       "      <td>2.0</td>\n",
       "      <td>40.755556</td>\n",
       "    </tr>\n",
       "    <tr>\n",
       "      <td>3.0</td>\n",
       "      <td>43.138889</td>\n",
       "    </tr>\n",
       "    <tr>\n",
       "      <td>4.0</td>\n",
       "      <td>43.697571</td>\n",
       "    </tr>\n",
       "    <tr>\n",
       "      <td>5.0</td>\n",
       "      <td>41.477612</td>\n",
       "    </tr>\n",
       "    <tr>\n",
       "      <td>6.0</td>\n",
       "      <td>42.706172</td>\n",
       "    </tr>\n",
       "    <tr>\n",
       "      <td rowspan=\"12\" valign=\"top\">Married</td>\n",
       "      <td rowspan=\"6\" valign=\"top\">female</td>\n",
       "      <td>1.0</td>\n",
       "      <td>46.500000</td>\n",
       "    </tr>\n",
       "    <tr>\n",
       "      <td>2.0</td>\n",
       "      <td>44.113636</td>\n",
       "    </tr>\n",
       "    <tr>\n",
       "      <td>3.0</td>\n",
       "      <td>40.730769</td>\n",
       "    </tr>\n",
       "    <tr>\n",
       "      <td>4.0</td>\n",
       "      <td>44.671233</td>\n",
       "    </tr>\n",
       "    <tr>\n",
       "      <td>5.0</td>\n",
       "      <td>47.725490</td>\n",
       "    </tr>\n",
       "    <tr>\n",
       "      <td>6.0</td>\n",
       "      <td>39.909091</td>\n",
       "    </tr>\n",
       "    <tr>\n",
       "      <td rowspan=\"6\" valign=\"top\">male</td>\n",
       "      <td>1.0</td>\n",
       "      <td>42.400000</td>\n",
       "    </tr>\n",
       "    <tr>\n",
       "      <td>2.0</td>\n",
       "      <td>38.222222</td>\n",
       "    </tr>\n",
       "    <tr>\n",
       "      <td>3.0</td>\n",
       "      <td>44.580645</td>\n",
       "    </tr>\n",
       "    <tr>\n",
       "      <td>4.0</td>\n",
       "      <td>40.118644</td>\n",
       "    </tr>\n",
       "    <tr>\n",
       "      <td>5.0</td>\n",
       "      <td>45.368421</td>\n",
       "    </tr>\n",
       "    <tr>\n",
       "      <td>6.0</td>\n",
       "      <td>45.384615</td>\n",
       "    </tr>\n",
       "    <tr>\n",
       "      <td rowspan=\"12\" valign=\"top\">Married with kids</td>\n",
       "      <td rowspan=\"6\" valign=\"top\">female</td>\n",
       "      <td>1.0</td>\n",
       "      <td>42.625000</td>\n",
       "    </tr>\n",
       "    <tr>\n",
       "      <td>2.0</td>\n",
       "      <td>41.533333</td>\n",
       "    </tr>\n",
       "    <tr>\n",
       "      <td>3.0</td>\n",
       "      <td>42.346154</td>\n",
       "    </tr>\n",
       "    <tr>\n",
       "      <td>4.0</td>\n",
       "      <td>44.063291</td>\n",
       "    </tr>\n",
       "    <tr>\n",
       "      <td>5.0</td>\n",
       "      <td>44.559322</td>\n",
       "    </tr>\n",
       "    <tr>\n",
       "      <td>6.0</td>\n",
       "      <td>41.687500</td>\n",
       "    </tr>\n",
       "    <tr>\n",
       "      <td rowspan=\"6\" valign=\"top\">male</td>\n",
       "      <td>1.0</td>\n",
       "      <td>39.857143</td>\n",
       "    </tr>\n",
       "    <tr>\n",
       "      <td>2.0</td>\n",
       "      <td>47.500000</td>\n",
       "    </tr>\n",
       "    <tr>\n",
       "      <td>3.0</td>\n",
       "      <td>45.763158</td>\n",
       "    </tr>\n",
       "    <tr>\n",
       "      <td>4.0</td>\n",
       "      <td>42.692308</td>\n",
       "    </tr>\n",
       "    <tr>\n",
       "      <td>5.0</td>\n",
       "      <td>42.028571</td>\n",
       "    </tr>\n",
       "    <tr>\n",
       "      <td>6.0</td>\n",
       "      <td>45.666667</td>\n",
       "    </tr>\n",
       "    <tr>\n",
       "      <td rowspan=\"12\" valign=\"top\">Single</td>\n",
       "      <td rowspan=\"6\" valign=\"top\">female</td>\n",
       "      <td>1.0</td>\n",
       "      <td>39.300000</td>\n",
       "    </tr>\n",
       "    <tr>\n",
       "      <td>2.0</td>\n",
       "      <td>39.785714</td>\n",
       "    </tr>\n",
       "    <tr>\n",
       "      <td>3.0</td>\n",
       "      <td>45.465116</td>\n",
       "    </tr>\n",
       "    <tr>\n",
       "      <td>4.0</td>\n",
       "      <td>39.978261</td>\n",
       "    </tr>\n",
       "    <tr>\n",
       "      <td>5.0</td>\n",
       "      <td>37.000000</td>\n",
       "    </tr>\n",
       "    <tr>\n",
       "      <td>6.0</td>\n",
       "      <td>39.000000</td>\n",
       "    </tr>\n",
       "    <tr>\n",
       "      <td rowspan=\"6\" valign=\"top\">male</td>\n",
       "      <td>1.0</td>\n",
       "      <td>37.000000</td>\n",
       "    </tr>\n",
       "    <tr>\n",
       "      <td>2.0</td>\n",
       "      <td>36.777778</td>\n",
       "    </tr>\n",
       "    <tr>\n",
       "      <td>3.0</td>\n",
       "      <td>39.700000</td>\n",
       "    </tr>\n",
       "    <tr>\n",
       "      <td>4.0</td>\n",
       "      <td>37.207547</td>\n",
       "    </tr>\n",
       "    <tr>\n",
       "      <td>5.0</td>\n",
       "      <td>38.363636</td>\n",
       "    </tr>\n",
       "    <tr>\n",
       "      <td>6.0</td>\n",
       "      <td>33.846154</td>\n",
       "    </tr>\n",
       "  </tbody>\n",
       "</table>\n",
       "</div>"
      ],
      "text/plain": [
       "                                            Age\n",
       "relationship_status sex    education           \n",
       "Divorced            female 1.0        43.000000\n",
       "                           2.0        46.857143\n",
       "                           3.0        40.363636\n",
       "                           4.0        44.285714\n",
       "                           5.0        48.916667\n",
       "                           6.0        54.000000\n",
       "                    male   1.0        61.000000\n",
       "                           2.0        40.000000\n",
       "                           3.0        42.714286\n",
       "                           4.0        44.950000\n",
       "                           5.0        42.300000\n",
       "                           6.0        32.000000\n",
       "In relationship     female 1.0        43.800000\n",
       "                           2.0        44.545455\n",
       "                           3.0        44.773333\n",
       "                           4.0        43.024194\n",
       "                           5.0        42.061356\n",
       "                           6.0        42.461538\n",
       "                    male   1.0        40.045455\n",
       "                           2.0        40.755556\n",
       "                           3.0        43.138889\n",
       "                           4.0        43.697571\n",
       "                           5.0        41.477612\n",
       "                           6.0        42.706172\n",
       "Married             female 1.0        46.500000\n",
       "                           2.0        44.113636\n",
       "                           3.0        40.730769\n",
       "                           4.0        44.671233\n",
       "                           5.0        47.725490\n",
       "                           6.0        39.909091\n",
       "                    male   1.0        42.400000\n",
       "                           2.0        38.222222\n",
       "                           3.0        44.580645\n",
       "                           4.0        40.118644\n",
       "                           5.0        45.368421\n",
       "                           6.0        45.384615\n",
       "Married with kids   female 1.0        42.625000\n",
       "                           2.0        41.533333\n",
       "                           3.0        42.346154\n",
       "                           4.0        44.063291\n",
       "                           5.0        44.559322\n",
       "                           6.0        41.687500\n",
       "                    male   1.0        39.857143\n",
       "                           2.0        47.500000\n",
       "                           3.0        45.763158\n",
       "                           4.0        42.692308\n",
       "                           5.0        42.028571\n",
       "                           6.0        45.666667\n",
       "Single              female 1.0        39.300000\n",
       "                           2.0        39.785714\n",
       "                           3.0        45.465116\n",
       "                           4.0        39.978261\n",
       "                           5.0        37.000000\n",
       "                           6.0        39.000000\n",
       "                    male   1.0        37.000000\n",
       "                           2.0        36.777778\n",
       "                           3.0        39.700000\n",
       "                           4.0        37.207547\n",
       "                           5.0        38.363636\n",
       "                           6.0        33.846154"
      ]
     },
     "execution_count": 90,
     "metadata": {},
     "output_type": "execute_result"
    }
   ],
   "source": [
    "age_agg"
   ]
  },
  {
   "cell_type": "code",
   "execution_count": 91,
   "metadata": {},
   "outputs": [
    {
     "data": {
      "text/plain": [
       "42.53903132434576"
      ]
     },
     "execution_count": 91,
     "metadata": {},
     "output_type": "execute_result"
    }
   ],
   "source": [
    "X_train[\"Age\"].mean()"
   ]
  },
  {
   "cell_type": "code",
   "execution_count": 92,
   "metadata": {},
   "outputs": [],
   "source": [
    "age_agg = age_agg.reset_index()"
   ]
  },
  {
   "cell_type": "code",
   "execution_count": 93,
   "metadata": {},
   "outputs": [
    {
     "data": {
      "text/html": [
       "<div>\n",
       "<style scoped>\n",
       "    .dataframe tbody tr th:only-of-type {\n",
       "        vertical-align: middle;\n",
       "    }\n",
       "\n",
       "    .dataframe tbody tr th {\n",
       "        vertical-align: top;\n",
       "    }\n",
       "\n",
       "    .dataframe thead th {\n",
       "        text-align: right;\n",
       "    }\n",
       "</style>\n",
       "<table border=\"1\" class=\"dataframe\">\n",
       "  <thead>\n",
       "    <tr style=\"text-align: right;\">\n",
       "      <th></th>\n",
       "      <th>relationship_status</th>\n",
       "      <th>sex</th>\n",
       "      <th>education</th>\n",
       "      <th>Age</th>\n",
       "    </tr>\n",
       "  </thead>\n",
       "  <tbody>\n",
       "    <tr>\n",
       "      <td>0</td>\n",
       "      <td>Divorced</td>\n",
       "      <td>female</td>\n",
       "      <td>1.0</td>\n",
       "      <td>43.000000</td>\n",
       "    </tr>\n",
       "    <tr>\n",
       "      <td>1</td>\n",
       "      <td>Divorced</td>\n",
       "      <td>female</td>\n",
       "      <td>2.0</td>\n",
       "      <td>46.857143</td>\n",
       "    </tr>\n",
       "    <tr>\n",
       "      <td>2</td>\n",
       "      <td>Divorced</td>\n",
       "      <td>female</td>\n",
       "      <td>3.0</td>\n",
       "      <td>40.363636</td>\n",
       "    </tr>\n",
       "    <tr>\n",
       "      <td>3</td>\n",
       "      <td>Divorced</td>\n",
       "      <td>female</td>\n",
       "      <td>4.0</td>\n",
       "      <td>44.285714</td>\n",
       "    </tr>\n",
       "    <tr>\n",
       "      <td>4</td>\n",
       "      <td>Divorced</td>\n",
       "      <td>female</td>\n",
       "      <td>5.0</td>\n",
       "      <td>48.916667</td>\n",
       "    </tr>\n",
       "    <tr>\n",
       "      <td>5</td>\n",
       "      <td>Divorced</td>\n",
       "      <td>female</td>\n",
       "      <td>6.0</td>\n",
       "      <td>54.000000</td>\n",
       "    </tr>\n",
       "    <tr>\n",
       "      <td>6</td>\n",
       "      <td>Divorced</td>\n",
       "      <td>male</td>\n",
       "      <td>1.0</td>\n",
       "      <td>61.000000</td>\n",
       "    </tr>\n",
       "    <tr>\n",
       "      <td>7</td>\n",
       "      <td>Divorced</td>\n",
       "      <td>male</td>\n",
       "      <td>2.0</td>\n",
       "      <td>40.000000</td>\n",
       "    </tr>\n",
       "    <tr>\n",
       "      <td>8</td>\n",
       "      <td>Divorced</td>\n",
       "      <td>male</td>\n",
       "      <td>3.0</td>\n",
       "      <td>42.714286</td>\n",
       "    </tr>\n",
       "    <tr>\n",
       "      <td>9</td>\n",
       "      <td>Divorced</td>\n",
       "      <td>male</td>\n",
       "      <td>4.0</td>\n",
       "      <td>44.950000</td>\n",
       "    </tr>\n",
       "    <tr>\n",
       "      <td>10</td>\n",
       "      <td>Divorced</td>\n",
       "      <td>male</td>\n",
       "      <td>5.0</td>\n",
       "      <td>42.300000</td>\n",
       "    </tr>\n",
       "    <tr>\n",
       "      <td>11</td>\n",
       "      <td>Divorced</td>\n",
       "      <td>male</td>\n",
       "      <td>6.0</td>\n",
       "      <td>32.000000</td>\n",
       "    </tr>\n",
       "    <tr>\n",
       "      <td>12</td>\n",
       "      <td>In relationship</td>\n",
       "      <td>female</td>\n",
       "      <td>1.0</td>\n",
       "      <td>43.800000</td>\n",
       "    </tr>\n",
       "    <tr>\n",
       "      <td>13</td>\n",
       "      <td>In relationship</td>\n",
       "      <td>female</td>\n",
       "      <td>2.0</td>\n",
       "      <td>44.545455</td>\n",
       "    </tr>\n",
       "    <tr>\n",
       "      <td>14</td>\n",
       "      <td>In relationship</td>\n",
       "      <td>female</td>\n",
       "      <td>3.0</td>\n",
       "      <td>44.773333</td>\n",
       "    </tr>\n",
       "    <tr>\n",
       "      <td>15</td>\n",
       "      <td>In relationship</td>\n",
       "      <td>female</td>\n",
       "      <td>4.0</td>\n",
       "      <td>43.024194</td>\n",
       "    </tr>\n",
       "    <tr>\n",
       "      <td>16</td>\n",
       "      <td>In relationship</td>\n",
       "      <td>female</td>\n",
       "      <td>5.0</td>\n",
       "      <td>42.061356</td>\n",
       "    </tr>\n",
       "    <tr>\n",
       "      <td>17</td>\n",
       "      <td>In relationship</td>\n",
       "      <td>female</td>\n",
       "      <td>6.0</td>\n",
       "      <td>42.461538</td>\n",
       "    </tr>\n",
       "    <tr>\n",
       "      <td>18</td>\n",
       "      <td>In relationship</td>\n",
       "      <td>male</td>\n",
       "      <td>1.0</td>\n",
       "      <td>40.045455</td>\n",
       "    </tr>\n",
       "    <tr>\n",
       "      <td>19</td>\n",
       "      <td>In relationship</td>\n",
       "      <td>male</td>\n",
       "      <td>2.0</td>\n",
       "      <td>40.755556</td>\n",
       "    </tr>\n",
       "    <tr>\n",
       "      <td>20</td>\n",
       "      <td>In relationship</td>\n",
       "      <td>male</td>\n",
       "      <td>3.0</td>\n",
       "      <td>43.138889</td>\n",
       "    </tr>\n",
       "    <tr>\n",
       "      <td>21</td>\n",
       "      <td>In relationship</td>\n",
       "      <td>male</td>\n",
       "      <td>4.0</td>\n",
       "      <td>43.697571</td>\n",
       "    </tr>\n",
       "    <tr>\n",
       "      <td>22</td>\n",
       "      <td>In relationship</td>\n",
       "      <td>male</td>\n",
       "      <td>5.0</td>\n",
       "      <td>41.477612</td>\n",
       "    </tr>\n",
       "    <tr>\n",
       "      <td>23</td>\n",
       "      <td>In relationship</td>\n",
       "      <td>male</td>\n",
       "      <td>6.0</td>\n",
       "      <td>42.706172</td>\n",
       "    </tr>\n",
       "    <tr>\n",
       "      <td>24</td>\n",
       "      <td>Married</td>\n",
       "      <td>female</td>\n",
       "      <td>1.0</td>\n",
       "      <td>46.500000</td>\n",
       "    </tr>\n",
       "    <tr>\n",
       "      <td>25</td>\n",
       "      <td>Married</td>\n",
       "      <td>female</td>\n",
       "      <td>2.0</td>\n",
       "      <td>44.113636</td>\n",
       "    </tr>\n",
       "    <tr>\n",
       "      <td>26</td>\n",
       "      <td>Married</td>\n",
       "      <td>female</td>\n",
       "      <td>3.0</td>\n",
       "      <td>40.730769</td>\n",
       "    </tr>\n",
       "    <tr>\n",
       "      <td>27</td>\n",
       "      <td>Married</td>\n",
       "      <td>female</td>\n",
       "      <td>4.0</td>\n",
       "      <td>44.671233</td>\n",
       "    </tr>\n",
       "    <tr>\n",
       "      <td>28</td>\n",
       "      <td>Married</td>\n",
       "      <td>female</td>\n",
       "      <td>5.0</td>\n",
       "      <td>47.725490</td>\n",
       "    </tr>\n",
       "    <tr>\n",
       "      <td>29</td>\n",
       "      <td>Married</td>\n",
       "      <td>female</td>\n",
       "      <td>6.0</td>\n",
       "      <td>39.909091</td>\n",
       "    </tr>\n",
       "    <tr>\n",
       "      <td>30</td>\n",
       "      <td>Married</td>\n",
       "      <td>male</td>\n",
       "      <td>1.0</td>\n",
       "      <td>42.400000</td>\n",
       "    </tr>\n",
       "    <tr>\n",
       "      <td>31</td>\n",
       "      <td>Married</td>\n",
       "      <td>male</td>\n",
       "      <td>2.0</td>\n",
       "      <td>38.222222</td>\n",
       "    </tr>\n",
       "    <tr>\n",
       "      <td>32</td>\n",
       "      <td>Married</td>\n",
       "      <td>male</td>\n",
       "      <td>3.0</td>\n",
       "      <td>44.580645</td>\n",
       "    </tr>\n",
       "    <tr>\n",
       "      <td>33</td>\n",
       "      <td>Married</td>\n",
       "      <td>male</td>\n",
       "      <td>4.0</td>\n",
       "      <td>40.118644</td>\n",
       "    </tr>\n",
       "    <tr>\n",
       "      <td>34</td>\n",
       "      <td>Married</td>\n",
       "      <td>male</td>\n",
       "      <td>5.0</td>\n",
       "      <td>45.368421</td>\n",
       "    </tr>\n",
       "    <tr>\n",
       "      <td>35</td>\n",
       "      <td>Married</td>\n",
       "      <td>male</td>\n",
       "      <td>6.0</td>\n",
       "      <td>45.384615</td>\n",
       "    </tr>\n",
       "    <tr>\n",
       "      <td>36</td>\n",
       "      <td>Married with kids</td>\n",
       "      <td>female</td>\n",
       "      <td>1.0</td>\n",
       "      <td>42.625000</td>\n",
       "    </tr>\n",
       "    <tr>\n",
       "      <td>37</td>\n",
       "      <td>Married with kids</td>\n",
       "      <td>female</td>\n",
       "      <td>2.0</td>\n",
       "      <td>41.533333</td>\n",
       "    </tr>\n",
       "    <tr>\n",
       "      <td>38</td>\n",
       "      <td>Married with kids</td>\n",
       "      <td>female</td>\n",
       "      <td>3.0</td>\n",
       "      <td>42.346154</td>\n",
       "    </tr>\n",
       "    <tr>\n",
       "      <td>39</td>\n",
       "      <td>Married with kids</td>\n",
       "      <td>female</td>\n",
       "      <td>4.0</td>\n",
       "      <td>44.063291</td>\n",
       "    </tr>\n",
       "    <tr>\n",
       "      <td>40</td>\n",
       "      <td>Married with kids</td>\n",
       "      <td>female</td>\n",
       "      <td>5.0</td>\n",
       "      <td>44.559322</td>\n",
       "    </tr>\n",
       "    <tr>\n",
       "      <td>41</td>\n",
       "      <td>Married with kids</td>\n",
       "      <td>female</td>\n",
       "      <td>6.0</td>\n",
       "      <td>41.687500</td>\n",
       "    </tr>\n",
       "    <tr>\n",
       "      <td>42</td>\n",
       "      <td>Married with kids</td>\n",
       "      <td>male</td>\n",
       "      <td>1.0</td>\n",
       "      <td>39.857143</td>\n",
       "    </tr>\n",
       "    <tr>\n",
       "      <td>43</td>\n",
       "      <td>Married with kids</td>\n",
       "      <td>male</td>\n",
       "      <td>2.0</td>\n",
       "      <td>47.500000</td>\n",
       "    </tr>\n",
       "    <tr>\n",
       "      <td>44</td>\n",
       "      <td>Married with kids</td>\n",
       "      <td>male</td>\n",
       "      <td>3.0</td>\n",
       "      <td>45.763158</td>\n",
       "    </tr>\n",
       "    <tr>\n",
       "      <td>45</td>\n",
       "      <td>Married with kids</td>\n",
       "      <td>male</td>\n",
       "      <td>4.0</td>\n",
       "      <td>42.692308</td>\n",
       "    </tr>\n",
       "    <tr>\n",
       "      <td>46</td>\n",
       "      <td>Married with kids</td>\n",
       "      <td>male</td>\n",
       "      <td>5.0</td>\n",
       "      <td>42.028571</td>\n",
       "    </tr>\n",
       "    <tr>\n",
       "      <td>47</td>\n",
       "      <td>Married with kids</td>\n",
       "      <td>male</td>\n",
       "      <td>6.0</td>\n",
       "      <td>45.666667</td>\n",
       "    </tr>\n",
       "    <tr>\n",
       "      <td>48</td>\n",
       "      <td>Single</td>\n",
       "      <td>female</td>\n",
       "      <td>1.0</td>\n",
       "      <td>39.300000</td>\n",
       "    </tr>\n",
       "    <tr>\n",
       "      <td>49</td>\n",
       "      <td>Single</td>\n",
       "      <td>female</td>\n",
       "      <td>2.0</td>\n",
       "      <td>39.785714</td>\n",
       "    </tr>\n",
       "    <tr>\n",
       "      <td>50</td>\n",
       "      <td>Single</td>\n",
       "      <td>female</td>\n",
       "      <td>3.0</td>\n",
       "      <td>45.465116</td>\n",
       "    </tr>\n",
       "    <tr>\n",
       "      <td>51</td>\n",
       "      <td>Single</td>\n",
       "      <td>female</td>\n",
       "      <td>4.0</td>\n",
       "      <td>39.978261</td>\n",
       "    </tr>\n",
       "    <tr>\n",
       "      <td>52</td>\n",
       "      <td>Single</td>\n",
       "      <td>female</td>\n",
       "      <td>5.0</td>\n",
       "      <td>37.000000</td>\n",
       "    </tr>\n",
       "    <tr>\n",
       "      <td>53</td>\n",
       "      <td>Single</td>\n",
       "      <td>female</td>\n",
       "      <td>6.0</td>\n",
       "      <td>39.000000</td>\n",
       "    </tr>\n",
       "    <tr>\n",
       "      <td>54</td>\n",
       "      <td>Single</td>\n",
       "      <td>male</td>\n",
       "      <td>1.0</td>\n",
       "      <td>37.000000</td>\n",
       "    </tr>\n",
       "    <tr>\n",
       "      <td>55</td>\n",
       "      <td>Single</td>\n",
       "      <td>male</td>\n",
       "      <td>2.0</td>\n",
       "      <td>36.777778</td>\n",
       "    </tr>\n",
       "    <tr>\n",
       "      <td>56</td>\n",
       "      <td>Single</td>\n",
       "      <td>male</td>\n",
       "      <td>3.0</td>\n",
       "      <td>39.700000</td>\n",
       "    </tr>\n",
       "    <tr>\n",
       "      <td>57</td>\n",
       "      <td>Single</td>\n",
       "      <td>male</td>\n",
       "      <td>4.0</td>\n",
       "      <td>37.207547</td>\n",
       "    </tr>\n",
       "    <tr>\n",
       "      <td>58</td>\n",
       "      <td>Single</td>\n",
       "      <td>male</td>\n",
       "      <td>5.0</td>\n",
       "      <td>38.363636</td>\n",
       "    </tr>\n",
       "    <tr>\n",
       "      <td>59</td>\n",
       "      <td>Single</td>\n",
       "      <td>male</td>\n",
       "      <td>6.0</td>\n",
       "      <td>33.846154</td>\n",
       "    </tr>\n",
       "  </tbody>\n",
       "</table>\n",
       "</div>"
      ],
      "text/plain": [
       "   relationship_status     sex  education        Age\n",
       "0             Divorced  female        1.0  43.000000\n",
       "1             Divorced  female        2.0  46.857143\n",
       "2             Divorced  female        3.0  40.363636\n",
       "3             Divorced  female        4.0  44.285714\n",
       "4             Divorced  female        5.0  48.916667\n",
       "5             Divorced  female        6.0  54.000000\n",
       "6             Divorced    male        1.0  61.000000\n",
       "7             Divorced    male        2.0  40.000000\n",
       "8             Divorced    male        3.0  42.714286\n",
       "9             Divorced    male        4.0  44.950000\n",
       "10            Divorced    male        5.0  42.300000\n",
       "11            Divorced    male        6.0  32.000000\n",
       "12     In relationship  female        1.0  43.800000\n",
       "13     In relationship  female        2.0  44.545455\n",
       "14     In relationship  female        3.0  44.773333\n",
       "15     In relationship  female        4.0  43.024194\n",
       "16     In relationship  female        5.0  42.061356\n",
       "17     In relationship  female        6.0  42.461538\n",
       "18     In relationship    male        1.0  40.045455\n",
       "19     In relationship    male        2.0  40.755556\n",
       "20     In relationship    male        3.0  43.138889\n",
       "21     In relationship    male        4.0  43.697571\n",
       "22     In relationship    male        5.0  41.477612\n",
       "23     In relationship    male        6.0  42.706172\n",
       "24             Married  female        1.0  46.500000\n",
       "25             Married  female        2.0  44.113636\n",
       "26             Married  female        3.0  40.730769\n",
       "27             Married  female        4.0  44.671233\n",
       "28             Married  female        5.0  47.725490\n",
       "29             Married  female        6.0  39.909091\n",
       "30             Married    male        1.0  42.400000\n",
       "31             Married    male        2.0  38.222222\n",
       "32             Married    male        3.0  44.580645\n",
       "33             Married    male        4.0  40.118644\n",
       "34             Married    male        5.0  45.368421\n",
       "35             Married    male        6.0  45.384615\n",
       "36   Married with kids  female        1.0  42.625000\n",
       "37   Married with kids  female        2.0  41.533333\n",
       "38   Married with kids  female        3.0  42.346154\n",
       "39   Married with kids  female        4.0  44.063291\n",
       "40   Married with kids  female        5.0  44.559322\n",
       "41   Married with kids  female        6.0  41.687500\n",
       "42   Married with kids    male        1.0  39.857143\n",
       "43   Married with kids    male        2.0  47.500000\n",
       "44   Married with kids    male        3.0  45.763158\n",
       "45   Married with kids    male        4.0  42.692308\n",
       "46   Married with kids    male        5.0  42.028571\n",
       "47   Married with kids    male        6.0  45.666667\n",
       "48              Single  female        1.0  39.300000\n",
       "49              Single  female        2.0  39.785714\n",
       "50              Single  female        3.0  45.465116\n",
       "51              Single  female        4.0  39.978261\n",
       "52              Single  female        5.0  37.000000\n",
       "53              Single  female        6.0  39.000000\n",
       "54              Single    male        1.0  37.000000\n",
       "55              Single    male        2.0  36.777778\n",
       "56              Single    male        3.0  39.700000\n",
       "57              Single    male        4.0  37.207547\n",
       "58              Single    male        5.0  38.363636\n",
       "59              Single    male        6.0  33.846154"
      ]
     },
     "execution_count": 93,
     "metadata": {},
     "output_type": "execute_result"
    }
   ],
   "source": [
    "age_agg"
   ]
  },
  {
   "cell_type": "code",
   "execution_count": 94,
   "metadata": {},
   "outputs": [],
   "source": [
    "X_train = pd.merge(X_train, age_agg, how='left', on=['education','sex',\"relationship_status\"])"
   ]
  },
  {
   "cell_type": "code",
   "execution_count": 95,
   "metadata": {},
   "outputs": [
    {
     "data": {
      "text/html": [
       "<div>\n",
       "<style scoped>\n",
       "    .dataframe tbody tr th:only-of-type {\n",
       "        vertical-align: middle;\n",
       "    }\n",
       "\n",
       "    .dataframe tbody tr th {\n",
       "        vertical-align: top;\n",
       "    }\n",
       "\n",
       "    .dataframe thead th {\n",
       "        text-align: right;\n",
       "    }\n",
       "</style>\n",
       "<table border=\"1\" class=\"dataframe\">\n",
       "  <thead>\n",
       "    <tr style=\"text-align: right;\">\n",
       "      <th></th>\n",
       "      <th>name</th>\n",
       "      <th>sex</th>\n",
       "      <th>location</th>\n",
       "      <th>location_population</th>\n",
       "      <th>occupation</th>\n",
       "      <th>hobbies</th>\n",
       "      <th>daily_commute</th>\n",
       "      <th>friends_number</th>\n",
       "      <th>relationship_status</th>\n",
       "      <th>education</th>\n",
       "      <th>credit_card_type</th>\n",
       "      <th>Age_x</th>\n",
       "      <th>sports_interests</th>\n",
       "      <th>Age_y</th>\n",
       "    </tr>\n",
       "  </thead>\n",
       "  <tbody>\n",
       "    <tr>\n",
       "      <td>0</td>\n",
       "      <td>a</td>\n",
       "      <td>female</td>\n",
       "      <td>Ciechanów</td>\n",
       "      <td>44303</td>\n",
       "      <td>professionals</td>\n",
       "      <td>[Water sports, Sudoku]</td>\n",
       "      <td>97.0</td>\n",
       "      <td>164.0</td>\n",
       "      <td>NaN</td>\n",
       "      <td>4.0</td>\n",
       "      <td>Visa</td>\n",
       "      <td>22.0</td>\n",
       "      <td>1</td>\n",
       "      <td>NaN</td>\n",
       "    </tr>\n",
       "    <tr>\n",
       "      <td>1</td>\n",
       "      <td>y</td>\n",
       "      <td>male</td>\n",
       "      <td>Nowy Tomyśl</td>\n",
       "      <td>14702</td>\n",
       "      <td>officers</td>\n",
       "      <td>[Stretching, Glassblowing]</td>\n",
       "      <td>83.0</td>\n",
       "      <td>203.0</td>\n",
       "      <td>Single</td>\n",
       "      <td>2.0</td>\n",
       "      <td>Visa</td>\n",
       "      <td>21.0</td>\n",
       "      <td>1</td>\n",
       "      <td>36.777778</td>\n",
       "    </tr>\n",
       "    <tr>\n",
       "      <td>2</td>\n",
       "      <td>n</td>\n",
       "      <td>male</td>\n",
       "      <td>Sulęcin</td>\n",
       "      <td>10168</td>\n",
       "      <td>workers</td>\n",
       "      <td>[nan]</td>\n",
       "      <td>23.0</td>\n",
       "      <td>266.0</td>\n",
       "      <td>In relationship</td>\n",
       "      <td>4.0</td>\n",
       "      <td>NaN</td>\n",
       "      <td>NaN</td>\n",
       "      <td>0</td>\n",
       "      <td>43.697571</td>\n",
       "    </tr>\n",
       "    <tr>\n",
       "      <td>3</td>\n",
       "      <td>a</td>\n",
       "      <td>female</td>\n",
       "      <td>Poznań</td>\n",
       "      <td>538633</td>\n",
       "      <td>workers</td>\n",
       "      <td>[Rowing, Stretching, Power bike, Nordic skating]</td>\n",
       "      <td>NaN</td>\n",
       "      <td>198.0</td>\n",
       "      <td>Single</td>\n",
       "      <td>3.0</td>\n",
       "      <td>Mastercard</td>\n",
       "      <td>22.0</td>\n",
       "      <td>1</td>\n",
       "      <td>45.465116</td>\n",
       "    </tr>\n",
       "    <tr>\n",
       "      <td>4</td>\n",
       "      <td>a</td>\n",
       "      <td>female</td>\n",
       "      <td>Kielce</td>\n",
       "      <td>196804</td>\n",
       "      <td>professionals</td>\n",
       "      <td>[Surfing, Woodworking]</td>\n",
       "      <td>78.0</td>\n",
       "      <td>78.0</td>\n",
       "      <td>In relationship</td>\n",
       "      <td>NaN</td>\n",
       "      <td>Mastercard</td>\n",
       "      <td>35.0</td>\n",
       "      <td>1</td>\n",
       "      <td>NaN</td>\n",
       "    </tr>\n",
       "  </tbody>\n",
       "</table>\n",
       "</div>"
      ],
      "text/plain": [
       "  name     sex     location  location_population     occupation  \\\n",
       "0    a  female    Ciechanów                44303  professionals   \n",
       "1    y    male  Nowy Tomyśl                14702       officers   \n",
       "2    n    male      Sulęcin                10168        workers   \n",
       "3    a  female       Poznań               538633        workers   \n",
       "4    a  female       Kielce               196804  professionals   \n",
       "\n",
       "                                            hobbies  daily_commute  \\\n",
       "0                            [Water sports, Sudoku]           97.0   \n",
       "1                        [Stretching, Glassblowing]           83.0   \n",
       "2                                             [nan]           23.0   \n",
       "3  [Rowing, Stretching, Power bike, Nordic skating]            NaN   \n",
       "4                            [Surfing, Woodworking]           78.0   \n",
       "\n",
       "   friends_number relationship_status  education credit_card_type  Age_x  \\\n",
       "0           164.0                 NaN        4.0             Visa   22.0   \n",
       "1           203.0              Single        2.0             Visa   21.0   \n",
       "2           266.0     In relationship        4.0              NaN    NaN   \n",
       "3           198.0              Single        3.0       Mastercard   22.0   \n",
       "4            78.0     In relationship        NaN       Mastercard   35.0   \n",
       "\n",
       "   sports_interests      Age_y  \n",
       "0                 1        NaN  \n",
       "1                 1  36.777778  \n",
       "2                 0  43.697571  \n",
       "3                 1  45.465116  \n",
       "4                 1        NaN  "
      ]
     },
     "execution_count": 95,
     "metadata": {},
     "output_type": "execute_result"
    }
   ],
   "source": [
    "X_train.head()"
   ]
  },
  {
   "cell_type": "code",
   "execution_count": 96,
   "metadata": {},
   "outputs": [],
   "source": [
    "X_train['Age'] = np.where(X_train['Age_x'].isna(), X_train['Age_y'].round(), X_train['Age_x'])"
   ]
  },
  {
   "cell_type": "code",
   "execution_count": 97,
   "metadata": {},
   "outputs": [],
   "source": [
    "X_train.drop(['Age_x', 'Age_y'], axis=1, inplace=True)"
   ]
  },
  {
   "cell_type": "markdown",
   "metadata": {},
   "source": [
    "#### dla X_test"
   ]
  },
  {
   "cell_type": "code",
   "execution_count": 98,
   "metadata": {},
   "outputs": [],
   "source": [
    "X_test = pd.merge(X_test, age_agg, how='left', on=['education','sex',\"relationship_status\"])"
   ]
  },
  {
   "cell_type": "code",
   "execution_count": 99,
   "metadata": {},
   "outputs": [],
   "source": [
    "X_test['Age'] = np.where(X_test['Age_x'].isna(), X_test['Age_y'].round(), X_test['Age_x'])"
   ]
  },
  {
   "cell_type": "code",
   "execution_count": 100,
   "metadata": {},
   "outputs": [],
   "source": [
    "X_test.drop(['Age_x', 'Age_y'], axis=1, inplace=True)"
   ]
  },
  {
   "cell_type": "code",
   "execution_count": 101,
   "metadata": {},
   "outputs": [
    {
     "data": {
      "text/html": [
       "<div>\n",
       "<style scoped>\n",
       "    .dataframe tbody tr th:only-of-type {\n",
       "        vertical-align: middle;\n",
       "    }\n",
       "\n",
       "    .dataframe tbody tr th {\n",
       "        vertical-align: top;\n",
       "    }\n",
       "\n",
       "    .dataframe thead th {\n",
       "        text-align: right;\n",
       "    }\n",
       "</style>\n",
       "<table border=\"1\" class=\"dataframe\">\n",
       "  <thead>\n",
       "    <tr style=\"text-align: right;\">\n",
       "      <th></th>\n",
       "      <th>name</th>\n",
       "      <th>sex</th>\n",
       "      <th>location</th>\n",
       "      <th>location_population</th>\n",
       "      <th>occupation</th>\n",
       "      <th>hobbies</th>\n",
       "      <th>daily_commute</th>\n",
       "      <th>friends_number</th>\n",
       "      <th>relationship_status</th>\n",
       "      <th>education</th>\n",
       "      <th>credit_card_type</th>\n",
       "      <th>sports_interests</th>\n",
       "      <th>Age</th>\n",
       "    </tr>\n",
       "  </thead>\n",
       "  <tbody>\n",
       "    <tr>\n",
       "      <td>0</td>\n",
       "      <td>n</td>\n",
       "      <td>male</td>\n",
       "      <td>Sandomierz</td>\n",
       "      <td>23863</td>\n",
       "      <td>workers</td>\n",
       "      <td>[Cardio]</td>\n",
       "      <td>89.0</td>\n",
       "      <td>199.0</td>\n",
       "      <td>In relationship</td>\n",
       "      <td>5.0</td>\n",
       "      <td>Mastercard</td>\n",
       "      <td>1</td>\n",
       "      <td>31.0</td>\n",
       "    </tr>\n",
       "    <tr>\n",
       "      <td>1</td>\n",
       "      <td>y</td>\n",
       "      <td>male</td>\n",
       "      <td>Kłodawa</td>\n",
       "      <td>6530</td>\n",
       "      <td>clerks</td>\n",
       "      <td>[nan]</td>\n",
       "      <td>63.0</td>\n",
       "      <td>125.0</td>\n",
       "      <td>In relationship</td>\n",
       "      <td>3.0</td>\n",
       "      <td>Mastercard</td>\n",
       "      <td>0</td>\n",
       "      <td>42.0</td>\n",
       "    </tr>\n",
       "    <tr>\n",
       "      <td>2</td>\n",
       "      <td>a</td>\n",
       "      <td>female</td>\n",
       "      <td>Pieńsk</td>\n",
       "      <td>5866</td>\n",
       "      <td>workers</td>\n",
       "      <td>[Glassblowing, Kitesurfing, Pet]</td>\n",
       "      <td>25.0</td>\n",
       "      <td>188.0</td>\n",
       "      <td>Married</td>\n",
       "      <td>3.0</td>\n",
       "      <td>Mastercard</td>\n",
       "      <td>1</td>\n",
       "      <td>63.0</td>\n",
       "    </tr>\n",
       "    <tr>\n",
       "      <td>3</td>\n",
       "      <td>a</td>\n",
       "      <td>female</td>\n",
       "      <td>Świebodzin</td>\n",
       "      <td>21954</td>\n",
       "      <td>professionals</td>\n",
       "      <td>[Stretching, Sketching, Coloring, Fashion]</td>\n",
       "      <td>90.0</td>\n",
       "      <td>299.0</td>\n",
       "      <td>Married</td>\n",
       "      <td>4.0</td>\n",
       "      <td>Revolut</td>\n",
       "      <td>1</td>\n",
       "      <td>26.0</td>\n",
       "    </tr>\n",
       "    <tr>\n",
       "      <td>4</td>\n",
       "      <td>a</td>\n",
       "      <td>female</td>\n",
       "      <td>Bytom</td>\n",
       "      <td>168394</td>\n",
       "      <td>officers</td>\n",
       "      <td>[Gym, Rowing]</td>\n",
       "      <td>37.0</td>\n",
       "      <td>189.0</td>\n",
       "      <td>Married</td>\n",
       "      <td>2.0</td>\n",
       "      <td>Visa</td>\n",
       "      <td>1</td>\n",
       "      <td>22.0</td>\n",
       "    </tr>\n",
       "  </tbody>\n",
       "</table>\n",
       "</div>"
      ],
      "text/plain": [
       "  name     sex    location  location_population     occupation  \\\n",
       "0    n    male  Sandomierz                23863        workers   \n",
       "1    y    male     Kłodawa                 6530         clerks   \n",
       "2    a  female      Pieńsk                 5866        workers   \n",
       "3    a  female  Świebodzin                21954  professionals   \n",
       "4    a  female       Bytom               168394       officers   \n",
       "\n",
       "                                      hobbies  daily_commute  friends_number  \\\n",
       "0                                    [Cardio]           89.0           199.0   \n",
       "1                                       [nan]           63.0           125.0   \n",
       "2            [Glassblowing, Kitesurfing, Pet]           25.0           188.0   \n",
       "3  [Stretching, Sketching, Coloring, Fashion]           90.0           299.0   \n",
       "4                               [Gym, Rowing]           37.0           189.0   \n",
       "\n",
       "  relationship_status  education credit_card_type  sports_interests   Age  \n",
       "0     In relationship        5.0       Mastercard                 1  31.0  \n",
       "1     In relationship        3.0       Mastercard                 0  42.0  \n",
       "2             Married        3.0       Mastercard                 1  63.0  \n",
       "3             Married        4.0          Revolut                 1  26.0  \n",
       "4             Married        2.0             Visa                 1  22.0  "
      ]
     },
     "execution_count": 101,
     "metadata": {},
     "output_type": "execute_result"
    }
   ],
   "source": [
    "X_test.head()"
   ]
  },
  {
   "cell_type": "code",
   "execution_count": 102,
   "metadata": {},
   "outputs": [
    {
     "data": {
      "text/plain": [
       "name                     0\n",
       "sex                      0\n",
       "location                 0\n",
       "location_population      0\n",
       "occupation               0\n",
       "hobbies                  0\n",
       "daily_commute          275\n",
       "friends_number           0\n",
       "relationship_status    280\n",
       "education              292\n",
       "credit_card_type       293\n",
       "sports_interests         0\n",
       "Age                     50\n",
       "dtype: int64"
      ]
     },
     "execution_count": 102,
     "metadata": {},
     "output_type": "execute_result"
    }
   ],
   "source": [
    "X_train.isnull().sum()"
   ]
  },
  {
   "cell_type": "code",
   "execution_count": 103,
   "metadata": {},
   "outputs": [
    {
     "data": {
      "text/plain": [
       "name                     0\n",
       "sex                      0\n",
       "location                 0\n",
       "location_population      0\n",
       "occupation               0\n",
       "hobbies                  0\n",
       "daily_commute          130\n",
       "friends_number           0\n",
       "relationship_status    113\n",
       "education              116\n",
       "credit_card_type       135\n",
       "sports_interests         0\n",
       "Age                     22\n",
       "dtype: int64"
      ]
     },
     "execution_count": 103,
     "metadata": {},
     "output_type": "execute_result"
    }
   ],
   "source": [
    "X_test.isnull().sum()"
   ]
  },
  {
   "cell_type": "code",
   "execution_count": 104,
   "metadata": {},
   "outputs": [
    {
     "data": {
      "text/plain": [
       "42.55834072727273"
      ]
     },
     "execution_count": 104,
     "metadata": {},
     "output_type": "execute_result"
    }
   ],
   "source": [
    "X_train[\"Age\"].mean()"
   ]
  },
  {
   "cell_type": "code",
   "execution_count": 105,
   "metadata": {},
   "outputs": [],
   "source": [
    "X_train[\"Age\"].fillna(X_train[\"Age\"].mean(), inplace=True)"
   ]
  },
  {
   "cell_type": "code",
   "execution_count": 106,
   "metadata": {},
   "outputs": [],
   "source": [
    "X_test[\"Age\"].fillna(X_train[\"Age\"].mean(), inplace=True)"
   ]
  },
  {
   "cell_type": "markdown",
   "metadata": {},
   "source": [
    "### uzupełnianie zmiennej daily_commute"
   ]
  },
  {
   "cell_type": "code",
   "execution_count": 107,
   "metadata": {},
   "outputs": [
    {
     "data": {
      "text/plain": [
       "education             -0.020112\n",
       "sports_interests       0.000004\n",
       "friends_number         0.001117\n",
       "target                 0.004929\n",
       "location_population    0.010354\n",
       "Age                    0.014922\n",
       "daily_commute          1.000000\n",
       "Name: daily_commute, dtype: float64"
      ]
     },
     "execution_count": 107,
     "metadata": {},
     "output_type": "execute_result"
    }
   ],
   "source": [
    "df.corr()['daily_commute'].sort_values()"
   ]
  },
  {
   "cell_type": "code",
   "execution_count": 108,
   "metadata": {},
   "outputs": [
    {
     "data": {
      "text/plain": [
       "<matplotlib.axes._subplots.AxesSubplot at 0x2b4efd66e88>"
      ]
     },
     "execution_count": 108,
     "metadata": {},
     "output_type": "execute_result"
    },
    {
     "data": {
      "image/png": "[encoded data removed]",
      "text/plain": [
       "<Figure size 432x288 with 1 Axes>"
      ]
     },
     "metadata": {},
     "output_type": "display_data"
    }
   ],
   "source": [
    "X_train['daily_commute'].hist()"
   ]
  },
  {
   "cell_type": "code",
   "execution_count": 109,
   "metadata": {},
   "outputs": [],
   "source": [
    "zmienne_ilosciowe=[\"Age\",\"daily_commute\"]"
   ]
  },
  {
   "cell_type": "code",
   "execution_count": 110,
   "metadata": {},
   "outputs": [
    {
     "data": {
      "image/png": "[encoded data removed]",
      "text/plain": [
       "<Figure size 1080x288 with 2 Axes>"
      ]
     },
     "metadata": {},
     "output_type": "display_data"
    }
   ],
   "source": [
    "plt.figure(figsize=(15, 4))\n",
    "sns.set(font_scale= 1.2)\n",
    "sns.set_style('ticks')\n",
    "\n",
    "for i, feature in enumerate(zmienne_ilosciowe):\n",
    "    plt.subplot(2, 2, i+1)\n",
    "    ax = sns.kdeplot(df[feature][df['target'] == 1], color=\"blue\", shade=True)\n",
    "    sns.kdeplot(df[feature][df['target'] == 0], color=\"red\", shade=True)\n",
    "    plt.legend(['Interesed', 'Not interesed'])\n",
    "    ax.set(xlabel=feature)\n",
    "    plt.xlim(-5,150) "
   ]
  },
  {
   "cell_type": "code",
   "execution_count": 111,
   "metadata": {},
   "outputs": [],
   "source": [
    "# rozkład daily_commute ze względu na zmienną celu jest taki sam - mozna usunąć zmienną"
   ]
  },
  {
   "cell_type": "code",
   "execution_count": 112,
   "metadata": {},
   "outputs": [],
   "source": [
    "X_train.drop(\"daily_commute\", axis=1, inplace=True)"
   ]
  },
  {
   "cell_type": "code",
   "execution_count": 113,
   "metadata": {},
   "outputs": [],
   "source": [
    "X_test.drop(\"daily_commute\", axis=1, inplace=True)"
   ]
  },
  {
   "cell_type": "code",
   "execution_count": 114,
   "metadata": {},
   "outputs": [
    {
     "data": {
      "text/plain": [
       "name                     0\n",
       "sex                      0\n",
       "location                 0\n",
       "location_population      0\n",
       "occupation               0\n",
       "hobbies                  0\n",
       "friends_number           0\n",
       "relationship_status    280\n",
       "education              292\n",
       "credit_card_type       293\n",
       "sports_interests         0\n",
       "Age                      0\n",
       "dtype: int64"
      ]
     },
     "execution_count": 114,
     "metadata": {},
     "output_type": "execute_result"
    }
   ],
   "source": [
    "X_train.isnull().sum()"
   ]
  },
  {
   "cell_type": "markdown",
   "metadata": {},
   "source": [
    "### uzupełnianie relationship_status i education"
   ]
  },
  {
   "cell_type": "code",
   "execution_count": 115,
   "metadata": {},
   "outputs": [
    {
     "data": {
      "text/plain": [
       "In relationship      870\n",
       "Married              562\n",
       "Married with kids    512\n",
       "Single               435\n",
       "Divorced             141\n",
       "Name: relationship_status, dtype: int64"
      ]
     },
     "execution_count": 115,
     "metadata": {},
     "output_type": "execute_result"
    }
   ],
   "source": [
    "X_train[\"relationship_status\"].value_counts()"
   ]
  },
  {
   "cell_type": "code",
   "execution_count": 116,
   "metadata": {},
   "outputs": [],
   "source": [
    "X_train['relationship_status'].fillna('In relationship',inplace=True)"
   ]
  },
  {
   "cell_type": "code",
   "execution_count": 117,
   "metadata": {},
   "outputs": [],
   "source": [
    "X_test['relationship_status'].fillna('In relationship',inplace=True)"
   ]
  },
  {
   "cell_type": "code",
   "execution_count": 118,
   "metadata": {},
   "outputs": [
    {
     "data": {
      "text/plain": [
       "4.0    748\n",
       "5.0    532\n",
       "3.0    525\n",
       "2.0    346\n",
       "6.0    191\n",
       "1.0    166\n",
       "Name: education, dtype: int64"
      ]
     },
     "execution_count": 118,
     "metadata": {},
     "output_type": "execute_result"
    }
   ],
   "source": [
    "X_train[\"education\"].value_counts()"
   ]
  },
  {
   "cell_type": "code",
   "execution_count": 119,
   "metadata": {},
   "outputs": [],
   "source": [
    "X_train['education'].fillna(4.0,inplace=True)"
   ]
  },
  {
   "cell_type": "code",
   "execution_count": 120,
   "metadata": {},
   "outputs": [],
   "source": [
    "X_test['education'].fillna(4.0,inplace=True)"
   ]
  },
  {
   "cell_type": "markdown",
   "metadata": {},
   "source": [
    "### przekształcenie zmiennej credit_card_type"
   ]
  },
  {
   "cell_type": "code",
   "execution_count": 121,
   "metadata": {},
   "outputs": [
    {
     "data": {
      "text/plain": [
       "Visa                1246\n",
       "Mastercard          1116\n",
       "Revolut              119\n",
       "American Express      26\n",
       "Name: credit_card_type, dtype: int64"
      ]
     },
     "execution_count": 121,
     "metadata": {},
     "output_type": "execute_result"
    }
   ],
   "source": [
    "X_train[\"credit_card_type\"].value_counts()"
   ]
  },
  {
   "cell_type": "code",
   "execution_count": 122,
   "metadata": {},
   "outputs": [
    {
     "data": {
      "text/plain": [
       "Visa                531\n",
       "Mastercard          487\n",
       "Revolut              38\n",
       "American Express      9\n",
       "Name: credit_card_type, dtype: int64"
      ]
     },
     "execution_count": 122,
     "metadata": {},
     "output_type": "execute_result"
    }
   ],
   "source": [
    "X_test[\"credit_card_type\"].value_counts()"
   ]
  },
  {
   "cell_type": "code",
   "execution_count": 123,
   "metadata": {},
   "outputs": [],
   "source": [
    "X_train[\"credit_card_type\"].fillna(\"Visa\", inplace=True)"
   ]
  },
  {
   "cell_type": "code",
   "execution_count": 124,
   "metadata": {},
   "outputs": [],
   "source": [
    "X_test[\"credit_card_type\"].fillna(\"Visa\", inplace=True)"
   ]
  },
  {
   "cell_type": "code",
   "execution_count": 125,
   "metadata": {},
   "outputs": [],
   "source": [
    "df[\"credit_card_type\"]=df[\"credit_card_type\"].apply(lambda x: x if x in [\"Visa\", \"Mastercard\"] else 'Other')"
   ]
  },
  {
   "cell_type": "code",
   "execution_count": 126,
   "metadata": {},
   "outputs": [
    {
     "data": {
      "text/plain": [
       "name                   0\n",
       "sex                    0\n",
       "location               0\n",
       "location_population    0\n",
       "occupation             0\n",
       "hobbies                0\n",
       "friends_number         0\n",
       "relationship_status    0\n",
       "education              0\n",
       "credit_card_type       0\n",
       "sports_interests       0\n",
       "Age                    0\n",
       "dtype: int64"
      ]
     },
     "execution_count": 126,
     "metadata": {},
     "output_type": "execute_result"
    }
   ],
   "source": [
    "X_train.isnull().sum()"
   ]
  },
  {
   "cell_type": "code",
   "execution_count": 127,
   "metadata": {},
   "outputs": [
    {
     "data": {
      "text/plain": [
       "name                   0\n",
       "sex                    0\n",
       "location               0\n",
       "location_population    0\n",
       "occupation             0\n",
       "hobbies                0\n",
       "friends_number         0\n",
       "relationship_status    0\n",
       "education              0\n",
       "credit_card_type       0\n",
       "sports_interests       0\n",
       "Age                    0\n",
       "dtype: int64"
      ]
     },
     "execution_count": 127,
     "metadata": {},
     "output_type": "execute_result"
    }
   ],
   "source": [
    "X_test.isnull().sum()"
   ]
  },
  {
   "cell_type": "code",
   "execution_count": 128,
   "metadata": {},
   "outputs": [],
   "source": [
    "X_train.drop([\"name\",\"location\", \"hobbies\"], axis=1, inplace=True)"
   ]
  },
  {
   "cell_type": "code",
   "execution_count": 129,
   "metadata": {},
   "outputs": [],
   "source": [
    "X_test.drop([\"name\",\"location\",\"hobbies\"], axis=1, inplace=True)"
   ]
  },
  {
   "cell_type": "code",
   "execution_count": 130,
   "metadata": {},
   "outputs": [
    {
     "data": {
      "text/plain": [
       "1    1857\n",
       "0     943\n",
       "Name: sports_interests, dtype: int64"
      ]
     },
     "execution_count": 130,
     "metadata": {},
     "output_type": "execute_result"
    }
   ],
   "source": [
    "X_train[\"sports_interests\"].value_counts()"
   ]
  },
  {
   "cell_type": "markdown",
   "metadata": {},
   "source": [
    "## One Hot Encoding"
   ]
  },
  {
   "cell_type": "code",
   "execution_count": 131,
   "metadata": {},
   "outputs": [
    {
     "name": "stdout",
     "output_type": "stream",
     "text": [
      "<class 'pandas.core.frame.DataFrame'>\n",
      "Int64Index: 2800 entries, 0 to 2799\n",
      "Data columns (total 9 columns):\n",
      "sex                    2800 non-null object\n",
      "location_population    2800 non-null int64\n",
      "occupation             2800 non-null object\n",
      "friends_number         2800 non-null float64\n",
      "relationship_status    2800 non-null object\n",
      "education              2800 non-null float64\n",
      "credit_card_type       2800 non-null object\n",
      "sports_interests       2800 non-null int64\n",
      "Age                    2800 non-null float64\n",
      "dtypes: float64(3), int64(2), object(4)\n",
      "memory usage: 218.8+ KB\n"
     ]
    }
   ],
   "source": [
    "X_train.info()"
   ]
  },
  {
   "cell_type": "code",
   "execution_count": 132,
   "metadata": {},
   "outputs": [
    {
     "data": {
      "text/html": [
       "<div>\n",
       "<style scoped>\n",
       "    .dataframe tbody tr th:only-of-type {\n",
       "        vertical-align: middle;\n",
       "    }\n",
       "\n",
       "    .dataframe tbody tr th {\n",
       "        vertical-align: top;\n",
       "    }\n",
       "\n",
       "    .dataframe thead th {\n",
       "        text-align: right;\n",
       "    }\n",
       "</style>\n",
       "<table border=\"1\" class=\"dataframe\">\n",
       "  <thead>\n",
       "    <tr style=\"text-align: right;\">\n",
       "      <th></th>\n",
       "      <th>sex</th>\n",
       "      <th>location_population</th>\n",
       "      <th>occupation</th>\n",
       "      <th>friends_number</th>\n",
       "      <th>relationship_status</th>\n",
       "      <th>education</th>\n",
       "      <th>credit_card_type</th>\n",
       "      <th>sports_interests</th>\n",
       "      <th>Age</th>\n",
       "    </tr>\n",
       "  </thead>\n",
       "  <tbody>\n",
       "    <tr>\n",
       "      <td>0</td>\n",
       "      <td>female</td>\n",
       "      <td>44303</td>\n",
       "      <td>professionals</td>\n",
       "      <td>164.0</td>\n",
       "      <td>In relationship</td>\n",
       "      <td>4.0</td>\n",
       "      <td>Visa</td>\n",
       "      <td>1</td>\n",
       "      <td>22.0</td>\n",
       "    </tr>\n",
       "    <tr>\n",
       "      <td>1</td>\n",
       "      <td>male</td>\n",
       "      <td>14702</td>\n",
       "      <td>officers</td>\n",
       "      <td>203.0</td>\n",
       "      <td>Single</td>\n",
       "      <td>2.0</td>\n",
       "      <td>Visa</td>\n",
       "      <td>1</td>\n",
       "      <td>21.0</td>\n",
       "    </tr>\n",
       "    <tr>\n",
       "      <td>2</td>\n",
       "      <td>male</td>\n",
       "      <td>10168</td>\n",
       "      <td>workers</td>\n",
       "      <td>266.0</td>\n",
       "      <td>In relationship</td>\n",
       "      <td>4.0</td>\n",
       "      <td>Visa</td>\n",
       "      <td>0</td>\n",
       "      <td>44.0</td>\n",
       "    </tr>\n",
       "    <tr>\n",
       "      <td>3</td>\n",
       "      <td>female</td>\n",
       "      <td>538633</td>\n",
       "      <td>workers</td>\n",
       "      <td>198.0</td>\n",
       "      <td>Single</td>\n",
       "      <td>3.0</td>\n",
       "      <td>Mastercard</td>\n",
       "      <td>1</td>\n",
       "      <td>22.0</td>\n",
       "    </tr>\n",
       "    <tr>\n",
       "      <td>4</td>\n",
       "      <td>female</td>\n",
       "      <td>196804</td>\n",
       "      <td>professionals</td>\n",
       "      <td>78.0</td>\n",
       "      <td>In relationship</td>\n",
       "      <td>4.0</td>\n",
       "      <td>Mastercard</td>\n",
       "      <td>1</td>\n",
       "      <td>35.0</td>\n",
       "    </tr>\n",
       "  </tbody>\n",
       "</table>\n",
       "</div>"
      ],
      "text/plain": [
       "      sex  location_population     occupation  friends_number  \\\n",
       "0  female                44303  professionals           164.0   \n",
       "1    male                14702       officers           203.0   \n",
       "2    male                10168        workers           266.0   \n",
       "3  female               538633        workers           198.0   \n",
       "4  female               196804  professionals            78.0   \n",
       "\n",
       "  relationship_status  education credit_card_type  sports_interests   Age  \n",
       "0     In relationship        4.0             Visa                 1  22.0  \n",
       "1              Single        2.0             Visa                 1  21.0  \n",
       "2     In relationship        4.0             Visa                 0  44.0  \n",
       "3              Single        3.0       Mastercard                 1  22.0  \n",
       "4     In relationship        4.0       Mastercard                 1  35.0  "
      ]
     },
     "execution_count": 132,
     "metadata": {},
     "output_type": "execute_result"
    }
   ],
   "source": [
    "X_train.head()"
   ]
  },
  {
   "cell_type": "code",
   "execution_count": 133,
   "metadata": {},
   "outputs": [
    {
     "data": {
      "text/html": [
       "<div>\n",
       "<style scoped>\n",
       "    .dataframe tbody tr th:only-of-type {\n",
       "        vertical-align: middle;\n",
       "    }\n",
       "\n",
       "    .dataframe tbody tr th {\n",
       "        vertical-align: top;\n",
       "    }\n",
       "\n",
       "    .dataframe thead th {\n",
       "        text-align: right;\n",
       "    }\n",
       "</style>\n",
       "<table border=\"1\" class=\"dataframe\">\n",
       "  <thead>\n",
       "    <tr style=\"text-align: right;\">\n",
       "      <th></th>\n",
       "      <th>sex</th>\n",
       "      <th>location_population</th>\n",
       "      <th>occupation</th>\n",
       "      <th>friends_number</th>\n",
       "      <th>relationship_status</th>\n",
       "      <th>education</th>\n",
       "      <th>credit_card_type</th>\n",
       "      <th>sports_interests</th>\n",
       "      <th>Age</th>\n",
       "    </tr>\n",
       "  </thead>\n",
       "  <tbody>\n",
       "    <tr>\n",
       "      <td>0</td>\n",
       "      <td>male</td>\n",
       "      <td>23863</td>\n",
       "      <td>workers</td>\n",
       "      <td>199.0</td>\n",
       "      <td>In relationship</td>\n",
       "      <td>5.0</td>\n",
       "      <td>Mastercard</td>\n",
       "      <td>1</td>\n",
       "      <td>31.0</td>\n",
       "    </tr>\n",
       "    <tr>\n",
       "      <td>1</td>\n",
       "      <td>male</td>\n",
       "      <td>6530</td>\n",
       "      <td>clerks</td>\n",
       "      <td>125.0</td>\n",
       "      <td>In relationship</td>\n",
       "      <td>3.0</td>\n",
       "      <td>Mastercard</td>\n",
       "      <td>0</td>\n",
       "      <td>42.0</td>\n",
       "    </tr>\n",
       "    <tr>\n",
       "      <td>2</td>\n",
       "      <td>female</td>\n",
       "      <td>5866</td>\n",
       "      <td>workers</td>\n",
       "      <td>188.0</td>\n",
       "      <td>Married</td>\n",
       "      <td>3.0</td>\n",
       "      <td>Mastercard</td>\n",
       "      <td>1</td>\n",
       "      <td>63.0</td>\n",
       "    </tr>\n",
       "    <tr>\n",
       "      <td>3</td>\n",
       "      <td>female</td>\n",
       "      <td>21954</td>\n",
       "      <td>professionals</td>\n",
       "      <td>299.0</td>\n",
       "      <td>Married</td>\n",
       "      <td>4.0</td>\n",
       "      <td>Revolut</td>\n",
       "      <td>1</td>\n",
       "      <td>26.0</td>\n",
       "    </tr>\n",
       "    <tr>\n",
       "      <td>4</td>\n",
       "      <td>female</td>\n",
       "      <td>168394</td>\n",
       "      <td>officers</td>\n",
       "      <td>189.0</td>\n",
       "      <td>Married</td>\n",
       "      <td>2.0</td>\n",
       "      <td>Visa</td>\n",
       "      <td>1</td>\n",
       "      <td>22.0</td>\n",
       "    </tr>\n",
       "  </tbody>\n",
       "</table>\n",
       "</div>"
      ],
      "text/plain": [
       "      sex  location_population     occupation  friends_number  \\\n",
       "0    male                23863        workers           199.0   \n",
       "1    male                 6530         clerks           125.0   \n",
       "2  female                 5866        workers           188.0   \n",
       "3  female                21954  professionals           299.0   \n",
       "4  female               168394       officers           189.0   \n",
       "\n",
       "  relationship_status  education credit_card_type  sports_interests   Age  \n",
       "0     In relationship        5.0       Mastercard                 1  31.0  \n",
       "1     In relationship        3.0       Mastercard                 0  42.0  \n",
       "2             Married        3.0       Mastercard                 1  63.0  \n",
       "3             Married        4.0          Revolut                 1  26.0  \n",
       "4             Married        2.0             Visa                 1  22.0  "
      ]
     },
     "execution_count": 133,
     "metadata": {},
     "output_type": "execute_result"
    }
   ],
   "source": [
    "X_test.head()"
   ]
  },
  {
   "cell_type": "code",
   "execution_count": 134,
   "metadata": {},
   "outputs": [],
   "source": [
    "X_train.replace({\"male\":1,\"female\":0}, inplace=True)"
   ]
  },
  {
   "cell_type": "code",
   "execution_count": 135,
   "metadata": {},
   "outputs": [],
   "source": [
    "X_test.replace({\"male\":1,\"female\":0}, inplace=True)"
   ]
  },
  {
   "cell_type": "code",
   "execution_count": 136,
   "metadata": {},
   "outputs": [],
   "source": [
    "zmienne_do_ohe=[\"occupation\",\"relationship_status\",\"education\",\"credit_card_type\"]"
   ]
  },
  {
   "cell_type": "code",
   "execution_count": 137,
   "metadata": {},
   "outputs": [],
   "source": [
    "for x in zmienne_do_ohe:\n",
    "    dummy_test=pd.get_dummies(X_test[x], prefix=x)\n",
    "    mask=str(X_train[x].value_counts().index[0])\n",
    "    dummy_test.drop(x+\"_\"+mask, inplace=True, axis=1)\n",
    "    X_test=pd.concat([X_test, dummy_test], axis=1)\n",
    "    X_test.drop(x,inplace=True, axis=1)"
   ]
  },
  {
   "cell_type": "code",
   "execution_count": 138,
   "metadata": {},
   "outputs": [],
   "source": [
    "for x in zmienne_do_ohe:\n",
    "    dummy_train=pd.get_dummies(X_train[x], prefix=x)\n",
    "    mask=str(X_train[x].value_counts().index[0])\n",
    "    dummy_train.drop(x+\"_\"+mask, inplace=True, axis=1)\n",
    "    X_train=pd.concat([X_train, dummy_train], axis=1)\n",
    "    X_train.drop(x,inplace=True, axis=1)"
   ]
  },
  {
   "cell_type": "code",
   "execution_count": 139,
   "metadata": {},
   "outputs": [
    {
     "data": {
      "text/html": [
       "<div>\n",
       "<style scoped>\n",
       "    .dataframe tbody tr th:only-of-type {\n",
       "        vertical-align: middle;\n",
       "    }\n",
       "\n",
       "    .dataframe tbody tr th {\n",
       "        vertical-align: top;\n",
       "    }\n",
       "\n",
       "    .dataframe thead th {\n",
       "        text-align: right;\n",
       "    }\n",
       "</style>\n",
       "<table border=\"1\" class=\"dataframe\">\n",
       "  <thead>\n",
       "    <tr style=\"text-align: right;\">\n",
       "      <th></th>\n",
       "      <th>sex</th>\n",
       "      <th>location_population</th>\n",
       "      <th>friends_number</th>\n",
       "      <th>sports_interests</th>\n",
       "      <th>Age</th>\n",
       "      <th>occupation_clerks</th>\n",
       "      <th>occupation_managers</th>\n",
       "      <th>occupation_officers</th>\n",
       "      <th>occupation_professionals</th>\n",
       "      <th>relationship_status_Divorced</th>\n",
       "      <th>...</th>\n",
       "      <th>relationship_status_Married with kids</th>\n",
       "      <th>relationship_status_Single</th>\n",
       "      <th>education_1.0</th>\n",
       "      <th>education_2.0</th>\n",
       "      <th>education_3.0</th>\n",
       "      <th>education_5.0</th>\n",
       "      <th>education_6.0</th>\n",
       "      <th>credit_card_type_American Express</th>\n",
       "      <th>credit_card_type_Mastercard</th>\n",
       "      <th>credit_card_type_Revolut</th>\n",
       "    </tr>\n",
       "  </thead>\n",
       "  <tbody>\n",
       "    <tr>\n",
       "      <td>0</td>\n",
       "      <td>0</td>\n",
       "      <td>44303</td>\n",
       "      <td>164.0</td>\n",
       "      <td>1</td>\n",
       "      <td>22.0</td>\n",
       "      <td>0</td>\n",
       "      <td>0</td>\n",
       "      <td>0</td>\n",
       "      <td>1</td>\n",
       "      <td>0</td>\n",
       "      <td>...</td>\n",
       "      <td>0</td>\n",
       "      <td>0</td>\n",
       "      <td>0</td>\n",
       "      <td>0</td>\n",
       "      <td>0</td>\n",
       "      <td>0</td>\n",
       "      <td>0</td>\n",
       "      <td>0</td>\n",
       "      <td>0</td>\n",
       "      <td>0</td>\n",
       "    </tr>\n",
       "    <tr>\n",
       "      <td>1</td>\n",
       "      <td>1</td>\n",
       "      <td>14702</td>\n",
       "      <td>203.0</td>\n",
       "      <td>1</td>\n",
       "      <td>21.0</td>\n",
       "      <td>0</td>\n",
       "      <td>0</td>\n",
       "      <td>1</td>\n",
       "      <td>0</td>\n",
       "      <td>0</td>\n",
       "      <td>...</td>\n",
       "      <td>0</td>\n",
       "      <td>1</td>\n",
       "      <td>0</td>\n",
       "      <td>1</td>\n",
       "      <td>0</td>\n",
       "      <td>0</td>\n",
       "      <td>0</td>\n",
       "      <td>0</td>\n",
       "      <td>0</td>\n",
       "      <td>0</td>\n",
       "    </tr>\n",
       "    <tr>\n",
       "      <td>2</td>\n",
       "      <td>1</td>\n",
       "      <td>10168</td>\n",
       "      <td>266.0</td>\n",
       "      <td>0</td>\n",
       "      <td>44.0</td>\n",
       "      <td>0</td>\n",
       "      <td>0</td>\n",
       "      <td>0</td>\n",
       "      <td>0</td>\n",
       "      <td>0</td>\n",
       "      <td>...</td>\n",
       "      <td>0</td>\n",
       "      <td>0</td>\n",
       "      <td>0</td>\n",
       "      <td>0</td>\n",
       "      <td>0</td>\n",
       "      <td>0</td>\n",
       "      <td>0</td>\n",
       "      <td>0</td>\n",
       "      <td>0</td>\n",
       "      <td>0</td>\n",
       "    </tr>\n",
       "    <tr>\n",
       "      <td>3</td>\n",
       "      <td>0</td>\n",
       "      <td>538633</td>\n",
       "      <td>198.0</td>\n",
       "      <td>1</td>\n",
       "      <td>22.0</td>\n",
       "      <td>0</td>\n",
       "      <td>0</td>\n",
       "      <td>0</td>\n",
       "      <td>0</td>\n",
       "      <td>0</td>\n",
       "      <td>...</td>\n",
       "      <td>0</td>\n",
       "      <td>1</td>\n",
       "      <td>0</td>\n",
       "      <td>0</td>\n",
       "      <td>1</td>\n",
       "      <td>0</td>\n",
       "      <td>0</td>\n",
       "      <td>0</td>\n",
       "      <td>1</td>\n",
       "      <td>0</td>\n",
       "    </tr>\n",
       "    <tr>\n",
       "      <td>4</td>\n",
       "      <td>0</td>\n",
       "      <td>196804</td>\n",
       "      <td>78.0</td>\n",
       "      <td>1</td>\n",
       "      <td>35.0</td>\n",
       "      <td>0</td>\n",
       "      <td>0</td>\n",
       "      <td>0</td>\n",
       "      <td>1</td>\n",
       "      <td>0</td>\n",
       "      <td>...</td>\n",
       "      <td>0</td>\n",
       "      <td>0</td>\n",
       "      <td>0</td>\n",
       "      <td>0</td>\n",
       "      <td>0</td>\n",
       "      <td>0</td>\n",
       "      <td>0</td>\n",
       "      <td>0</td>\n",
       "      <td>1</td>\n",
       "      <td>0</td>\n",
       "    </tr>\n",
       "  </tbody>\n",
       "</table>\n",
       "<p>5 rows × 21 columns</p>\n",
       "</div>"
      ],
      "text/plain": [
       "   sex  location_population  friends_number  sports_interests   Age  \\\n",
       "0    0                44303           164.0                 1  22.0   \n",
       "1    1                14702           203.0                 1  21.0   \n",
       "2    1                10168           266.0                 0  44.0   \n",
       "3    0               538633           198.0                 1  22.0   \n",
       "4    0               196804            78.0                 1  35.0   \n",
       "\n",
       "   occupation_clerks  occupation_managers  occupation_officers  \\\n",
       "0                  0                    0                    0   \n",
       "1                  0                    0                    1   \n",
       "2                  0                    0                    0   \n",
       "3                  0                    0                    0   \n",
       "4                  0                    0                    0   \n",
       "\n",
       "   occupation_professionals  relationship_status_Divorced  ...  \\\n",
       "0                         1                             0  ...   \n",
       "1                         0                             0  ...   \n",
       "2                         0                             0  ...   \n",
       "3                         0                             0  ...   \n",
       "4                         1                             0  ...   \n",
       "\n",
       "   relationship_status_Married with kids  relationship_status_Single  \\\n",
       "0                                      0                           0   \n",
       "1                                      0                           1   \n",
       "2                                      0                           0   \n",
       "3                                      0                           1   \n",
       "4                                      0                           0   \n",
       "\n",
       "   education_1.0  education_2.0  education_3.0  education_5.0  education_6.0  \\\n",
       "0              0              0              0              0              0   \n",
       "1              0              1              0              0              0   \n",
       "2              0              0              0              0              0   \n",
       "3              0              0              1              0              0   \n",
       "4              0              0              0              0              0   \n",
       "\n",
       "   credit_card_type_American Express  credit_card_type_Mastercard  \\\n",
       "0                                  0                            0   \n",
       "1                                  0                            0   \n",
       "2                                  0                            0   \n",
       "3                                  0                            1   \n",
       "4                                  0                            1   \n",
       "\n",
       "   credit_card_type_Revolut  \n",
       "0                         0  \n",
       "1                         0  \n",
       "2                         0  \n",
       "3                         0  \n",
       "4                         0  \n",
       "\n",
       "[5 rows x 21 columns]"
      ]
     },
     "execution_count": 139,
     "metadata": {},
     "output_type": "execute_result"
    }
   ],
   "source": [
    "X_train.head()"
   ]
  },
  {
   "cell_type": "code",
   "execution_count": 140,
   "metadata": {},
   "outputs": [
    {
     "data": {
      "text/html": [
       "<div>\n",
       "<style scoped>\n",
       "    .dataframe tbody tr th:only-of-type {\n",
       "        vertical-align: middle;\n",
       "    }\n",
       "\n",
       "    .dataframe tbody tr th {\n",
       "        vertical-align: top;\n",
       "    }\n",
       "\n",
       "    .dataframe thead th {\n",
       "        text-align: right;\n",
       "    }\n",
       "</style>\n",
       "<table border=\"1\" class=\"dataframe\">\n",
       "  <thead>\n",
       "    <tr style=\"text-align: right;\">\n",
       "      <th></th>\n",
       "      <th>sex</th>\n",
       "      <th>location_population</th>\n",
       "      <th>friends_number</th>\n",
       "      <th>sports_interests</th>\n",
       "      <th>Age</th>\n",
       "      <th>occupation_clerks</th>\n",
       "      <th>occupation_managers</th>\n",
       "      <th>occupation_officers</th>\n",
       "      <th>occupation_professionals</th>\n",
       "      <th>relationship_status_Divorced</th>\n",
       "      <th>...</th>\n",
       "      <th>relationship_status_Married with kids</th>\n",
       "      <th>relationship_status_Single</th>\n",
       "      <th>education_1.0</th>\n",
       "      <th>education_2.0</th>\n",
       "      <th>education_3.0</th>\n",
       "      <th>education_5.0</th>\n",
       "      <th>education_6.0</th>\n",
       "      <th>credit_card_type_American Express</th>\n",
       "      <th>credit_card_type_Mastercard</th>\n",
       "      <th>credit_card_type_Revolut</th>\n",
       "    </tr>\n",
       "  </thead>\n",
       "  <tbody>\n",
       "    <tr>\n",
       "      <td>0</td>\n",
       "      <td>1</td>\n",
       "      <td>23863</td>\n",
       "      <td>199.0</td>\n",
       "      <td>1</td>\n",
       "      <td>31.0</td>\n",
       "      <td>0</td>\n",
       "      <td>0</td>\n",
       "      <td>0</td>\n",
       "      <td>0</td>\n",
       "      <td>0</td>\n",
       "      <td>...</td>\n",
       "      <td>0</td>\n",
       "      <td>0</td>\n",
       "      <td>0</td>\n",
       "      <td>0</td>\n",
       "      <td>0</td>\n",
       "      <td>1</td>\n",
       "      <td>0</td>\n",
       "      <td>0</td>\n",
       "      <td>1</td>\n",
       "      <td>0</td>\n",
       "    </tr>\n",
       "    <tr>\n",
       "      <td>1</td>\n",
       "      <td>1</td>\n",
       "      <td>6530</td>\n",
       "      <td>125.0</td>\n",
       "      <td>0</td>\n",
       "      <td>42.0</td>\n",
       "      <td>1</td>\n",
       "      <td>0</td>\n",
       "      <td>0</td>\n",
       "      <td>0</td>\n",
       "      <td>0</td>\n",
       "      <td>...</td>\n",
       "      <td>0</td>\n",
       "      <td>0</td>\n",
       "      <td>0</td>\n",
       "      <td>0</td>\n",
       "      <td>1</td>\n",
       "      <td>0</td>\n",
       "      <td>0</td>\n",
       "      <td>0</td>\n",
       "      <td>1</td>\n",
       "      <td>0</td>\n",
       "    </tr>\n",
       "    <tr>\n",
       "      <td>2</td>\n",
       "      <td>0</td>\n",
       "      <td>5866</td>\n",
       "      <td>188.0</td>\n",
       "      <td>1</td>\n",
       "      <td>63.0</td>\n",
       "      <td>0</td>\n",
       "      <td>0</td>\n",
       "      <td>0</td>\n",
       "      <td>0</td>\n",
       "      <td>0</td>\n",
       "      <td>...</td>\n",
       "      <td>0</td>\n",
       "      <td>0</td>\n",
       "      <td>0</td>\n",
       "      <td>0</td>\n",
       "      <td>1</td>\n",
       "      <td>0</td>\n",
       "      <td>0</td>\n",
       "      <td>0</td>\n",
       "      <td>1</td>\n",
       "      <td>0</td>\n",
       "    </tr>\n",
       "    <tr>\n",
       "      <td>3</td>\n",
       "      <td>0</td>\n",
       "      <td>21954</td>\n",
       "      <td>299.0</td>\n",
       "      <td>1</td>\n",
       "      <td>26.0</td>\n",
       "      <td>0</td>\n",
       "      <td>0</td>\n",
       "      <td>0</td>\n",
       "      <td>1</td>\n",
       "      <td>0</td>\n",
       "      <td>...</td>\n",
       "      <td>0</td>\n",
       "      <td>0</td>\n",
       "      <td>0</td>\n",
       "      <td>0</td>\n",
       "      <td>0</td>\n",
       "      <td>0</td>\n",
       "      <td>0</td>\n",
       "      <td>0</td>\n",
       "      <td>0</td>\n",
       "      <td>1</td>\n",
       "    </tr>\n",
       "    <tr>\n",
       "      <td>4</td>\n",
       "      <td>0</td>\n",
       "      <td>168394</td>\n",
       "      <td>189.0</td>\n",
       "      <td>1</td>\n",
       "      <td>22.0</td>\n",
       "      <td>0</td>\n",
       "      <td>0</td>\n",
       "      <td>1</td>\n",
       "      <td>0</td>\n",
       "      <td>0</td>\n",
       "      <td>...</td>\n",
       "      <td>0</td>\n",
       "      <td>0</td>\n",
       "      <td>0</td>\n",
       "      <td>1</td>\n",
       "      <td>0</td>\n",
       "      <td>0</td>\n",
       "      <td>0</td>\n",
       "      <td>0</td>\n",
       "      <td>0</td>\n",
       "      <td>0</td>\n",
       "    </tr>\n",
       "  </tbody>\n",
       "</table>\n",
       "<p>5 rows × 21 columns</p>\n",
       "</div>"
      ],
      "text/plain": [
       "   sex  location_population  friends_number  sports_interests   Age  \\\n",
       "0    1                23863           199.0                 1  31.0   \n",
       "1    1                 6530           125.0                 0  42.0   \n",
       "2    0                 5866           188.0                 1  63.0   \n",
       "3    0                21954           299.0                 1  26.0   \n",
       "4    0               168394           189.0                 1  22.0   \n",
       "\n",
       "   occupation_clerks  occupation_managers  occupation_officers  \\\n",
       "0                  0                    0                    0   \n",
       "1                  1                    0                    0   \n",
       "2                  0                    0                    0   \n",
       "3                  0                    0                    0   \n",
       "4                  0                    0                    1   \n",
       "\n",
       "   occupation_professionals  relationship_status_Divorced  ...  \\\n",
       "0                         0                             0  ...   \n",
       "1                         0                             0  ...   \n",
       "2                         0                             0  ...   \n",
       "3                         1                             0  ...   \n",
       "4                         0                             0  ...   \n",
       "\n",
       "   relationship_status_Married with kids  relationship_status_Single  \\\n",
       "0                                      0                           0   \n",
       "1                                      0                           0   \n",
       "2                                      0                           0   \n",
       "3                                      0                           0   \n",
       "4                                      0                           0   \n",
       "\n",
       "   education_1.0  education_2.0  education_3.0  education_5.0  education_6.0  \\\n",
       "0              0              0              0              1              0   \n",
       "1              0              0              1              0              0   \n",
       "2              0              0              1              0              0   \n",
       "3              0              0              0              0              0   \n",
       "4              0              1              0              0              0   \n",
       "\n",
       "   credit_card_type_American Express  credit_card_type_Mastercard  \\\n",
       "0                                  0                            1   \n",
       "1                                  0                            1   \n",
       "2                                  0                            1   \n",
       "3                                  0                            0   \n",
       "4                                  0                            0   \n",
       "\n",
       "   credit_card_type_Revolut  \n",
       "0                         0  \n",
       "1                         0  \n",
       "2                         0  \n",
       "3                         1  \n",
       "4                         0  \n",
       "\n",
       "[5 rows x 21 columns]"
      ]
     },
     "execution_count": 140,
     "metadata": {},
     "output_type": "execute_result"
    }
   ],
   "source": [
    "X_test.head()"
   ]
  },
  {
   "cell_type": "markdown",
   "metadata": {},
   "source": [
    "### transformacja - standaryzacja"
   ]
  },
  {
   "cell_type": "code",
   "execution_count": 141,
   "metadata": {},
   "outputs": [],
   "source": [
    "from sklearn.preprocessing import StandardScaler"
   ]
  },
  {
   "cell_type": "code",
   "execution_count": 142,
   "metadata": {},
   "outputs": [],
   "source": [
    "std_cols=[\"location_population\",\"friends_number\",\"Age\"]"
   ]
  },
  {
   "cell_type": "code",
   "execution_count": 143,
   "metadata": {},
   "outputs": [],
   "source": [
    "scale = StandardScaler()"
   ]
  },
  {
   "cell_type": "code",
   "execution_count": 144,
   "metadata": {},
   "outputs": [
    {
     "data": {
      "text/plain": [
       "StandardScaler()"
      ]
     },
     "execution_count": 144,
     "metadata": {},
     "output_type": "execute_result"
    }
   ],
   "source": [
    "scale.fit(X_train[std_cols])"
   ]
  },
  {
   "cell_type": "code",
   "execution_count": 145,
   "metadata": {},
   "outputs": [],
   "source": [
    "# X_train"
   ]
  },
  {
   "cell_type": "code",
   "execution_count": 146,
   "metadata": {},
   "outputs": [],
   "source": [
    "X_train_scaled = pd.DataFrame(scale.transform(X_train[std_cols]), columns = ['location_population', 'freinds_number', 'Age'])"
   ]
  },
  {
   "cell_type": "code",
   "execution_count": 147,
   "metadata": {},
   "outputs": [
    {
     "data": {
      "text/html": [
       "<div>\n",
       "<style scoped>\n",
       "    .dataframe tbody tr th:only-of-type {\n",
       "        vertical-align: middle;\n",
       "    }\n",
       "\n",
       "    .dataframe tbody tr th {\n",
       "        vertical-align: top;\n",
       "    }\n",
       "\n",
       "    .dataframe thead th {\n",
       "        text-align: right;\n",
       "    }\n",
       "</style>\n",
       "<table border=\"1\" class=\"dataframe\">\n",
       "  <thead>\n",
       "    <tr style=\"text-align: right;\">\n",
       "      <th></th>\n",
       "      <th>location_population</th>\n",
       "      <th>freinds_number</th>\n",
       "      <th>Age</th>\n",
       "    </tr>\n",
       "  </thead>\n",
       "  <tbody>\n",
       "    <tr>\n",
       "      <td>count</td>\n",
       "      <td>2800.0</td>\n",
       "      <td>2800.0</td>\n",
       "      <td>2800.0</td>\n",
       "    </tr>\n",
       "    <tr>\n",
       "      <td>mean</td>\n",
       "      <td>-0.0</td>\n",
       "      <td>-0.0</td>\n",
       "      <td>0.0</td>\n",
       "    </tr>\n",
       "    <tr>\n",
       "      <td>std</td>\n",
       "      <td>1.0</td>\n",
       "      <td>1.0</td>\n",
       "      <td>1.0</td>\n",
       "    </tr>\n",
       "    <tr>\n",
       "      <td>min</td>\n",
       "      <td>-1.0</td>\n",
       "      <td>-2.0</td>\n",
       "      <td>-2.0</td>\n",
       "    </tr>\n",
       "    <tr>\n",
       "      <td>25%</td>\n",
       "      <td>-1.0</td>\n",
       "      <td>-1.0</td>\n",
       "      <td>-1.0</td>\n",
       "    </tr>\n",
       "    <tr>\n",
       "      <td>50%</td>\n",
       "      <td>-0.0</td>\n",
       "      <td>-0.0</td>\n",
       "      <td>0.0</td>\n",
       "    </tr>\n",
       "    <tr>\n",
       "      <td>75%</td>\n",
       "      <td>0.0</td>\n",
       "      <td>1.0</td>\n",
       "      <td>1.0</td>\n",
       "    </tr>\n",
       "    <tr>\n",
       "      <td>max</td>\n",
       "      <td>3.0</td>\n",
       "      <td>3.0</td>\n",
       "      <td>3.0</td>\n",
       "    </tr>\n",
       "  </tbody>\n",
       "</table>\n",
       "</div>"
      ],
      "text/plain": [
       "       location_population  freinds_number     Age\n",
       "count               2800.0          2800.0  2800.0\n",
       "mean                  -0.0            -0.0     0.0\n",
       "std                    1.0             1.0     1.0\n",
       "min                   -1.0            -2.0    -2.0\n",
       "25%                   -1.0            -1.0    -1.0\n",
       "50%                   -0.0            -0.0     0.0\n",
       "75%                    0.0             1.0     1.0\n",
       "max                    3.0             3.0     3.0"
      ]
     },
     "execution_count": 147,
     "metadata": {},
     "output_type": "execute_result"
    }
   ],
   "source": [
    "X_train_scaled.describe().round()"
   ]
  },
  {
   "cell_type": "code",
   "execution_count": 148,
   "metadata": {},
   "outputs": [],
   "source": [
    "X_train = pd.concat([X_train.drop(std_cols, axis=1), X_train_scaled], axis=1)"
   ]
  },
  {
   "cell_type": "code",
   "execution_count": 149,
   "metadata": {},
   "outputs": [],
   "source": [
    "# X_test"
   ]
  },
  {
   "cell_type": "code",
   "execution_count": 150,
   "metadata": {},
   "outputs": [],
   "source": [
    "X_test_scaled = pd.DataFrame(scale.transform(X_test[std_cols]), columns = ['location_population', 'freinds_number', 'Age'])"
   ]
  },
  {
   "cell_type": "code",
   "execution_count": 151,
   "metadata": {},
   "outputs": [],
   "source": [
    "X_test = pd.concat([X_test.drop(std_cols, axis=1), X_test_scaled], axis=1)"
   ]
  },
  {
   "cell_type": "code",
   "execution_count": 152,
   "metadata": {},
   "outputs": [
    {
     "data": {
      "text/html": [
       "<div>\n",
       "<style scoped>\n",
       "    .dataframe tbody tr th:only-of-type {\n",
       "        vertical-align: middle;\n",
       "    }\n",
       "\n",
       "    .dataframe tbody tr th {\n",
       "        vertical-align: top;\n",
       "    }\n",
       "\n",
       "    .dataframe thead th {\n",
       "        text-align: right;\n",
       "    }\n",
       "</style>\n",
       "<table border=\"1\" class=\"dataframe\">\n",
       "  <thead>\n",
       "    <tr style=\"text-align: right;\">\n",
       "      <th></th>\n",
       "      <th>sex</th>\n",
       "      <th>sports_interests</th>\n",
       "      <th>occupation_clerks</th>\n",
       "      <th>occupation_managers</th>\n",
       "      <th>occupation_officers</th>\n",
       "      <th>occupation_professionals</th>\n",
       "      <th>relationship_status_Divorced</th>\n",
       "      <th>relationship_status_Married</th>\n",
       "      <th>relationship_status_Married with kids</th>\n",
       "      <th>relationship_status_Single</th>\n",
       "      <th>...</th>\n",
       "      <th>education_2.0</th>\n",
       "      <th>education_3.0</th>\n",
       "      <th>education_5.0</th>\n",
       "      <th>education_6.0</th>\n",
       "      <th>credit_card_type_American Express</th>\n",
       "      <th>credit_card_type_Mastercard</th>\n",
       "      <th>credit_card_type_Revolut</th>\n",
       "      <th>location_population</th>\n",
       "      <th>freinds_number</th>\n",
       "      <th>Age</th>\n",
       "    </tr>\n",
       "  </thead>\n",
       "  <tbody>\n",
       "    <tr>\n",
       "      <td>0</td>\n",
       "      <td>0</td>\n",
       "      <td>1</td>\n",
       "      <td>0</td>\n",
       "      <td>0</td>\n",
       "      <td>0</td>\n",
       "      <td>1</td>\n",
       "      <td>0</td>\n",
       "      <td>0</td>\n",
       "      <td>0</td>\n",
       "      <td>0</td>\n",
       "      <td>...</td>\n",
       "      <td>0</td>\n",
       "      <td>0</td>\n",
       "      <td>0</td>\n",
       "      <td>0</td>\n",
       "      <td>0</td>\n",
       "      <td>0</td>\n",
       "      <td>0</td>\n",
       "      <td>-0.550215</td>\n",
       "      <td>-0.398494</td>\n",
       "      <td>-1.596614</td>\n",
       "    </tr>\n",
       "    <tr>\n",
       "      <td>1</td>\n",
       "      <td>1</td>\n",
       "      <td>1</td>\n",
       "      <td>0</td>\n",
       "      <td>0</td>\n",
       "      <td>1</td>\n",
       "      <td>0</td>\n",
       "      <td>0</td>\n",
       "      <td>0</td>\n",
       "      <td>0</td>\n",
       "      <td>1</td>\n",
       "      <td>...</td>\n",
       "      <td>1</td>\n",
       "      <td>0</td>\n",
       "      <td>0</td>\n",
       "      <td>0</td>\n",
       "      <td>0</td>\n",
       "      <td>0</td>\n",
       "      <td>0</td>\n",
       "      <td>-0.609667</td>\n",
       "      <td>0.032297</td>\n",
       "      <td>-1.674277</td>\n",
       "    </tr>\n",
       "    <tr>\n",
       "      <td>2</td>\n",
       "      <td>1</td>\n",
       "      <td>0</td>\n",
       "      <td>0</td>\n",
       "      <td>0</td>\n",
       "      <td>0</td>\n",
       "      <td>0</td>\n",
       "      <td>0</td>\n",
       "      <td>0</td>\n",
       "      <td>0</td>\n",
       "      <td>0</td>\n",
       "      <td>...</td>\n",
       "      <td>0</td>\n",
       "      <td>0</td>\n",
       "      <td>0</td>\n",
       "      <td>0</td>\n",
       "      <td>0</td>\n",
       "      <td>0</td>\n",
       "      <td>0</td>\n",
       "      <td>-0.618773</td>\n",
       "      <td>0.728191</td>\n",
       "      <td>0.111963</td>\n",
       "    </tr>\n",
       "    <tr>\n",
       "      <td>3</td>\n",
       "      <td>0</td>\n",
       "      <td>1</td>\n",
       "      <td>0</td>\n",
       "      <td>0</td>\n",
       "      <td>0</td>\n",
       "      <td>0</td>\n",
       "      <td>0</td>\n",
       "      <td>0</td>\n",
       "      <td>0</td>\n",
       "      <td>1</td>\n",
       "      <td>...</td>\n",
       "      <td>0</td>\n",
       "      <td>1</td>\n",
       "      <td>0</td>\n",
       "      <td>0</td>\n",
       "      <td>0</td>\n",
       "      <td>1</td>\n",
       "      <td>0</td>\n",
       "      <td>0.442626</td>\n",
       "      <td>-0.022932</td>\n",
       "      <td>-1.596614</td>\n",
       "    </tr>\n",
       "    <tr>\n",
       "      <td>4</td>\n",
       "      <td>0</td>\n",
       "      <td>1</td>\n",
       "      <td>0</td>\n",
       "      <td>0</td>\n",
       "      <td>0</td>\n",
       "      <td>1</td>\n",
       "      <td>0</td>\n",
       "      <td>0</td>\n",
       "      <td>0</td>\n",
       "      <td>0</td>\n",
       "      <td>...</td>\n",
       "      <td>0</td>\n",
       "      <td>0</td>\n",
       "      <td>0</td>\n",
       "      <td>0</td>\n",
       "      <td>0</td>\n",
       "      <td>1</td>\n",
       "      <td>0</td>\n",
       "      <td>-0.243923</td>\n",
       "      <td>-1.348444</td>\n",
       "      <td>-0.587000</td>\n",
       "    </tr>\n",
       "  </tbody>\n",
       "</table>\n",
       "<p>5 rows × 21 columns</p>\n",
       "</div>"
      ],
      "text/plain": [
       "   sex  sports_interests  occupation_clerks  occupation_managers  \\\n",
       "0    0                 1                  0                    0   \n",
       "1    1                 1                  0                    0   \n",
       "2    1                 0                  0                    0   \n",
       "3    0                 1                  0                    0   \n",
       "4    0                 1                  0                    0   \n",
       "\n",
       "   occupation_officers  occupation_professionals  \\\n",
       "0                    0                         1   \n",
       "1                    1                         0   \n",
       "2                    0                         0   \n",
       "3                    0                         0   \n",
       "4                    0                         1   \n",
       "\n",
       "   relationship_status_Divorced  relationship_status_Married  \\\n",
       "0                             0                            0   \n",
       "1                             0                            0   \n",
       "2                             0                            0   \n",
       "3                             0                            0   \n",
       "4                             0                            0   \n",
       "\n",
       "   relationship_status_Married with kids  relationship_status_Single  ...  \\\n",
       "0                                      0                           0  ...   \n",
       "1                                      0                           1  ...   \n",
       "2                                      0                           0  ...   \n",
       "3                                      0                           1  ...   \n",
       "4                                      0                           0  ...   \n",
       "\n",
       "   education_2.0  education_3.0  education_5.0  education_6.0  \\\n",
       "0              0              0              0              0   \n",
       "1              1              0              0              0   \n",
       "2              0              0              0              0   \n",
       "3              0              1              0              0   \n",
       "4              0              0              0              0   \n",
       "\n",
       "   credit_card_type_American Express  credit_card_type_Mastercard  \\\n",
       "0                                  0                            0   \n",
       "1                                  0                            0   \n",
       "2                                  0                            0   \n",
       "3                                  0                            1   \n",
       "4                                  0                            1   \n",
       "\n",
       "   credit_card_type_Revolut  location_population  freinds_number       Age  \n",
       "0                         0            -0.550215       -0.398494 -1.596614  \n",
       "1                         0            -0.609667        0.032297 -1.674277  \n",
       "2                         0            -0.618773        0.728191  0.111963  \n",
       "3                         0             0.442626       -0.022932 -1.596614  \n",
       "4                         0            -0.243923       -1.348444 -0.587000  \n",
       "\n",
       "[5 rows x 21 columns]"
      ]
     },
     "execution_count": 152,
     "metadata": {},
     "output_type": "execute_result"
    }
   ],
   "source": [
    "X_train.head()"
   ]
  },
  {
   "cell_type": "code",
   "execution_count": 153,
   "metadata": {},
   "outputs": [
    {
     "data": {
      "text/html": [
       "<div>\n",
       "<style scoped>\n",
       "    .dataframe tbody tr th:only-of-type {\n",
       "        vertical-align: middle;\n",
       "    }\n",
       "\n",
       "    .dataframe tbody tr th {\n",
       "        vertical-align: top;\n",
       "    }\n",
       "\n",
       "    .dataframe thead th {\n",
       "        text-align: right;\n",
       "    }\n",
       "</style>\n",
       "<table border=\"1\" class=\"dataframe\">\n",
       "  <thead>\n",
       "    <tr style=\"text-align: right;\">\n",
       "      <th></th>\n",
       "      <th>sex</th>\n",
       "      <th>sports_interests</th>\n",
       "      <th>occupation_clerks</th>\n",
       "      <th>occupation_managers</th>\n",
       "      <th>occupation_officers</th>\n",
       "      <th>occupation_professionals</th>\n",
       "      <th>relationship_status_Divorced</th>\n",
       "      <th>relationship_status_Married</th>\n",
       "      <th>relationship_status_Married with kids</th>\n",
       "      <th>relationship_status_Single</th>\n",
       "      <th>...</th>\n",
       "      <th>education_2.0</th>\n",
       "      <th>education_3.0</th>\n",
       "      <th>education_5.0</th>\n",
       "      <th>education_6.0</th>\n",
       "      <th>credit_card_type_American Express</th>\n",
       "      <th>credit_card_type_Mastercard</th>\n",
       "      <th>credit_card_type_Revolut</th>\n",
       "      <th>location_population</th>\n",
       "      <th>freinds_number</th>\n",
       "      <th>Age</th>\n",
       "    </tr>\n",
       "  </thead>\n",
       "  <tbody>\n",
       "    <tr>\n",
       "      <td>0</td>\n",
       "      <td>1</td>\n",
       "      <td>1</td>\n",
       "      <td>0</td>\n",
       "      <td>0</td>\n",
       "      <td>0</td>\n",
       "      <td>0</td>\n",
       "      <td>0</td>\n",
       "      <td>0</td>\n",
       "      <td>0</td>\n",
       "      <td>0</td>\n",
       "      <td>...</td>\n",
       "      <td>0</td>\n",
       "      <td>0</td>\n",
       "      <td>1</td>\n",
       "      <td>0</td>\n",
       "      <td>0</td>\n",
       "      <td>1</td>\n",
       "      <td>0</td>\n",
       "      <td>-0.591267</td>\n",
       "      <td>-0.011886</td>\n",
       "      <td>-0.897651</td>\n",
       "    </tr>\n",
       "    <tr>\n",
       "      <td>1</td>\n",
       "      <td>1</td>\n",
       "      <td>0</td>\n",
       "      <td>1</td>\n",
       "      <td>0</td>\n",
       "      <td>0</td>\n",
       "      <td>0</td>\n",
       "      <td>0</td>\n",
       "      <td>0</td>\n",
       "      <td>0</td>\n",
       "      <td>0</td>\n",
       "      <td>...</td>\n",
       "      <td>0</td>\n",
       "      <td>1</td>\n",
       "      <td>0</td>\n",
       "      <td>0</td>\n",
       "      <td>0</td>\n",
       "      <td>1</td>\n",
       "      <td>0</td>\n",
       "      <td>-0.626080</td>\n",
       "      <td>-0.829285</td>\n",
       "      <td>-0.043362</td>\n",
       "    </tr>\n",
       "    <tr>\n",
       "      <td>2</td>\n",
       "      <td>0</td>\n",
       "      <td>1</td>\n",
       "      <td>0</td>\n",
       "      <td>0</td>\n",
       "      <td>0</td>\n",
       "      <td>0</td>\n",
       "      <td>0</td>\n",
       "      <td>1</td>\n",
       "      <td>0</td>\n",
       "      <td>0</td>\n",
       "      <td>...</td>\n",
       "      <td>0</td>\n",
       "      <td>1</td>\n",
       "      <td>0</td>\n",
       "      <td>0</td>\n",
       "      <td>0</td>\n",
       "      <td>1</td>\n",
       "      <td>0</td>\n",
       "      <td>-0.627414</td>\n",
       "      <td>-0.133392</td>\n",
       "      <td>1.587553</td>\n",
       "    </tr>\n",
       "    <tr>\n",
       "      <td>3</td>\n",
       "      <td>0</td>\n",
       "      <td>1</td>\n",
       "      <td>0</td>\n",
       "      <td>0</td>\n",
       "      <td>0</td>\n",
       "      <td>1</td>\n",
       "      <td>0</td>\n",
       "      <td>1</td>\n",
       "      <td>0</td>\n",
       "      <td>0</td>\n",
       "      <td>...</td>\n",
       "      <td>0</td>\n",
       "      <td>0</td>\n",
       "      <td>0</td>\n",
       "      <td>0</td>\n",
       "      <td>0</td>\n",
       "      <td>0</td>\n",
       "      <td>1</td>\n",
       "      <td>-0.595102</td>\n",
       "      <td>1.092706</td>\n",
       "      <td>-1.285964</td>\n",
       "    </tr>\n",
       "    <tr>\n",
       "      <td>4</td>\n",
       "      <td>0</td>\n",
       "      <td>1</td>\n",
       "      <td>0</td>\n",
       "      <td>0</td>\n",
       "      <td>1</td>\n",
       "      <td>0</td>\n",
       "      <td>0</td>\n",
       "      <td>1</td>\n",
       "      <td>0</td>\n",
       "      <td>0</td>\n",
       "      <td>...</td>\n",
       "      <td>1</td>\n",
       "      <td>0</td>\n",
       "      <td>0</td>\n",
       "      <td>0</td>\n",
       "      <td>0</td>\n",
       "      <td>0</td>\n",
       "      <td>0</td>\n",
       "      <td>-0.300983</td>\n",
       "      <td>-0.122346</td>\n",
       "      <td>-1.596614</td>\n",
       "    </tr>\n",
       "  </tbody>\n",
       "</table>\n",
       "<p>5 rows × 21 columns</p>\n",
       "</div>"
      ],
      "text/plain": [
       "   sex  sports_interests  occupation_clerks  occupation_managers  \\\n",
       "0    1                 1                  0                    0   \n",
       "1    1                 0                  1                    0   \n",
       "2    0                 1                  0                    0   \n",
       "3    0                 1                  0                    0   \n",
       "4    0                 1                  0                    0   \n",
       "\n",
       "   occupation_officers  occupation_professionals  \\\n",
       "0                    0                         0   \n",
       "1                    0                         0   \n",
       "2                    0                         0   \n",
       "3                    0                         1   \n",
       "4                    1                         0   \n",
       "\n",
       "   relationship_status_Divorced  relationship_status_Married  \\\n",
       "0                             0                            0   \n",
       "1                             0                            0   \n",
       "2                             0                            1   \n",
       "3                             0                            1   \n",
       "4                             0                            1   \n",
       "\n",
       "   relationship_status_Married with kids  relationship_status_Single  ...  \\\n",
       "0                                      0                           0  ...   \n",
       "1                                      0                           0  ...   \n",
       "2                                      0                           0  ...   \n",
       "3                                      0                           0  ...   \n",
       "4                                      0                           0  ...   \n",
       "\n",
       "   education_2.0  education_3.0  education_5.0  education_6.0  \\\n",
       "0              0              0              1              0   \n",
       "1              0              1              0              0   \n",
       "2              0              1              0              0   \n",
       "3              0              0              0              0   \n",
       "4              1              0              0              0   \n",
       "\n",
       "   credit_card_type_American Express  credit_card_type_Mastercard  \\\n",
       "0                                  0                            1   \n",
       "1                                  0                            1   \n",
       "2                                  0                            1   \n",
       "3                                  0                            0   \n",
       "4                                  0                            0   \n",
       "\n",
       "   credit_card_type_Revolut  location_population  freinds_number       Age  \n",
       "0                         0            -0.591267       -0.011886 -0.897651  \n",
       "1                         0            -0.626080       -0.829285 -0.043362  \n",
       "2                         0            -0.627414       -0.133392  1.587553  \n",
       "3                         1            -0.595102        1.092706 -1.285964  \n",
       "4                         0            -0.300983       -0.122346 -1.596614  \n",
       "\n",
       "[5 rows x 21 columns]"
      ]
     },
     "execution_count": 153,
     "metadata": {},
     "output_type": "execute_result"
    }
   ],
   "source": [
    "X_test.head()"
   ]
  },
  {
   "cell_type": "markdown",
   "metadata": {},
   "source": [
    "## Wybór zmiennych "
   ]
  },
  {
   "cell_type": "code",
   "execution_count": 154,
   "metadata": {},
   "outputs": [],
   "source": [
    "corr = X_train.corr()\n",
    "matrix = np.triu(X_train.corr())"
   ]
  },
  {
   "cell_type": "code",
   "execution_count": 155,
   "metadata": {},
   "outputs": [
    {
     "data": {
      "text/plain": [
       "<matplotlib.axes._subplots.AxesSubplot at 0x2b4f0633588>"
      ]
     },
     "execution_count": 155,
     "metadata": {},
     "output_type": "execute_result"
    },
    {
     "data": {
      "image/png": "[encoded data removed]",
      "text/plain": [
       "<Figure size 1152x864 with 2 Axes>"
      ]
     },
     "metadata": {},
     "output_type": "display_data"
    }
   ],
   "source": [
    "sns.set(style=\"white\")\n",
    "fig, ax = plt.subplots(figsize=(16,12))\n",
    "\n",
    "sns.heatmap(corr, mask=matrix, annot=True)"
   ]
  },
  {
   "cell_type": "markdown",
   "metadata": {},
   "source": [
    "### smothe oversampling"
   ]
  },
  {
   "cell_type": "code",
   "execution_count": 156,
   "metadata": {},
   "outputs": [],
   "source": [
    "from imblearn.over_sampling import SMOTE"
   ]
  },
  {
   "cell_type": "code",
   "execution_count": 157,
   "metadata": {},
   "outputs": [],
   "source": [
    "smote = SMOTE(random_state=0, sampling_strategy=0.35)"
   ]
  },
  {
   "cell_type": "code",
   "execution_count": 158,
   "metadata": {},
   "outputs": [],
   "source": [
    "X_resampled, y_resampled = smote.fit_resample(X_train, y_train)"
   ]
  },
  {
   "cell_type": "code",
   "execution_count": 159,
   "metadata": {},
   "outputs": [
    {
     "data": {
      "text/plain": [
       "0    2232\n",
       "1     781\n",
       "Name: target, dtype: int64"
      ]
     },
     "execution_count": 159,
     "metadata": {},
     "output_type": "execute_result"
    }
   ],
   "source": [
    "y_resampled.value_counts()"
   ]
  },
  {
   "cell_type": "code",
   "execution_count": 160,
   "metadata": {},
   "outputs": [
    {
     "data": {
      "text/plain": [
       "0    0.74079\n",
       "1    0.25921\n",
       "Name: target, dtype: float64"
      ]
     },
     "execution_count": 160,
     "metadata": {},
     "output_type": "execute_result"
    }
   ],
   "source": [
    "y_resampled.value_counts(normalize=True)"
   ]
  },
  {
   "cell_type": "code",
   "execution_count": 161,
   "metadata": {},
   "outputs": [
    {
     "data": {
      "text/plain": [
       "0    0.797143\n",
       "1    0.202857\n",
       "Name: target, dtype: float64"
      ]
     },
     "execution_count": 161,
     "metadata": {},
     "output_type": "execute_result"
    }
   ],
   "source": [
    "y_train.value_counts(normalize=True)"
   ]
  },
  {
   "cell_type": "markdown",
   "metadata": {},
   "source": [
    "## Model regresji logistycznej "
   ]
  },
  {
   "cell_type": "code",
   "execution_count": 162,
   "metadata": {},
   "outputs": [],
   "source": [
    "from sklearn.linear_model import LogisticRegression"
   ]
  },
  {
   "cell_type": "code",
   "execution_count": 163,
   "metadata": {},
   "outputs": [],
   "source": [
    "lr1 = LogisticRegression(max_iter=1000, random_state=123)"
   ]
  },
  {
   "cell_type": "code",
   "execution_count": 164,
   "metadata": {},
   "outputs": [
    {
     "data": {
      "text/plain": [
       "LogisticRegression(max_iter=1000, random_state=123)"
      ]
     },
     "execution_count": 164,
     "metadata": {},
     "output_type": "execute_result"
    }
   ],
   "source": [
    "lr1.fit(X_resampled, y_resampled)"
   ]
  },
  {
   "cell_type": "code",
   "execution_count": 165,
   "metadata": {},
   "outputs": [],
   "source": [
    "y_pred = lr1.predict(X_test)"
   ]
  },
  {
   "cell_type": "code",
   "execution_count": 166,
   "metadata": {},
   "outputs": [
    {
     "data": {
      "text/plain": [
       "array([1, 0, 0, ..., 0, 0, 0], dtype=int64)"
      ]
     },
     "execution_count": 166,
     "metadata": {},
     "output_type": "execute_result"
    }
   ],
   "source": [
    "y_pred"
   ]
  },
  {
   "cell_type": "code",
   "execution_count": 167,
   "metadata": {},
   "outputs": [],
   "source": [
    "from sklearn.metrics import confusion_matrix"
   ]
  },
  {
   "cell_type": "code",
   "execution_count": 168,
   "metadata": {},
   "outputs": [],
   "source": [
    "confMatrix=confusion_matrix(y_test, y_pred)"
   ]
  },
  {
   "cell_type": "code",
   "execution_count": 169,
   "metadata": {},
   "outputs": [
    {
     "name": "stdout",
     "output_type": "stream",
     "text": [
      "\n",
      "Confusion Matrix :\n",
      "       Predicted 0 Predicted 1\n",
      "True 0         886          76\n",
      "True 1         156          82\n"
     ]
    }
   ],
   "source": [
    "confMatrix=pd.DataFrame(confMatrix)\n",
    "confMatrix.columns=[['Predicted 0','Predicted 1']]\n",
    "confMatrix.index=[['True 0','True 1']]\n",
    "print('')\n",
    "print('Confusion Matrix :')\n",
    "print(confMatrix)"
   ]
  },
  {
   "cell_type": "code",
   "execution_count": 170,
   "metadata": {},
   "outputs": [],
   "source": [
    "from sklearn.metrics import accuracy_score, recall_score, precision_score, f1_score, classification_report, roc_auc_score"
   ]
  },
  {
   "cell_type": "code",
   "execution_count": 171,
   "metadata": {},
   "outputs": [
    {
     "data": {
      "text/plain": [
       "0.8066666666666666"
      ]
     },
     "execution_count": 171,
     "metadata": {},
     "output_type": "execute_result"
    }
   ],
   "source": [
    "lr1_accuracy = accuracy_score(y_test, y_pred)\n",
    "lr1_accuracy"
   ]
  },
  {
   "cell_type": "code",
   "execution_count": 172,
   "metadata": {},
   "outputs": [
    {
     "data": {
      "text/plain": [
       "0.3445378151260504"
      ]
     },
     "execution_count": 172,
     "metadata": {},
     "output_type": "execute_result"
    }
   ],
   "source": [
    "lr1_recall = recall_score(y_test, y_pred)\n",
    "lr1_recall"
   ]
  },
  {
   "cell_type": "code",
   "execution_count": 173,
   "metadata": {},
   "outputs": [
    {
     "data": {
      "text/plain": [
       "0.5189873417721519"
      ]
     },
     "execution_count": 173,
     "metadata": {},
     "output_type": "execute_result"
    }
   ],
   "source": [
    "lr1_precision = precision_score(y_test, y_pred)\n",
    "lr1_precision"
   ]
  },
  {
   "cell_type": "code",
   "execution_count": 174,
   "metadata": {},
   "outputs": [
    {
     "data": {
      "text/plain": [
       "0.4141414141414141"
      ]
     },
     "execution_count": 174,
     "metadata": {},
     "output_type": "execute_result"
    }
   ],
   "source": [
    "lr1_f1 = f1_score(y_test, y_pred)\n",
    "lr1_f1"
   ]
  },
  {
   "cell_type": "markdown",
   "metadata": {},
   "source": [
    "### Raport klasyfikacji"
   ]
  },
  {
   "cell_type": "code",
   "execution_count": 175,
   "metadata": {},
   "outputs": [
    {
     "name": "stdout",
     "output_type": "stream",
     "text": [
      "              precision    recall  f1-score   support\n",
      "\n",
      "           0       0.85      0.92      0.88       962\n",
      "           1       0.52      0.34      0.41       238\n",
      "\n",
      "    accuracy                           0.81      1200\n",
      "   macro avg       0.68      0.63      0.65      1200\n",
      "weighted avg       0.78      0.81      0.79      1200\n",
      "\n"
     ]
    }
   ],
   "source": [
    "print(classification_report(y_test,y_pred))"
   ]
  },
  {
   "cell_type": "code",
   "execution_count": 176,
   "metadata": {},
   "outputs": [
    {
     "name": "stdout",
     "output_type": "stream",
     "text": [
      "              precision    recall  f1-score   support\n",
      "\n",
      "           0       0.83      0.93      0.88      2232\n",
      "           1       0.68      0.46      0.55       781\n",
      "\n",
      "    accuracy                           0.80      3013\n",
      "   macro avg       0.76      0.69      0.71      3013\n",
      "weighted avg       0.79      0.80      0.79      3013\n",
      "\n"
     ]
    }
   ],
   "source": [
    "y_pred_train = lr1.predict(X_resampled)\n",
    "print(classification_report(y_resampled,y_pred_train))"
   ]
  },
  {
   "cell_type": "code",
   "execution_count": 177,
   "metadata": {},
   "outputs": [
    {
     "name": "stdout",
     "output_type": "stream",
     "text": [
      "              precision    recall  f1-score   support\n",
      "\n",
      "           0       0.87      0.93      0.90      2232\n",
      "           1       0.61      0.45      0.52       568\n",
      "\n",
      "    accuracy                           0.83      2800\n",
      "   macro avg       0.74      0.69      0.71      2800\n",
      "weighted avg       0.82      0.83      0.82      2800\n",
      "\n"
     ]
    }
   ],
   "source": [
    "y_pred_train = lr1.predict(X_train)\n",
    "print(classification_report(y_train,y_pred_train))"
   ]
  },
  {
   "cell_type": "code",
   "execution_count": 178,
   "metadata": {},
   "outputs": [],
   "source": [
    "# model lepiej radzi sobie na danych treningowych - model niedouczony "
   ]
  },
  {
   "cell_type": "code",
   "execution_count": 179,
   "metadata": {},
   "outputs": [],
   "source": [
    "y_pred_proba = lr1.predict_proba(X_test)[:,1]"
   ]
  },
  {
   "cell_type": "code",
   "execution_count": 180,
   "metadata": {},
   "outputs": [
    {
     "data": {
      "text/plain": [
       "array([0.5829342 , 0.07223662, 0.04136463, ..., 0.00537989, 0.04940759,\n",
       "       0.14615812])"
      ]
     },
     "execution_count": 180,
     "metadata": {},
     "output_type": "execute_result"
    }
   ],
   "source": [
    "y_pred_proba"
   ]
  },
  {
   "cell_type": "code",
   "execution_count": 181,
   "metadata": {},
   "outputs": [],
   "source": [
    "from sklearn import metrics"
   ]
  },
  {
   "cell_type": "code",
   "execution_count": 182,
   "metadata": {},
   "outputs": [],
   "source": [
    "fpr, tpr, _ = metrics.roc_curve(y_test, y_pred_proba)"
   ]
  },
  {
   "cell_type": "code",
   "execution_count": 183,
   "metadata": {},
   "outputs": [
    {
     "data": {
      "image/png": "[encoded data removed]",
      "text/plain": [
       "<Figure size 432x288 with 1 Axes>"
      ]
     },
     "metadata": {},
     "output_type": "display_data"
    }
   ],
   "source": [
    "lr1_auc = metrics.roc_auc_score(y_test, y_pred_proba)\n",
    "plt.plot(fpr,tpr,label=\"AUC = \"+str(lr1_auc))\n",
    "plt.title('Krzywa ROC dla domyślnego modelu regresji logistycznej')\n",
    "plt.xlabel('False Positive Rate')\n",
    "plt.ylabel('Recall')\n",
    "plt.legend()\n",
    "plt.show()"
   ]
  },
  {
   "cell_type": "code",
   "execution_count": 184,
   "metadata": {},
   "outputs": [],
   "source": [
    "results1 = pd.DataFrame({\n",
    "    'model': ['RL'], \n",
    "    'accuracy': [lr1_accuracy],\n",
    "    'precision': [lr1_precision],\n",
    "    'recall': [lr1_recall],\n",
    "    'f1-score': [lr1_f1],\n",
    "    'auc': [lr1_auc]\n",
    "    })"
   ]
  },
  {
   "cell_type": "code",
   "execution_count": 185,
   "metadata": {},
   "outputs": [
    {
     "data": {
      "text/html": [
       "<div>\n",
       "<style scoped>\n",
       "    .dataframe tbody tr th:only-of-type {\n",
       "        vertical-align: middle;\n",
       "    }\n",
       "\n",
       "    .dataframe tbody tr th {\n",
       "        vertical-align: top;\n",
       "    }\n",
       "\n",
       "    .dataframe thead th {\n",
       "        text-align: right;\n",
       "    }\n",
       "</style>\n",
       "<table border=\"1\" class=\"dataframe\">\n",
       "  <thead>\n",
       "    <tr style=\"text-align: right;\">\n",
       "      <th></th>\n",
       "      <th>model</th>\n",
       "      <th>accuracy</th>\n",
       "      <th>precision</th>\n",
       "      <th>recall</th>\n",
       "      <th>f1-score</th>\n",
       "      <th>auc</th>\n",
       "    </tr>\n",
       "  </thead>\n",
       "  <tbody>\n",
       "    <tr>\n",
       "      <td>0</td>\n",
       "      <td>RL</td>\n",
       "      <td>0.806667</td>\n",
       "      <td>0.518987</td>\n",
       "      <td>0.344538</td>\n",
       "      <td>0.414141</td>\n",
       "      <td>0.763837</td>\n",
       "    </tr>\n",
       "  </tbody>\n",
       "</table>\n",
       "</div>"
      ],
      "text/plain": [
       "  model  accuracy  precision    recall  f1-score       auc\n",
       "0    RL  0.806667   0.518987  0.344538  0.414141  0.763837"
      ]
     },
     "execution_count": 185,
     "metadata": {},
     "output_type": "execute_result"
    }
   ],
   "source": [
    "results1"
   ]
  },
  {
   "cell_type": "markdown",
   "metadata": {},
   "source": [
    "### Regresja logistyczna z optymalizacją"
   ]
  },
  {
   "cell_type": "code",
   "execution_count": 186,
   "metadata": {},
   "outputs": [],
   "source": [
    "from sklearn.model_selection import GridSearchCV"
   ]
  },
  {
   "cell_type": "code",
   "execution_count": 187,
   "metadata": {},
   "outputs": [],
   "source": [
    "model = LogisticRegression(max_iter=1000, random_state=123)"
   ]
  },
  {
   "cell_type": "code",
   "execution_count": 188,
   "metadata": {},
   "outputs": [],
   "source": [
    "params = {\n",
    "    'solver': ['lbfgs', 'liblinear', 'newton-cg', 'sag', 'saga'],\n",
    "    'penalty': ['l1', 'l2', 'elasticnet'],\n",
    "    'C': [1000, 100, 10, 1.0, 0.1, 0.01, 0.001]\n",
    "}"
   ]
  },
  {
   "cell_type": "code",
   "execution_count": 189,
   "metadata": {},
   "outputs": [],
   "source": [
    "grid_search = GridSearchCV(estimator=model, param_grid=params, n_jobs=-1, cv=5, scoring='roc_auc')"
   ]
  },
  {
   "cell_type": "code",
   "execution_count": 190,
   "metadata": {},
   "outputs": [],
   "source": [
    "grid_result = grid_search.fit(X_resampled, y_resampled)"
   ]
  },
  {
   "cell_type": "code",
   "execution_count": 191,
   "metadata": {},
   "outputs": [
    {
     "name": "stdout",
     "output_type": "stream",
     "text": [
      "Best: 0.824782 using {'C': 0.1, 'penalty': 'l2', 'solver': 'liblinear'}\n"
     ]
    }
   ],
   "source": [
    "print(\"Best: %f using %s\" % (grid_result.best_score_, grid_result.best_params_))"
   ]
  },
  {
   "cell_type": "code",
   "execution_count": 192,
   "metadata": {},
   "outputs": [],
   "source": [
    "lr_opt = grid_result.best_estimator_"
   ]
  },
  {
   "cell_type": "code",
   "execution_count": 193,
   "metadata": {},
   "outputs": [
    {
     "data": {
      "text/plain": [
       "LogisticRegression(C=0.1, max_iter=1000, random_state=123, solver='liblinear')"
      ]
     },
     "execution_count": 193,
     "metadata": {},
     "output_type": "execute_result"
    }
   ],
   "source": [
    "lr_opt.fit(X_resampled,y_resampled)"
   ]
  },
  {
   "cell_type": "code",
   "execution_count": 194,
   "metadata": {},
   "outputs": [],
   "source": [
    "y_pred = lr_opt.predict(X_test)"
   ]
  },
  {
   "cell_type": "code",
   "execution_count": 195,
   "metadata": {},
   "outputs": [],
   "source": [
    "confMatrix=confusion_matrix(y_test, y_pred)"
   ]
  },
  {
   "cell_type": "code",
   "execution_count": 196,
   "metadata": {},
   "outputs": [
    {
     "name": "stdout",
     "output_type": "stream",
     "text": [
      "\n",
      "Confusion Matrix :\n",
      "       Predicted 0 Predicted 1\n",
      "True 0         901          61\n",
      "True 1         158          80\n"
     ]
    }
   ],
   "source": [
    "confMatrix=pd.DataFrame(confMatrix)\n",
    "confMatrix.columns=[['Predicted 0','Predicted 1']]\n",
    "confMatrix.index=[['True 0','True 1']]\n",
    "print('')\n",
    "print('Confusion Matrix :')\n",
    "print(confMatrix)"
   ]
  },
  {
   "cell_type": "code",
   "execution_count": 197,
   "metadata": {},
   "outputs": [],
   "source": [
    "lr_opt_accuracy = accuracy_score(y_test, y_pred)\n",
    "lr_opt_recall = recall_score(y_test, y_pred)\n",
    "lr_opt_precision = precision_score(y_test, y_pred)\n",
    "lr_opt_f1 = f1_score(y_test, y_pred)"
   ]
  },
  {
   "cell_type": "code",
   "execution_count": 198,
   "metadata": {},
   "outputs": [
    {
     "name": "stdout",
     "output_type": "stream",
     "text": [
      "              precision    recall  f1-score   support\n",
      "\n",
      "           0       0.85      0.94      0.89       962\n",
      "           1       0.57      0.34      0.42       238\n",
      "\n",
      "    accuracy                           0.82      1200\n",
      "   macro avg       0.71      0.64      0.66      1200\n",
      "weighted avg       0.79      0.82      0.80      1200\n",
      "\n"
     ]
    }
   ],
   "source": [
    "print(classification_report(y_test,y_pred))"
   ]
  },
  {
   "cell_type": "code",
   "execution_count": 199,
   "metadata": {},
   "outputs": [],
   "source": [
    "# bardzo zbliżone miary do poprzedniego modelu "
   ]
  },
  {
   "cell_type": "code",
   "execution_count": 200,
   "metadata": {},
   "outputs": [
    {
     "name": "stdout",
     "output_type": "stream",
     "text": [
      "              precision    recall  f1-score   support\n",
      "\n",
      "           0       0.87      0.94      0.90      2232\n",
      "           1       0.64      0.43      0.51       568\n",
      "\n",
      "    accuracy                           0.83      2800\n",
      "   macro avg       0.75      0.68      0.71      2800\n",
      "weighted avg       0.82      0.83      0.82      2800\n",
      "\n"
     ]
    }
   ],
   "source": [
    "y_pred_train = lr_opt.predict(X_train)\n",
    "print(classification_report(y_train,y_pred_train))"
   ]
  },
  {
   "cell_type": "code",
   "execution_count": 201,
   "metadata": {},
   "outputs": [],
   "source": [
    "# model lepiej radzi sobie na danych treningowych - model niedouczony "
   ]
  },
  {
   "cell_type": "markdown",
   "metadata": {},
   "source": [
    "#### Krzywa ROC "
   ]
  },
  {
   "cell_type": "code",
   "execution_count": 202,
   "metadata": {},
   "outputs": [],
   "source": [
    "y_preds_lr_opt = lr_opt.predict_proba(X_test)[:,1]"
   ]
  },
  {
   "cell_type": "code",
   "execution_count": 203,
   "metadata": {},
   "outputs": [],
   "source": [
    "lr_opt_auc = roc_auc_score(y_test, y_preds_lr_opt)"
   ]
  },
  {
   "cell_type": "code",
   "execution_count": 204,
   "metadata": {},
   "outputs": [],
   "source": [
    "fpr_lr_opt, tpr_lr_opt, _ = metrics.roc_curve(y_test, y_preds_lr_opt)"
   ]
  },
  {
   "cell_type": "code",
   "execution_count": 205,
   "metadata": {},
   "outputs": [
    {
     "data": {
      "image/png": "[encoded data removed]",
      "text/plain": [
       "<Figure size 432x288 with 1 Axes>"
      ]
     },
     "metadata": {},
     "output_type": "display_data"
    }
   ],
   "source": [
    "plt.plot(fpr,tpr,label=\"AUC RL default = \"+str(lr1_auc))\n",
    "plt.plot(fpr_lr_opt,tpr_lr_opt,label=\"AUC RL opt = \"+str(lr_opt_auc))\n",
    "plt.title('Krzywa ROC dla domyślnego modelu regresji logistycznej')\n",
    "plt.xlabel('False Positive Rate')\n",
    "plt.ylabel('Recall')\n",
    "plt.legend()\n",
    "plt.show()"
   ]
  },
  {
   "cell_type": "code",
   "execution_count": 206,
   "metadata": {},
   "outputs": [],
   "source": [
    "## Bardzo niewielki wzrost miary AUC po optymalizacji"
   ]
  },
  {
   "cell_type": "code",
   "execution_count": 207,
   "metadata": {},
   "outputs": [],
   "source": [
    "results2 = pd.DataFrame({\n",
    "    'model': ['RL opt'], \n",
    "    'accuracy': [lr_opt_accuracy],\n",
    "    'precision': [lr_opt_precision],\n",
    "    'recall': [lr_opt_recall],\n",
    "    'f1-score': [lr_opt_f1],\n",
    "    'auc': [lr_opt_auc]\n",
    "    })"
   ]
  },
  {
   "cell_type": "code",
   "execution_count": 208,
   "metadata": {},
   "outputs": [
    {
     "data": {
      "text/html": [
       "<div>\n",
       "<style scoped>\n",
       "    .dataframe tbody tr th:only-of-type {\n",
       "        vertical-align: middle;\n",
       "    }\n",
       "\n",
       "    .dataframe tbody tr th {\n",
       "        vertical-align: top;\n",
       "    }\n",
       "\n",
       "    .dataframe thead th {\n",
       "        text-align: right;\n",
       "    }\n",
       "</style>\n",
       "<table border=\"1\" class=\"dataframe\">\n",
       "  <thead>\n",
       "    <tr style=\"text-align: right;\">\n",
       "      <th></th>\n",
       "      <th>model</th>\n",
       "      <th>accuracy</th>\n",
       "      <th>precision</th>\n",
       "      <th>recall</th>\n",
       "      <th>f1-score</th>\n",
       "      <th>auc</th>\n",
       "    </tr>\n",
       "  </thead>\n",
       "  <tbody>\n",
       "    <tr>\n",
       "      <td>0</td>\n",
       "      <td>RL opt</td>\n",
       "      <td>0.8175</td>\n",
       "      <td>0.567376</td>\n",
       "      <td>0.336134</td>\n",
       "      <td>0.422164</td>\n",
       "      <td>0.765837</td>\n",
       "    </tr>\n",
       "  </tbody>\n",
       "</table>\n",
       "</div>"
      ],
      "text/plain": [
       "    model  accuracy  precision    recall  f1-score       auc\n",
       "0  RL opt    0.8175   0.567376  0.336134  0.422164  0.765837"
      ]
     },
     "execution_count": 208,
     "metadata": {},
     "output_type": "execute_result"
    }
   ],
   "source": [
    "results2"
   ]
  },
  {
   "cell_type": "markdown",
   "metadata": {},
   "source": [
    "### Drzewo decyzyjne "
   ]
  },
  {
   "cell_type": "code",
   "execution_count": 209,
   "metadata": {},
   "outputs": [],
   "source": [
    "from sklearn.tree import DecisionTreeClassifier"
   ]
  },
  {
   "cell_type": "code",
   "execution_count": 210,
   "metadata": {},
   "outputs": [],
   "source": [
    "dt = DecisionTreeClassifier(random_state=42)"
   ]
  },
  {
   "cell_type": "code",
   "execution_count": 211,
   "metadata": {},
   "outputs": [],
   "source": [
    "params = {\n",
    "    'max_depth': np.arange(2,20),\n",
    "    'min_samples_leaf': np.arange(5,101),\n",
    "    'min_samples_split': np.arange(5,26),\n",
    "    'criterion': [\"gini\", \"entropy\"],\n",
    "    'max_features': np.arange(5,18)\n",
    "}"
   ]
  },
  {
   "cell_type": "code",
   "execution_count": 212,
   "metadata": {},
   "outputs": [],
   "source": [
    "from sklearn.model_selection import RandomizedSearchCV"
   ]
  },
  {
   "cell_type": "code",
   "execution_count": 213,
   "metadata": {},
   "outputs": [],
   "source": [
    "random_search = RandomizedSearchCV(estimator=dt, \n",
    "                           param_distributions=params, \n",
    "                           cv=5, n_jobs=-1, scoring = \"roc_auc\", n_iter=1000, random_state=123)"
   ]
  },
  {
   "cell_type": "code",
   "execution_count": 214,
   "metadata": {},
   "outputs": [
    {
     "data": {
      "text/plain": [
       "RandomizedSearchCV(cv=5, estimator=DecisionTreeClassifier(random_state=42),\n",
       "                   n_iter=1000, n_jobs=-1,\n",
       "                   param_distributions={'criterion': ['gini', 'entropy'],\n",
       "                                        'max_depth': array([ 2,  3,  4,  5,  6,  7,  8,  9, 10, 11, 12, 13, 14, 15, 16, 17, 18,\n",
       "       19]),\n",
       "                                        'max_features': array([ 5,  6,  7,  8,  9, 10, 11, 12, 13, 14, 15, 16, 17]),\n",
       "                                        'min_samples_leaf': array([  5,   6,   7,   8,   9,  10,  11,  12,  13,  14,  15,  16,  17,\n",
       "        18,  19,  20,  21,  22,  23...6,  27,  28,  29,  30,\n",
       "        31,  32,  33,  34,  35,  36,  37,  38,  39,  40,  41,  42,  43,\n",
       "        44,  45,  46,  47,  48,  49,  50,  51,  52,  53,  54,  55,  56,\n",
       "        57,  58,  59,  60,  61,  62,  63,  64,  65,  66,  67,  68,  69,\n",
       "        70,  71,  72,  73,  74,  75,  76,  77,  78,  79,  80,  81,  82,\n",
       "        83,  84,  85,  86,  87,  88,  89,  90,  91,  92,  93,  94,  95,\n",
       "        96,  97,  98,  99, 100]),\n",
       "                                        'min_samples_split': array([ 5,  6,  7,  8,  9, 10, 11, 12, 13, 14, 15, 16, 17, 18, 19, 20, 21,\n",
       "       22, 23, 24, 25])},\n",
       "                   random_state=123, scoring='roc_auc')"
      ]
     },
     "execution_count": 214,
     "metadata": {},
     "output_type": "execute_result"
    }
   ],
   "source": [
    "random_search.fit(X_resampled, y_resampled)"
   ]
  },
  {
   "cell_type": "code",
   "execution_count": 215,
   "metadata": {},
   "outputs": [
    {
     "name": "stdout",
     "output_type": "stream",
     "text": [
      "Best: 0.872308 using {'min_samples_split': 16, 'min_samples_leaf': 36, 'max_features': 16, 'max_depth': 14, 'criterion': 'entropy'}\n"
     ]
    }
   ],
   "source": [
    "print(\"Best: %f using %s\" % (random_search.best_score_, random_search.best_params_))"
   ]
  },
  {
   "cell_type": "code",
   "execution_count": 216,
   "metadata": {},
   "outputs": [],
   "source": [
    "dt_opt = random_search.best_estimator_"
   ]
  },
  {
   "cell_type": "code",
   "execution_count": 217,
   "metadata": {},
   "outputs": [],
   "source": [
    "y_pred = dt_opt.predict(X_test)"
   ]
  },
  {
   "cell_type": "code",
   "execution_count": 218,
   "metadata": {},
   "outputs": [],
   "source": [
    "confMatrix=confusion_matrix(y_test, y_pred)"
   ]
  },
  {
   "cell_type": "code",
   "execution_count": 219,
   "metadata": {},
   "outputs": [
    {
     "name": "stdout",
     "output_type": "stream",
     "text": [
      "\n",
      "Confusion Matrix :\n",
      "       Predicted 0 Predicted 1\n",
      "True 0         868          94\n",
      "True 1         132         106\n"
     ]
    }
   ],
   "source": [
    "confMatrix=pd.DataFrame(confMatrix)\n",
    "confMatrix.columns=[['Predicted 0','Predicted 1']]\n",
    "confMatrix.index=[['True 0','True 1']]\n",
    "print('')\n",
    "print('Confusion Matrix :')\n",
    "print(confMatrix)"
   ]
  },
  {
   "cell_type": "code",
   "execution_count": 220,
   "metadata": {},
   "outputs": [],
   "source": [
    "dt_opt_recall = recall_score(y_test, y_pred)\n",
    "dt_opt_precision = precision_score(y_test, y_pred)\n",
    "dt_opt_f1 = f1_score(y_test, y_pred)\n",
    "dt_opt_accuracy = accuracy_score(y_test, y_pred)"
   ]
  },
  {
   "cell_type": "code",
   "execution_count": 221,
   "metadata": {},
   "outputs": [
    {
     "name": "stdout",
     "output_type": "stream",
     "text": [
      "              precision    recall  f1-score   support\n",
      "\n",
      "           0       0.87      0.90      0.88       962\n",
      "           1       0.53      0.45      0.48       238\n",
      "\n",
      "    accuracy                           0.81      1200\n",
      "   macro avg       0.70      0.67      0.68      1200\n",
      "weighted avg       0.80      0.81      0.81      1200\n",
      "\n"
     ]
    }
   ],
   "source": [
    "print(classification_report(y_test,y_pred))"
   ]
  },
  {
   "cell_type": "code",
   "execution_count": 222,
   "metadata": {},
   "outputs": [
    {
     "name": "stdout",
     "output_type": "stream",
     "text": [
      "              precision    recall  f1-score   support\n",
      "\n",
      "           0       0.90      0.93      0.92      2232\n",
      "           1       0.69      0.59      0.64       568\n",
      "\n",
      "    accuracy                           0.86      2800\n",
      "   macro avg       0.79      0.76      0.78      2800\n",
      "weighted avg       0.86      0.86      0.86      2800\n",
      "\n"
     ]
    }
   ],
   "source": [
    "y_pred_train = dt_opt.predict(X_train)\n",
    "print(classification_report(y_train,y_pred_train))"
   ]
  },
  {
   "cell_type": "code",
   "execution_count": 223,
   "metadata": {},
   "outputs": [],
   "source": [
    "## model lepiej radzi sobie na danych treningowych niz testowych - model przeuczony "
   ]
  },
  {
   "cell_type": "markdown",
   "metadata": {},
   "source": [
    "#### Krzywa ROC"
   ]
  },
  {
   "cell_type": "code",
   "execution_count": 224,
   "metadata": {},
   "outputs": [],
   "source": [
    "y_preds_dt_opt = dt_opt.predict_proba(X_test)[:,1]"
   ]
  },
  {
   "cell_type": "code",
   "execution_count": 225,
   "metadata": {},
   "outputs": [],
   "source": [
    "dt_opt_auc = roc_auc_score(y_test, y_preds_dt_opt)"
   ]
  },
  {
   "cell_type": "code",
   "execution_count": 226,
   "metadata": {},
   "outputs": [],
   "source": [
    "fpr_dt_opt, tpr_dt_opt, _ = metrics.roc_curve(y_test, y_preds_dt_opt)"
   ]
  },
  {
   "cell_type": "code",
   "execution_count": 227,
   "metadata": {},
   "outputs": [
    {
     "data": {
      "image/png": "[encoded data removed]",
      "text/plain": [
       "<Figure size 432x288 with 1 Axes>"
      ]
     },
     "metadata": {},
     "output_type": "display_data"
    }
   ],
   "source": [
    "plt.plot(fpr_dt_opt,tpr_dt_opt,label=\"AUC DT opt = \"+str(dt_opt_auc))\n",
    "plt.title('Krzywa ROC dla zoptymalizowanego modelu drzewa decyzyjnego')\n",
    "plt.xlabel('False Positive Rate')\n",
    "plt.ylabel('Recall')\n",
    "plt.legend()\n",
    "plt.show()"
   ]
  },
  {
   "cell_type": "code",
   "execution_count": 228,
   "metadata": {},
   "outputs": [],
   "source": [
    "results3 = pd.DataFrame({\n",
    "    'model': ['Decision tree opt'], \n",
    "    'accuracy': [dt_opt_auc],\n",
    "    'precision': [dt_opt_precision],\n",
    "    'recall': [dt_opt_recall],\n",
    "    'f1-score': [dt_opt_f1],\n",
    "    'auc': [dt_opt_auc]\n",
    "    })"
   ]
  },
  {
   "cell_type": "code",
   "execution_count": 229,
   "metadata": {},
   "outputs": [
    {
     "data": {
      "text/html": [
       "<div>\n",
       "<style scoped>\n",
       "    .dataframe tbody tr th:only-of-type {\n",
       "        vertical-align: middle;\n",
       "    }\n",
       "\n",
       "    .dataframe tbody tr th {\n",
       "        vertical-align: top;\n",
       "    }\n",
       "\n",
       "    .dataframe thead th {\n",
       "        text-align: right;\n",
       "    }\n",
       "</style>\n",
       "<table border=\"1\" class=\"dataframe\">\n",
       "  <thead>\n",
       "    <tr style=\"text-align: right;\">\n",
       "      <th></th>\n",
       "      <th>model</th>\n",
       "      <th>accuracy</th>\n",
       "      <th>precision</th>\n",
       "      <th>recall</th>\n",
       "      <th>f1-score</th>\n",
       "      <th>auc</th>\n",
       "    </tr>\n",
       "  </thead>\n",
       "  <tbody>\n",
       "    <tr>\n",
       "      <td>0</td>\n",
       "      <td>Decision tree opt</td>\n",
       "      <td>0.807594</td>\n",
       "      <td>0.53</td>\n",
       "      <td>0.445378</td>\n",
       "      <td>0.484018</td>\n",
       "      <td>0.807594</td>\n",
       "    </tr>\n",
       "  </tbody>\n",
       "</table>\n",
       "</div>"
      ],
      "text/plain": [
       "               model  accuracy  precision    recall  f1-score       auc\n",
       "0  Decision tree opt  0.807594       0.53  0.445378  0.484018  0.807594"
      ]
     },
     "execution_count": 229,
     "metadata": {},
     "output_type": "execute_result"
    }
   ],
   "source": [
    "results3"
   ]
  },
  {
   "cell_type": "markdown",
   "metadata": {},
   "source": [
    "### Budowa modelu lasu losowego "
   ]
  },
  {
   "cell_type": "code",
   "execution_count": 230,
   "metadata": {},
   "outputs": [],
   "source": [
    "from sklearn.ensemble import RandomForestClassifier"
   ]
  },
  {
   "cell_type": "code",
   "execution_count": 231,
   "metadata": {},
   "outputs": [],
   "source": [
    "params = {\n",
    "    'bootstrap': [True, False],\n",
    "    'n_estimators': np.arange(10,150,30),\n",
    "    'max_depth': np.arange(3,15),\n",
    "    'min_samples_leaf': np.arange(20,100),\n",
    "    'min_samples_split': np.arange(20,100),\n",
    "    'criterion': [\"gini\", \"entropy\"],\n",
    "    'max_features': ['log2', 'sqrt', None]\n",
    "}"
   ]
  },
  {
   "cell_type": "code",
   "execution_count": 232,
   "metadata": {},
   "outputs": [],
   "source": [
    "rfc = RandomForestClassifier(random_state=123)"
   ]
  },
  {
   "cell_type": "code",
   "execution_count": 233,
   "metadata": {},
   "outputs": [],
   "source": [
    "random_search = RandomizedSearchCV(estimator=rfc, \n",
    "                           param_distributions=params, \n",
    "                           cv=3, n_jobs=-1, scoring = \"roc_auc\", n_iter=200, random_state=123)"
   ]
  },
  {
   "cell_type": "code",
   "execution_count": 234,
   "metadata": {},
   "outputs": [
    {
     "data": {
      "text/plain": [
       "RandomizedSearchCV(cv=3, estimator=RandomForestClassifier(random_state=123),\n",
       "                   n_iter=200, n_jobs=-1,\n",
       "                   param_distributions={'bootstrap': [True, False],\n",
       "                                        'criterion': ['gini', 'entropy'],\n",
       "                                        'max_depth': array([ 3,  4,  5,  6,  7,  8,  9, 10, 11, 12, 13, 14]),\n",
       "                                        'max_features': ['log2', 'sqrt', None],\n",
       "                                        'min_samples_leaf': array([20, 21, 22, 23, 24, 25, 26, 27, 28, 29, 30, 31, 32, 33, 34, 35, 36,\n",
       "       37, 38, 39, 40, 41...\n",
       "       88, 89, 90, 91, 92, 93, 94, 95, 96, 97, 98, 99]),\n",
       "                                        'min_samples_split': array([20, 21, 22, 23, 24, 25, 26, 27, 28, 29, 30, 31, 32, 33, 34, 35, 36,\n",
       "       37, 38, 39, 40, 41, 42, 43, 44, 45, 46, 47, 48, 49, 50, 51, 52, 53,\n",
       "       54, 55, 56, 57, 58, 59, 60, 61, 62, 63, 64, 65, 66, 67, 68, 69, 70,\n",
       "       71, 72, 73, 74, 75, 76, 77, 78, 79, 80, 81, 82, 83, 84, 85, 86, 87,\n",
       "       88, 89, 90, 91, 92, 93, 94, 95, 96, 97, 98, 99]),\n",
       "                                        'n_estimators': array([ 10,  40,  70, 100, 130])},\n",
       "                   random_state=123, scoring='roc_auc')"
      ]
     },
     "execution_count": 234,
     "metadata": {},
     "output_type": "execute_result"
    }
   ],
   "source": [
    "random_search.fit(X_resampled, y_resampled)"
   ]
  },
  {
   "cell_type": "code",
   "execution_count": 235,
   "metadata": {},
   "outputs": [
    {
     "name": "stdout",
     "output_type": "stream",
     "text": [
      "Best: 0.883152 using {'n_estimators': 130, 'min_samples_split': 41, 'min_samples_leaf': 28, 'max_features': None, 'max_depth': 12, 'criterion': 'entropy', 'bootstrap': True}\n"
     ]
    }
   ],
   "source": [
    "print(\"Best: %f using %s\" % (random_search.best_score_, random_search.best_params_))"
   ]
  },
  {
   "cell_type": "code",
   "execution_count": 236,
   "metadata": {},
   "outputs": [],
   "source": [
    "rfc_opt = random_search.best_estimator_"
   ]
  },
  {
   "cell_type": "code",
   "execution_count": 237,
   "metadata": {},
   "outputs": [],
   "source": [
    "y_pred = rfc_opt.predict(X_test)"
   ]
  },
  {
   "cell_type": "code",
   "execution_count": 238,
   "metadata": {},
   "outputs": [],
   "source": [
    "confMatrix=confusion_matrix(y_test, y_pred)"
   ]
  },
  {
   "cell_type": "code",
   "execution_count": 239,
   "metadata": {},
   "outputs": [
    {
     "name": "stdout",
     "output_type": "stream",
     "text": [
      "\n",
      "Confusion Matrix :\n",
      "       Predicted 0 Predicted 1\n",
      "True 0         861         101\n",
      "True 1         115         123\n"
     ]
    }
   ],
   "source": [
    "confMatrix=pd.DataFrame(confMatrix)\n",
    "confMatrix.columns=[['Predicted 0','Predicted 1']]\n",
    "confMatrix.index=[['True 0','True 1']]\n",
    "print('')\n",
    "print('Confusion Matrix :')\n",
    "print(confMatrix)"
   ]
  },
  {
   "cell_type": "code",
   "execution_count": 240,
   "metadata": {},
   "outputs": [],
   "source": [
    "rf_opt_recall = recall_score(y_test, y_pred)\n",
    "rf_opt_precision = precision_score(y_test, y_pred)\n",
    "rf_opt_f1 = f1_score(y_test, y_pred)\n",
    "rf_opt_accuracy = accuracy_score(y_test, y_pred)"
   ]
  },
  {
   "cell_type": "code",
   "execution_count": 241,
   "metadata": {},
   "outputs": [
    {
     "name": "stdout",
     "output_type": "stream",
     "text": [
      "              precision    recall  f1-score   support\n",
      "\n",
      "           0       0.88      0.90      0.89       962\n",
      "           1       0.55      0.52      0.53       238\n",
      "\n",
      "    accuracy                           0.82      1200\n",
      "   macro avg       0.72      0.71      0.71      1200\n",
      "weighted avg       0.82      0.82      0.82      1200\n",
      "\n"
     ]
    }
   ],
   "source": [
    "print(classification_report(y_test,y_pred))"
   ]
  },
  {
   "cell_type": "code",
   "execution_count": 242,
   "metadata": {},
   "outputs": [
    {
     "name": "stdout",
     "output_type": "stream",
     "text": [
      "              precision    recall  f1-score   support\n",
      "\n",
      "           0       0.91      0.92      0.92      2232\n",
      "           1       0.67      0.65      0.66       568\n",
      "\n",
      "    accuracy                           0.86      2800\n",
      "   macro avg       0.79      0.78      0.79      2800\n",
      "weighted avg       0.86      0.86      0.86      2800\n",
      "\n"
     ]
    }
   ],
   "source": [
    "y_pred_train = rfc_opt.predict(X_train)\n",
    "print(classification_report(y_train,y_pred_train))"
   ]
  },
  {
   "cell_type": "code",
   "execution_count": 243,
   "metadata": {},
   "outputs": [],
   "source": [
    "## model lekko przeuczony "
   ]
  },
  {
   "cell_type": "code",
   "execution_count": 244,
   "metadata": {},
   "outputs": [],
   "source": [
    "y_preds_rf_opt = rfc_opt.predict_proba(X_test)[:,1]"
   ]
  },
  {
   "cell_type": "code",
   "execution_count": 245,
   "metadata": {},
   "outputs": [],
   "source": [
    "rf_opt_auc = roc_auc_score(y_test, y_preds_rf_opt)"
   ]
  },
  {
   "cell_type": "code",
   "execution_count": 246,
   "metadata": {},
   "outputs": [],
   "source": [
    "fpr_rf_opt, tpr_rf_opt, _ = metrics.roc_curve(y_test, y_preds_rf_opt)"
   ]
  },
  {
   "cell_type": "code",
   "execution_count": 247,
   "metadata": {},
   "outputs": [
    {
     "data": {
      "image/png": "[encoded data removed]",
      "text/plain": [
       "<Figure size 432x288 with 1 Axes>"
      ]
     },
     "metadata": {},
     "output_type": "display_data"
    }
   ],
   "source": [
    "plt.plot(fpr_rf_opt,tpr_rf_opt,label=\"AUC RF opt = \"+str(rf_opt_auc))\n",
    "plt.title('Krzywa ROC dla zoptymalizowanego modelu lasu losowego')\n",
    "plt.xlabel('False Positive Rate')\n",
    "plt.ylabel('Recall')\n",
    "plt.legend()\n",
    "plt.show()"
   ]
  },
  {
   "cell_type": "code",
   "execution_count": 248,
   "metadata": {},
   "outputs": [],
   "source": [
    "results4 = pd.DataFrame({\n",
    "    'model': ['Random forest opt'], \n",
    "    'accuracy': [rf_opt_accuracy],\n",
    "    'precision': [rf_opt_precision],\n",
    "    'recall': [rf_opt_recall],\n",
    "    'f1-score': [rf_opt_f1],\n",
    "    'auc': [rf_opt_auc]\n",
    "    })"
   ]
  },
  {
   "cell_type": "code",
   "execution_count": 249,
   "metadata": {},
   "outputs": [
    {
     "data": {
      "text/html": [
       "<div>\n",
       "<style scoped>\n",
       "    .dataframe tbody tr th:only-of-type {\n",
       "        vertical-align: middle;\n",
       "    }\n",
       "\n",
       "    .dataframe tbody tr th {\n",
       "        vertical-align: top;\n",
       "    }\n",
       "\n",
       "    .dataframe thead th {\n",
       "        text-align: right;\n",
       "    }\n",
       "</style>\n",
       "<table border=\"1\" class=\"dataframe\">\n",
       "  <thead>\n",
       "    <tr style=\"text-align: right;\">\n",
       "      <th></th>\n",
       "      <th>model</th>\n",
       "      <th>accuracy</th>\n",
       "      <th>precision</th>\n",
       "      <th>recall</th>\n",
       "      <th>f1-score</th>\n",
       "      <th>auc</th>\n",
       "    </tr>\n",
       "  </thead>\n",
       "  <tbody>\n",
       "    <tr>\n",
       "      <td>0</td>\n",
       "      <td>Random forest opt</td>\n",
       "      <td>0.82</td>\n",
       "      <td>0.549107</td>\n",
       "      <td>0.516807</td>\n",
       "      <td>0.532468</td>\n",
       "      <td>0.834049</td>\n",
       "    </tr>\n",
       "  </tbody>\n",
       "</table>\n",
       "</div>"
      ],
      "text/plain": [
       "               model  accuracy  precision    recall  f1-score       auc\n",
       "0  Random forest opt      0.82   0.549107  0.516807  0.532468  0.834049"
      ]
     },
     "execution_count": 249,
     "metadata": {},
     "output_type": "execute_result"
    }
   ],
   "source": [
    "results4"
   ]
  },
  {
   "cell_type": "markdown",
   "metadata": {},
   "source": [
    "### XGB - Random Search "
   ]
  },
  {
   "cell_type": "code",
   "execution_count": 250,
   "metadata": {},
   "outputs": [],
   "source": [
    "import xgboost as xgb\n",
    "from xgboost import XGBClassifier\n",
    "from sklearn.model_selection import RandomizedSearchCV"
   ]
  },
  {
   "cell_type": "code",
   "execution_count": 251,
   "metadata": {},
   "outputs": [],
   "source": [
    "params = {\n",
    "    'max_depth': np.arange(3,10),\n",
    "    'min_child_weight': np.arange(8,15),\n",
    "    'gamma': np.arange(0,0.5,0.1),\n",
    "    'subsample': [i/10 for i in range(6,11)],\n",
    "    'colsample_bytree': [i/10 for i in range(6,11)],\n",
    "    'reg_alpha':[1e-5, 1e-2, 0.1, 1, 100],\n",
    "    'n_estimators': np.arange(10,150,30),\n",
    "    'learning_rate': [0.01, 0.1, 0.2, 0.3]\n",
    "}"
   ]
  },
  {
   "cell_type": "code",
   "execution_count": 252,
   "metadata": {},
   "outputs": [],
   "source": [
    "xgb = XGBClassifier(objective= 'binary:logistic')"
   ]
  },
  {
   "cell_type": "code",
   "execution_count": 253,
   "metadata": {},
   "outputs": [],
   "source": [
    "random_search = RandomizedSearchCV(estimator=xgb, \n",
    "                           param_distributions=params, \n",
    "                           cv=5, n_jobs=-1, scoring = \"roc_auc\", n_iter=100, random_state=123)"
   ]
  },
  {
   "cell_type": "code",
   "execution_count": 254,
   "metadata": {},
   "outputs": [
    {
     "name": "stdout",
     "output_type": "stream",
     "text": [
      "[19:26:00] WARNING: C:/Users/Administrator/workspace/xgboost-win64_release_1.5.1/src/learner.cc:1115: Starting in XGBoost 1.3.0, the default evaluation metric used with the objective 'binary:logistic' was changed from 'error' to 'logloss'. Explicitly set eval_metric if you'd like to restore the old behavior.\n"
     ]
    },
    {
     "data": {
      "text/plain": [
       "RandomizedSearchCV(cv=5,\n",
       "                   estimator=XGBClassifier(base_score=None, booster=None,\n",
       "                                           colsample_bylevel=None,\n",
       "                                           colsample_bynode=None,\n",
       "                                           colsample_bytree=None,\n",
       "                                           enable_categorical=False, gamma=None,\n",
       "                                           gpu_id=None, importance_type=None,\n",
       "                                           interaction_constraints=None,\n",
       "                                           learning_rate=None,\n",
       "                                           max_delta_step=None, max_depth=None,\n",
       "                                           min_child_weight=None, missing=nan,\n",
       "                                           monotone_constraints...\n",
       "                   param_distributions={'colsample_bytree': [0.6, 0.7, 0.8, 0.9,\n",
       "                                                             1.0],\n",
       "                                        'gamma': array([0. , 0.1, 0.2, 0.3, 0.4]),\n",
       "                                        'learning_rate': [0.01, 0.1, 0.2, 0.3],\n",
       "                                        'max_depth': array([3, 4, 5, 6, 7, 8, 9]),\n",
       "                                        'min_child_weight': array([ 8,  9, 10, 11, 12, 13, 14]),\n",
       "                                        'n_estimators': array([ 10,  40,  70, 100, 130]),\n",
       "                                        'reg_alpha': [1e-05, 0.01, 0.1, 1, 100],\n",
       "                                        'subsample': [0.6, 0.7, 0.8, 0.9, 1.0]},\n",
       "                   random_state=123, scoring='roc_auc')"
      ]
     },
     "execution_count": 254,
     "metadata": {},
     "output_type": "execute_result"
    }
   ],
   "source": [
    "random_search.fit(X_resampled, y_resampled)"
   ]
  },
  {
   "cell_type": "code",
   "execution_count": 255,
   "metadata": {},
   "outputs": [
    {
     "name": "stdout",
     "output_type": "stream",
     "text": [
      "Best: 0.894118 using {'subsample': 0.9, 'reg_alpha': 0.1, 'n_estimators': 70, 'min_child_weight': 9, 'max_depth': 3, 'learning_rate': 0.1, 'gamma': 0.1, 'colsample_bytree': 0.7}\n"
     ]
    }
   ],
   "source": [
    "print(\"Best: %f using %s\" % (random_search.best_score_, random_search.best_params_))"
   ]
  },
  {
   "cell_type": "code",
   "execution_count": 256,
   "metadata": {},
   "outputs": [],
   "source": [
    "xgb_opt = random_search.best_estimator_"
   ]
  },
  {
   "cell_type": "code",
   "execution_count": 257,
   "metadata": {},
   "outputs": [
    {
     "name": "stdout",
     "output_type": "stream",
     "text": [
      "Best: 0.894118 using {'subsample': 0.9, 'reg_alpha': 0.1, 'n_estimators': 70, 'min_child_weight': 9, 'max_depth': 3, 'learning_rate': 0.1, 'gamma': 0.1, 'colsample_bytree': 0.7}\n"
     ]
    }
   ],
   "source": [
    "print(\"Best: %f using %s\" % (random_search.best_score_, random_search.best_params_))"
   ]
  },
  {
   "cell_type": "code",
   "execution_count": 258,
   "metadata": {},
   "outputs": [],
   "source": [
    "y_pred = xgb_opt.predict(X_test)"
   ]
  },
  {
   "cell_type": "code",
   "execution_count": 259,
   "metadata": {},
   "outputs": [],
   "source": [
    "xgb_opt_recall = recall_score(y_test, y_pred)\n",
    "xgb_opt_precision = precision_score(y_test, y_pred)\n",
    "xgb_opt_f1 = f1_score(y_test, y_pred)\n",
    "xgb_opt_accuracy = accuracy_score(y_test, y_pred)"
   ]
  },
  {
   "cell_type": "code",
   "execution_count": 260,
   "metadata": {},
   "outputs": [],
   "source": [
    "confMatrix=confusion_matrix(y_test, y_pred)"
   ]
  },
  {
   "cell_type": "code",
   "execution_count": 261,
   "metadata": {},
   "outputs": [
    {
     "name": "stdout",
     "output_type": "stream",
     "text": [
      "\n",
      "Confusion Matrix :\n",
      "       Predicted 0 Predicted 1\n",
      "True 0         867          95\n",
      "True 1         122         116\n"
     ]
    }
   ],
   "source": [
    "confMatrix=pd.DataFrame(confMatrix)\n",
    "confMatrix.columns=[['Predicted 0','Predicted 1']]\n",
    "confMatrix.index=[['True 0','True 1']]\n",
    "print('')\n",
    "print('Confusion Matrix :')\n",
    "print(confMatrix)"
   ]
  },
  {
   "cell_type": "code",
   "execution_count": 262,
   "metadata": {},
   "outputs": [
    {
     "name": "stdout",
     "output_type": "stream",
     "text": [
      "              precision    recall  f1-score   support\n",
      "\n",
      "           0       0.88      0.90      0.89       962\n",
      "           1       0.55      0.49      0.52       238\n",
      "\n",
      "    accuracy                           0.82      1200\n",
      "   macro avg       0.71      0.69      0.70      1200\n",
      "weighted avg       0.81      0.82      0.81      1200\n",
      "\n"
     ]
    }
   ],
   "source": [
    "print(classification_report(y_test,y_pred))"
   ]
  },
  {
   "cell_type": "code",
   "execution_count": 263,
   "metadata": {},
   "outputs": [
    {
     "name": "stdout",
     "output_type": "stream",
     "text": [
      "              precision    recall  f1-score   support\n",
      "\n",
      "           0       0.91      0.93      0.92      2232\n",
      "           1       0.70      0.62      0.66       568\n",
      "\n",
      "    accuracy                           0.87      2800\n",
      "   macro avg       0.80      0.78      0.79      2800\n",
      "weighted avg       0.86      0.87      0.87      2800\n",
      "\n"
     ]
    }
   ],
   "source": [
    "y_pred_train = xgb_opt.predict(X_train)\n",
    "print(classification_report(y_train,y_pred_train))"
   ]
  },
  {
   "cell_type": "code",
   "execution_count": 264,
   "metadata": {},
   "outputs": [],
   "source": [
    "## model wygląda na trochę przeuczony "
   ]
  },
  {
   "cell_type": "markdown",
   "metadata": {},
   "source": [
    "### Krzywa ROC "
   ]
  },
  {
   "cell_type": "code",
   "execution_count": 265,
   "metadata": {},
   "outputs": [],
   "source": [
    "y_preds_xgb_opt = xgb_opt.predict_proba(X_test)[:,1]"
   ]
  },
  {
   "cell_type": "code",
   "execution_count": 266,
   "metadata": {},
   "outputs": [],
   "source": [
    "xgb_opt_auc = roc_auc_score(y_test, y_preds_xgb_opt)"
   ]
  },
  {
   "cell_type": "code",
   "execution_count": 267,
   "metadata": {},
   "outputs": [],
   "source": [
    "fpr_xgb_opt, tpr_xgb_opt, _ = metrics.roc_curve(y_test, y_preds_xgb_opt)"
   ]
  },
  {
   "cell_type": "code",
   "execution_count": 268,
   "metadata": {},
   "outputs": [
    {
     "data": {
      "image/png": "[encoded data removed]",
      "text/plain": [
       "<Figure size 432x288 with 1 Axes>"
      ]
     },
     "metadata": {},
     "output_type": "display_data"
    }
   ],
   "source": [
    "plt.plot(fpr_xgb_opt,tpr_xgb_opt,label=\"AUC XGB opt = \"+str(xgb_opt_auc))\n",
    "plt.title('Krzywa ROC dla zoptymalizowanego modelu XGBoost')\n",
    "plt.xlabel('False Positive Rate')\n",
    "plt.ylabel('Recall')\n",
    "plt.legend()\n",
    "plt.show()"
   ]
  },
  {
   "cell_type": "code",
   "execution_count": 269,
   "metadata": {},
   "outputs": [],
   "source": [
    "results5 = pd.DataFrame({\n",
    "    'model': ['XGB opt'], \n",
    "    'accuracy': [xgb_opt_accuracy],\n",
    "    'precision': [xgb_opt_precision],\n",
    "    'recall': [xgb_opt_recall],\n",
    "    'f1-score': [xgb_opt_f1],\n",
    "    'auc': [xgb_opt_auc]\n",
    "    })"
   ]
  },
  {
   "cell_type": "code",
   "execution_count": 270,
   "metadata": {},
   "outputs": [
    {
     "data": {
      "text/html": [
       "<div>\n",
       "<style scoped>\n",
       "    .dataframe tbody tr th:only-of-type {\n",
       "        vertical-align: middle;\n",
       "    }\n",
       "\n",
       "    .dataframe tbody tr th {\n",
       "        vertical-align: top;\n",
       "    }\n",
       "\n",
       "    .dataframe thead th {\n",
       "        text-align: right;\n",
       "    }\n",
       "</style>\n",
       "<table border=\"1\" class=\"dataframe\">\n",
       "  <thead>\n",
       "    <tr style=\"text-align: right;\">\n",
       "      <th></th>\n",
       "      <th>model</th>\n",
       "      <th>accuracy</th>\n",
       "      <th>precision</th>\n",
       "      <th>recall</th>\n",
       "      <th>f1-score</th>\n",
       "      <th>auc</th>\n",
       "    </tr>\n",
       "  </thead>\n",
       "  <tbody>\n",
       "    <tr>\n",
       "      <td>0</td>\n",
       "      <td>XGB opt</td>\n",
       "      <td>0.819167</td>\n",
       "      <td>0.549763</td>\n",
       "      <td>0.487395</td>\n",
       "      <td>0.516704</td>\n",
       "      <td>0.848698</td>\n",
       "    </tr>\n",
       "  </tbody>\n",
       "</table>\n",
       "</div>"
      ],
      "text/plain": [
       "     model  accuracy  precision    recall  f1-score       auc\n",
       "0  XGB opt  0.819167   0.549763  0.487395  0.516704  0.848698"
      ]
     },
     "execution_count": 270,
     "metadata": {},
     "output_type": "execute_result"
    }
   ],
   "source": [
    "results5"
   ]
  },
  {
   "cell_type": "markdown",
   "metadata": {},
   "source": [
    "### Zestawienie modeli "
   ]
  },
  {
   "cell_type": "code",
   "execution_count": 271,
   "metadata": {},
   "outputs": [
    {
     "data": {
      "text/html": [
       "<div>\n",
       "<style scoped>\n",
       "    .dataframe tbody tr th:only-of-type {\n",
       "        vertical-align: middle;\n",
       "    }\n",
       "\n",
       "    .dataframe tbody tr th {\n",
       "        vertical-align: top;\n",
       "    }\n",
       "\n",
       "    .dataframe thead th {\n",
       "        text-align: right;\n",
       "    }\n",
       "</style>\n",
       "<table border=\"1\" class=\"dataframe\">\n",
       "  <thead>\n",
       "    <tr style=\"text-align: right;\">\n",
       "      <th></th>\n",
       "      <th>model</th>\n",
       "      <th>accuracy</th>\n",
       "      <th>precision</th>\n",
       "      <th>recall</th>\n",
       "      <th>f1-score</th>\n",
       "      <th>auc</th>\n",
       "    </tr>\n",
       "  </thead>\n",
       "  <tbody>\n",
       "    <tr>\n",
       "      <td>0</td>\n",
       "      <td>RL opt</td>\n",
       "      <td>0.817500</td>\n",
       "      <td>0.567376</td>\n",
       "      <td>0.336134</td>\n",
       "      <td>0.422164</td>\n",
       "      <td>0.765837</td>\n",
       "    </tr>\n",
       "    <tr>\n",
       "      <td>0</td>\n",
       "      <td>Decision tree opt</td>\n",
       "      <td>0.807594</td>\n",
       "      <td>0.530000</td>\n",
       "      <td>0.445378</td>\n",
       "      <td>0.484018</td>\n",
       "      <td>0.807594</td>\n",
       "    </tr>\n",
       "    <tr>\n",
       "      <td>0</td>\n",
       "      <td>Random forest opt</td>\n",
       "      <td>0.820000</td>\n",
       "      <td>0.549107</td>\n",
       "      <td>0.516807</td>\n",
       "      <td>0.532468</td>\n",
       "      <td>0.834049</td>\n",
       "    </tr>\n",
       "    <tr>\n",
       "      <td>0</td>\n",
       "      <td>XGB opt</td>\n",
       "      <td>0.819167</td>\n",
       "      <td>0.549763</td>\n",
       "      <td>0.487395</td>\n",
       "      <td>0.516704</td>\n",
       "      <td>0.848698</td>\n",
       "    </tr>\n",
       "  </tbody>\n",
       "</table>\n",
       "</div>"
      ],
      "text/plain": [
       "               model  accuracy  precision    recall  f1-score       auc\n",
       "0             RL opt  0.817500   0.567376  0.336134  0.422164  0.765837\n",
       "0  Decision tree opt  0.807594   0.530000  0.445378  0.484018  0.807594\n",
       "0  Random forest opt  0.820000   0.549107  0.516807  0.532468  0.834049\n",
       "0            XGB opt  0.819167   0.549763  0.487395  0.516704  0.848698"
      ]
     },
     "execution_count": 271,
     "metadata": {},
     "output_type": "execute_result"
    }
   ],
   "source": [
    "pd.concat([results2, results3, results4, results5])"
   ]
  },
  {
   "cell_type": "code",
   "execution_count": 272,
   "metadata": {},
   "outputs": [],
   "source": [
    "## najlepszy model to model lasu losowego - ma najwyższy recall i f1-score "
   ]
  }
 ],
 "metadata": {
  "kernelspec": {
   "display_name": "Python 3",
   "language": "python",
   "name": "python3"
  },
  "language_info": {
   "codemirror_mode": {
    "name": "ipython",
    "version": 3
   },
   "file_extension": ".py",
   "mimetype": "text/x-python",
   "name": "python",
   "nbconvert_exporter": "python",
   "pygments_lexer": "ipython3",
   "version": "3.7.4"
  }
 },
 "nbformat": 4,
 "nbformat_minor": 2
}
